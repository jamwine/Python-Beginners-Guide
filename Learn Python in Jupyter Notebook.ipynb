{
 "cells": [
  {
   "cell_type": "markdown",
   "metadata": {},
   "source": [
    "# Learn Python in Jupyter Notebook"
   ]
  },
  {
   "cell_type": "code",
   "execution_count": 1,
   "metadata": {},
   "outputs": [
    {
     "data": {
      "text/plain": [
       "12"
      ]
     },
     "execution_count": 1,
     "metadata": {},
     "output_type": "execute_result"
    }
   ],
   "source": [
    "# This is a Jupyter notebook used for Python. It consists of cells.\n",
    "# In order to execute the current cell, press Ctrl + Enter\n",
    "# In order to execute the current cell and switch to the next new cell, press Shift + Enter\n",
    "12"
   ]
  },
  {
   "cell_type": "markdown",
   "metadata": {
    "heading_collapsed": true
   },
   "source": [
    "## Arithmetic Operations"
   ]
  },
  {
   "cell_type": "code",
   "execution_count": 2,
   "metadata": {
    "hidden": true
   },
   "outputs": [
    {
     "data": {
      "text/plain": [
       "16"
      ]
     },
     "execution_count": 2,
     "metadata": {},
     "output_type": "execute_result"
    }
   ],
   "source": [
    "# Operation like a calculator\n",
    "45 - 29"
   ]
  },
  {
   "cell_type": "markdown",
   "metadata": {
    "hidden": true
   },
   "source": [
    "<div class=\"alert alert-info\">\n",
    "<li>Variables are used to store values. Here, <b><i>a,b,c,d,e,f,g</b></i> are the variables used to store arithmetic operations. <li><b>print()</b> is used to display the output. \n",
    "</div>"
   ]
  },
  {
   "cell_type": "code",
   "execution_count": 3,
   "metadata": {
    "hidden": true
   },
   "outputs": [
    {
     "name": "stdout",
     "output_type": "stream",
     "text": [
      "Addition 11+5 : 16\n",
      "Subtraction 11-5 : 6\n",
      "Multiplication 11*5 : 55\n",
      "Division 11/5 : 2.2\n",
      "Division (// returns quotient) 11//5 : 2\n",
      "Division (% returns remainder) 11%5 : 1\n",
      "Exponent 11**5 : 161051\n"
     ]
    }
   ],
   "source": [
    "a = 11 + 5  # addition\n",
    "print(\"Addition 11+5 :\", a)\n",
    "\n",
    "b = 11 - 5  # subtraction\n",
    "print(\"Subtraction 11-5 :\", b)\n",
    "\n",
    "c = 11 * 5  # multiplication\n",
    "print(\"Multiplication 11*5 :\", c)\n",
    "\n",
    "d = 11 / 5  # division\n",
    "print(\"Division 11/5 :\", d)\n",
    "\n",
    "e = 11 // 5  # returns quotient as result\n",
    "print(\"Division (// returns quotient) 11//5 :\", e)\n",
    "\n",
    "f = 11 % 5  # (modulus) returns remainder as result\n",
    "print(\"Division (% returns remainder) 11%5 :\", f)\n",
    "\n",
    "g = 11**5  # exponents\n",
    "print(\"Exponent 11**5 :\", g)"
   ]
  },
  {
   "cell_type": "markdown",
   "metadata": {
    "hidden": true
   },
   "source": [
    "<div class=\"alert alert-info\"><li>Remember, the arithmetic operations always follow the <b>PEDMAS</b> rule. Consider the two examples below:</div>"
   ]
  },
  {
   "cell_type": "code",
   "execution_count": 4,
   "metadata": {
    "hidden": true
   },
   "outputs": [
    {
     "name": "stdout",
     "output_type": "stream",
     "text": [
      "Result of 5+2*7-8/2**2+1 is : 18.0\n"
     ]
    }
   ],
   "source": [
    "print(\"Result of 5+2*7-8/2**2+1 is :\", 5 + 2 * 7 - 8 / 2**2 + 1)"
   ]
  },
  {
   "cell_type": "code",
   "execution_count": 5,
   "metadata": {
    "hidden": true
   },
   "outputs": [
    {
     "name": "stdout",
     "output_type": "stream",
     "text": [
      "Result of (5+2)*7-(8/2**2)+1 is : 48.0\n"
     ]
    }
   ],
   "source": [
    "print(\"Result of (5+2)*7-(8/2**2)+1 is :\", (5 + 2) * 7 - (8 / 2**2) + 1)"
   ]
  },
  {
   "cell_type": "markdown",
   "metadata": {
    "heading_collapsed": true
   },
   "source": [
    "## Boolean Operations"
   ]
  },
  {
   "cell_type": "code",
   "execution_count": 6,
   "metadata": {
    "hidden": true
   },
   "outputs": [
    {
     "name": "stdout",
     "output_type": "stream",
     "text": [
      "11 is greater than 5: True\n",
      "11 is less than 5: False\n",
      "\n",
      "11 is lesser than or equal to  5: False\n",
      "11 is greater than or equal to 5: True\n",
      "\n",
      "11 is equal to 5: False\n",
      "11 is not equal to 5: True\n"
     ]
    }
   ],
   "source": [
    "# Boolean expressions\n",
    "\n",
    "print(\"11 is greater than 5:\", 11 > 5)  # greater than\n",
    "print(\"11 is less than 5:\", 11 < 5)  # less than\n",
    "\n",
    "print(\"\\n11 is lesser than or equal to  5:\", 11 <= 5)  # less than equal to\n",
    "print(\"11 is greater than or equal to 5:\", 11 >= 5)  # greater than equal to\n",
    "\n",
    "print(\"\\n11 is equal to 5:\", 11 == 5)  # equal to\n",
    "print(\"11 is not equal to 5:\", 11 != 5)  # not equal to"
   ]
  },
  {
   "cell_type": "markdown",
   "metadata": {
    "hidden": true
   },
   "source": [
    "<div class=\"alert alert-info\"><li>Boolean operators (<i>AND</i>, <i>OR</i>, <i>NOT</i>)</div>"
   ]
  },
  {
   "cell_type": "code",
   "execution_count": 7,
   "metadata": {
    "hidden": true
   },
   "outputs": [
    {
     "name": "stdout",
     "output_type": "stream",
     "text": [
      "11>5 or 11<5:  True\n",
      "11>5 and 11<5:  False\n",
      "\n",
      "False or True:  True\n",
      "False and True:  False\n",
      "\n",
      "not(True):  False\n",
      "not(False):  True\n"
     ]
    }
   ],
   "source": [
    "# AND: Returns true only if both conditions are true\n",
    "# OR: Returns true if either one of both the conditions is true\n",
    "# NOT: reverses the result\n",
    "\n",
    "print(\"11>5 or 11<5: \", 11 > 5 or 11 < 5)\n",
    "print(\"11>5 and 11<5: \", 11 > 5 and 11 < 5)\n",
    "\n",
    "print(\"\\nFalse or True: \", False or True)\n",
    "print(\"False and True: \", False and True)\n",
    "\n",
    "print(\"\\nnot(True): \", not (True))\n",
    "print(\"not(False): \", not (False))"
   ]
  },
  {
   "cell_type": "markdown",
   "metadata": {},
   "source": [
    "## Data Structures"
   ]
  },
  {
   "cell_type": "markdown",
   "metadata": {
    "heading_collapsed": true
   },
   "source": [
    "### Strings"
   ]
  },
  {
   "cell_type": "markdown",
   "metadata": {
    "hidden": true
   },
   "source": [
    "<div class=\"alert alert-info\"><li>Strings can be specified using both <i>single</i> or <i>double</i> quotes. <li>Strings are immutable.</div>"
   ]
  },
  {
   "cell_type": "code",
   "execution_count": 8,
   "metadata": {
    "hidden": true
   },
   "outputs": [
    {
     "name": "stdout",
     "output_type": "stream",
     "text": [
      "x: Orange\n",
      "y: Yellow\n",
      "\n",
      "x==y: False\n",
      "x is y: False\n",
      "x!=y: True\n",
      "x<y: True\n",
      "x>y False\n",
      "1=='1': False\n"
     ]
    }
   ],
   "source": [
    "x = \"Orange\"  # using double quotes\n",
    "y = 'Yellow'  # using single quotes\n",
    "\n",
    "print(\"x:\", x)\n",
    "print(\"y:\", y)\n",
    "\n",
    "# equal to\n",
    "print(\"\\nx==y:\", x == y)\n",
    "\n",
    "# is statement is equivalent to ==\n",
    "print(\"x is y:\", x is y)\n",
    "\n",
    "# not equal to\n",
    "print(\"x!=y:\", x != y)\n",
    "\n",
    "# less than, returns true as 'o' comes before 'y'\n",
    "print(\"x<y:\", x < y)\n",
    "\n",
    "# greater than, returns false as 'o' comes before 'y'\n",
    "print(\"x>y\", x > y)\n",
    "\n",
    "# 1 is an integer while '1' is a string\n",
    "print(\"1=='1':\", 1 == '1')"
   ]
  },
  {
   "cell_type": "code",
   "execution_count": 9,
   "metadata": {
    "hidden": true
   },
   "outputs": [
    {
     "data": {
      "text/plain": [
       "''"
      ]
     },
     "execution_count": 9,
     "metadata": {},
     "output_type": "execute_result"
    }
   ],
   "source": [
    "# This is an empty string\n",
    "s = ''\n",
    "s"
   ]
  },
  {
   "cell_type": "code",
   "execution_count": 10,
   "metadata": {
    "hidden": true
   },
   "outputs": [
    {
     "name": "stdout",
     "output_type": "stream",
     "text": [
      "s1: abcdef\n",
      "s2: abcdef\n",
      "s1 == s2: True\n",
      "s1 is s2: True\n",
      "\n",
      "s3: abc-def\n",
      "s4: abc-def\n",
      "s3 == s4: True\n",
      "s3 is s4: False\n"
     ]
    }
   ],
   "source": [
    "# A String Peculiarity\n",
    "\n",
    "s1 = 'abcdef'\n",
    "s2 = 'abcdef'\n",
    "print('s1:', s1)\n",
    "print('s2:', s2)\n",
    "print(\"s1 == s2:\", s1 == s2)  # returns True\n",
    "print(\"s1 is s2:\", s1 is s2)  # returns True\n",
    "\n",
    "s3 = 'abc-def'\n",
    "s4 = 'abc-def'\n",
    "print('\\ns3:', s3)\n",
    "print('s4:', s4)\n",
    "print(\"s3 == s4:\", s3 == s4)  # returns True\n",
    "\n",
    "# returns False because of the introduction of special character\n",
    "print(\"s3 is s4:\", s3 is s4)"
   ]
  },
  {
   "cell_type": "markdown",
   "metadata": {
    "hidden": true
   },
   "source": [
    "<div class=\"alert alert-info\"><li><b>len()</b> is used to determine the length of specified variable, string, list, etc. <li>Spaces are also counted.</div>\n"
   ]
  },
  {
   "cell_type": "code",
   "execution_count": 11,
   "metadata": {
    "hidden": true
   },
   "outputs": [
    {
     "name": "stdout",
     "output_type": "stream",
     "text": [
      "s: This is a sample text.\n",
      "\n",
      "Length of the string 's' is: 22\n"
     ]
    }
   ],
   "source": [
    "s = \"This is a sample text.\"\n",
    "print(\"s:\", s)\n",
    "\n",
    "# special characters and white spaces are also counted\n",
    "print(\"\\nLength of the string 's' is:\", len(s))"
   ]
  },
  {
   "cell_type": "markdown",
   "metadata": {
    "hidden": true
   },
   "source": [
    "<div class=\"alert alert-info\"><li><b>in</b> operator is used to check whether a substring is present in the main string</div>"
   ]
  },
  {
   "cell_type": "code",
   "execution_count": 12,
   "metadata": {
    "hidden": true
   },
   "outputs": [
    {
     "name": "stdout",
     "output_type": "stream",
     "text": [
      "a: This is a sample string\n",
      "\n",
      "'sample' in a: True\n",
      "'test' in a: False\n",
      "'sample' not in a: False\n"
     ]
    }
   ],
   "source": [
    "a = \"This is a sample string\"\n",
    "print(\"a:\", a)\n",
    "\n",
    "print(\"\\n'sample' in a:\", 'sample' in a)\n",
    "print(\"'test' in a:\", 'test' in a)\n",
    "print(\"'sample' not in a:\", 'sample' not in a)  # not in means not a substring"
   ]
  },
  {
   "cell_type": "markdown",
   "metadata": {
    "hidden": true
   },
   "source": [
    "<div class=\"alert alert-info\"><li>Indexes in string</div>"
   ]
  },
  {
   "cell_type": "code",
   "execution_count": 13,
   "metadata": {
    "hidden": true
   },
   "outputs": [
    {
     "name": "stdout",
     "output_type": "stream",
     "text": [
      "s: Some text\n",
      "len(s): 9\n",
      "\n",
      "First character, s[0]: S\n",
      "\n",
      "Character at index position 7, s[7]: x\n",
      "\n",
      "Last character, ,s[length-1]: t\n",
      "\n",
      "Last character using negative indexing, s[-1]: t\n",
      "\n",
      "Character at index position 4 from the end, s[-4]: t\n",
      "\n",
      "First character, s[-(length)]: S\n"
     ]
    }
   ],
   "source": [
    "s = \"Some text\"\n",
    "print(\"s:\", s)\n",
    "length = len(s)\n",
    "print(\"len(s):\", length)\n",
    "\n",
    "print(\"\\nFirst character, s[0]:\", s[0])  # first character\n",
    "\n",
    "# fetches the character at index position 7 in the string\n",
    "print(\"\\nCharacter at index position 7, s[7]:\", s[7])\n",
    "\n",
    "# last character\n",
    "print(\"\\nLast character, ,s[length-1]:\", s[length - 1])\n",
    "\n",
    "# Negative indexing is also possible, fetches last element\n",
    "print(\"\\nLast character using negative indexing, s[-1]:\", s[-1])\n",
    "\n",
    "# fetches 4th element from the end (equivalent to index position 7 from the beginning)\n",
    "print(\"\\nCharacter at index position 4 from the end, s[-4]:\", s[-4])\n",
    "\n",
    "# fetches first element (equivalent to s[0])\n",
    "print(\"\\nFirst character, s[-(length)]:\", s[-(length)])"
   ]
  },
  {
   "cell_type": "code",
   "execution_count": 14,
   "metadata": {
    "hidden": true
   },
   "outputs": [
    {
     "name": "stdout",
     "output_type": "stream",
     "text": [
      "s: this is a sample string.\n",
      "\n",
      "s[1:12]: his is a sa\n",
      "s[1:12:2]: hsi  a\n",
      "s[::-1]: .gnirts elpmas a si siht\n"
     ]
    }
   ],
   "source": [
    "s = \"this is a sample string.\"\n",
    "print(\"s:\", s)\n",
    "\n",
    "# extracts substring from index position 1 to index position 11\n",
    "print(\"\\ns[1:12]:\", s[1:12])\n",
    "\n",
    "# extracts substring from index position 1 to index position 11 while skipping two places\n",
    "print(\"s[1:12:2]:\", s[1:12:2])\n",
    "\n",
    "# reverses the string\n",
    "print(\"s[::-1]:\", s[::-1])"
   ]
  },
  {
   "cell_type": "markdown",
   "metadata": {
    "hidden": true
   },
   "source": [
    "<div class=\"alert alert-info\"><li>Escape sequences are specified using <b>backslash (\\\\)</b>.\n",
    "<li><b>\\n</b> is used as a wildcard in order to print a new blank line.</div>"
   ]
  },
  {
   "cell_type": "code",
   "execution_count": 15,
   "metadata": {
    "hidden": true
   },
   "outputs": [
    {
     "name": "stdout",
     "output_type": "stream",
     "text": [
      "Text 1\n",
      "Text 2\n"
     ]
    }
   ],
   "source": [
    "print(\"Text 1\\nText 2\")  # two separate lines are printed"
   ]
  },
  {
   "cell_type": "code",
   "execution_count": 16,
   "metadata": {
    "hidden": true
   },
   "outputs": [
    {
     "name": "stdout",
     "output_type": "stream",
     "text": [
      "Text 1\\nText 2\n"
     ]
    }
   ],
   "source": [
    "# In order to print \\n as text, we insert a backslash as an escape sequence.\n",
    "print(\"Text 1\\\\nText 2\")"
   ]
  },
  {
   "cell_type": "code",
   "execution_count": 17,
   "metadata": {
    "hidden": true
   },
   "outputs": [
    {
     "name": "stdout",
     "output_type": "stream",
     "text": [
      "Text 1\\nText 2\n"
     ]
    }
   ],
   "source": [
    "# Letter 'r' can also be placed before the string as an alternative to escape sequence (works similar to above)\n",
    "print(r\"Text 1\\nText 2\")"
   ]
  },
  {
   "cell_type": "code",
   "execution_count": 18,
   "metadata": {
    "hidden": true
   },
   "outputs": [
    {
     "name": "stdout",
     "output_type": "stream",
     "text": [
      "Text 1\tText 2\n"
     ]
    }
   ],
   "source": [
    "# \\t represents a tab\n",
    "print(\"Text 1\\tText 2\")"
   ]
  },
  {
   "cell_type": "markdown",
   "metadata": {
    "hidden": true
   },
   "source": [
    "<div class=\"alert alert-info\"><li><b>Three quotes</b> (single or double) are used to define a <b>paragraph</b>, example:</div>"
   ]
  },
  {
   "cell_type": "code",
   "execution_count": 19,
   "metadata": {
    "hidden": true
   },
   "outputs": [
    {
     "name": "stdout",
     "output_type": "stream",
     "text": [
      "This is a test paragraph using double quotes.\n",
      "This is another line.\n",
      "\n",
      "This is a second paragraph using single quotes.\n",
      "Multiple lines can be used.\n",
      "\n",
      "This is a third paragraph. Multiple lines can be used. If we use \\ in the end of line, it continues to remain in the same line.\n",
      "\n",
      "Class of paragraph: <class 'str'>\n",
      "Length of paragraph: 68\n"
     ]
    }
   ],
   "source": [
    "paragraph = \"\"\"This is a test paragraph using double quotes.\n",
    "This is another line.\\n\"\"\"\n",
    "print(paragraph)\n",
    "\n",
    "second_paragraph = '''This is a second paragraph using single quotes.\n",
    "Multiple lines can be used.\\n'''\n",
    "print(second_paragraph)\n",
    "\n",
    "third_paragraph = '''This is a third paragraph. \\\n",
    "Multiple lines can be used. \\\n",
    "If we use \\ in the end of line, it continues to remain in the same line.\\n'''\n",
    "print(third_paragraph)\n",
    "\n",
    "# paragraph is used mostly for documentation. It is of String datatype.\n",
    "print(\"Class of paragraph:\", type(paragraph))\n",
    "print(\"Length of paragraph:\", len(paragraph))"
   ]
  },
  {
   "cell_type": "markdown",
   "metadata": {
    "hidden": true
   },
   "source": [
    "<div class=\"alert alert-info\"><li><b>Multiplication</b> of strings</div>"
   ]
  },
  {
   "cell_type": "code",
   "execution_count": 20,
   "metadata": {
    "hidden": true
   },
   "outputs": [
    {
     "name": "stdout",
     "output_type": "stream",
     "text": [
      "Hey! Hey! Hey! \n"
     ]
    }
   ],
   "source": [
    "s1 = 'Hey! '\n",
    "print(s1 * 3)  # 3 copies of string s1"
   ]
  },
  {
   "cell_type": "markdown",
   "metadata": {
    "hidden": true
   },
   "source": [
    "<div class=\"alert alert-info\"><li>Strings can be <b>concatenated</b> using the <b>+</b> sign.</div>"
   ]
  },
  {
   "cell_type": "code",
   "execution_count": 21,
   "metadata": {
    "hidden": true
   },
   "outputs": [
    {
     "data": {
      "text/plain": [
       "'This is a concatenated string.'"
      ]
     },
     "execution_count": 21,
     "metadata": {},
     "output_type": "execute_result"
    }
   ],
   "source": [
    "\"This is a \" + 'concatenated string.'"
   ]
  },
  {
   "cell_type": "markdown",
   "metadata": {
    "hidden": true
   },
   "source": [
    "<div class=\"alert alert-info\"><li><b>Functions</b> on String</div>"
   ]
  },
  {
   "cell_type": "code",
   "execution_count": 22,
   "metadata": {
    "hidden": true
   },
   "outputs": [
    {
     "name": "stdout",
     "output_type": "stream",
     "text": [
      "s: this is a sample string.\n",
      "\n",
      "s.upper(): THIS IS A SAMPLE STRING.\n",
      "s.lower(): this is a sample string.\n",
      "s.capitalize(): This is a sample string.\n",
      "s.title(): This Is A Sample String.\n"
     ]
    }
   ],
   "source": [
    "s = \"this is a sample string.\"\n",
    "print(\"s:\", s)\n",
    "\n",
    "# converts string into upper case\n",
    "print(\"\\ns.upper():\", s.upper())\n",
    "\n",
    "# converts string into lower case\n",
    "print(\"s.lower():\", s.lower())\n",
    "\n",
    "# capitalize the first letter\n",
    "print(\"s.capitalize():\", s.capitalize())\n",
    "\n",
    "# returns the string with first capital letter of each word\n",
    "print(\"s.title():\", s.title())"
   ]
  },
  {
   "cell_type": "code",
   "execution_count": 23,
   "metadata": {
    "hidden": true
   },
   "outputs": [
    {
     "name": "stdout",
     "output_type": "stream",
     "text": [
      "s: this is a sample string.\n",
      "\n",
      "s.replace(\" \",\"_\"): this_is_a_sample_string.\n",
      "s.replace('sample','test'): this is a test string.\n",
      "\n",
      "s.count('s'): 4\n",
      "\n",
      "s.split(): ['this', 'is', 'a', 'sample', 'string.']\n",
      "s.split('s'): ['thi', ' i', ' a ', 'ample ', 'tring.']\n"
     ]
    }
   ],
   "source": [
    "s = \"this is a sample string.\"\n",
    "print(\"s:\", s)\n",
    "\n",
    "# replaces blank space with underscore\n",
    "print('\\ns.replace(\" \",\"_\"):', s.replace(\" \", \"_\"))\n",
    "\n",
    "# replaces sample with test\n",
    "print(\"s.replace('sample','test'):\", s.replace('sample', 'test'))\n",
    "\n",
    "# returns the number of occurrences, without overlap\n",
    "print(\"\\ns.count('s'):\", s.count('s'))\n",
    "\n",
    "# splits the string (on blank spaces), returns a list\n",
    "print(\"\\ns.split():\", s.split())\n",
    "\n",
    "# splits the string (on character 's')\n",
    "print(\"s.split('s'):\", s.split('s'))"
   ]
  },
  {
   "cell_type": "code",
   "execution_count": 24,
   "metadata": {
    "hidden": true
   },
   "outputs": [
    {
     "name": "stdout",
     "output_type": "stream",
     "text": [
      "s: this is a sample string.\n",
      "\n",
      "s.find('amp'): 11\n",
      "s.index('amp'): 11\n",
      "\n",
      "s.startswith('this'): True\n",
      "s.endswith('this'): False\n"
     ]
    }
   ],
   "source": [
    "s = \"this is a sample string.\"\n",
    "print(\"s:\", s)\n",
    "\n",
    "# returns the starting index position of the first occurence\n",
    "print(\"\\ns.find('amp'):\", s.find('amp'))\n",
    "\n",
    "# returns the index of specified string\n",
    "print(\"s.index('amp'):\", s.index('amp'))\n",
    "\n",
    "# checks the start of the string\n",
    "print(\"\\ns.startswith('this'):\", s.startswith('this'))\n",
    "\n",
    "# checks the end of the string\n",
    "print(\"s.endswith('this'):\", s.endswith('this'))"
   ]
  },
  {
   "cell_type": "code",
   "execution_count": 25,
   "metadata": {
    "hidden": true
   },
   "outputs": [
    {
     "name": "stdout",
     "output_type": "stream",
     "text": [
      "a:    String with spaces      \n",
      "len(a): 28\n",
      "\n",
      "a.lstrip():String with spaces      \n",
      "len(a.lstrip()): 24\n",
      "\n",
      "a.rstrip():    String with spaces\n",
      "len(a.rstrip()): 22\n",
      "\n",
      "a.strip():String with spaces\n",
      "len(a.strip()): 18\n"
     ]
    }
   ],
   "source": [
    "a = \"    String with spaces      \"\n",
    "print(\"a:\" + a)\n",
    "print(\"len(a):\", len(a))\n",
    "\n",
    "# lstrip removes the white spaces from the left side\n",
    "print(\"\\na.lstrip():\" + a.lstrip())\n",
    "print(\"len(a.lstrip()):\", len(a.lstrip()))\n",
    "\n",
    "# rstrip removes the white spaces from the right side\n",
    "print(\"\\na.rstrip():\" + a.rstrip())\n",
    "print(\"len(a.rstrip()):\", len(a.rstrip()))\n",
    "\n",
    "# strip() removes the white spaces from the left and right end\n",
    "print(\"\\na.strip():\" + a.strip())\n",
    "print(\"len(a.strip()):\", len(a.strip()))"
   ]
  },
  {
   "cell_type": "code",
   "execution_count": 26,
   "metadata": {
    "hidden": true
   },
   "outputs": [
    {
     "name": "stdout",
     "output_type": "stream",
     "text": [
      "s: 00543\n",
      "s.lstrip('0'): 543\n"
     ]
    }
   ],
   "source": [
    "s = \"00543\"\n",
    "print(\"s:\", s)\n",
    "print(\"s.lstrip('0'):\", s.lstrip('0'))"
   ]
  },
  {
   "cell_type": "code",
   "execution_count": 27,
   "metadata": {
    "hidden": true
   },
   "outputs": [
    {
     "name": "stdout",
     "output_type": "stream",
     "text": [
      "s: SamPlE TeXt\n",
      "s.swapcase(): sAMpLe tExT\n"
     ]
    }
   ],
   "source": [
    "s = 'SamPlE TeXt'\n",
    "print('s:', s)\n",
    "\n",
    "# Swaps cases for all the letters of the string\n",
    "print('s.swapcase():', s.swapcase())"
   ]
  },
  {
   "cell_type": "code",
   "execution_count": 28,
   "metadata": {
    "hidden": true
   },
   "outputs": [
    {
     "name": "stdout",
     "output_type": "stream",
     "text": [
      "s: 12345ABCdef\n",
      "s.isalnum(): True\n"
     ]
    }
   ],
   "source": [
    "s = '12345ABCdef'\n",
    "print('s:', s)\n",
    "\n",
    "# Checks whether the string is alphanumeric\n",
    "print('s.isalnum():', s.isalnum())"
   ]
  },
  {
   "cell_type": "code",
   "execution_count": 29,
   "metadata": {
    "hidden": true
   },
   "outputs": [
    {
     "name": "stdout",
     "output_type": "stream",
     "text": [
      "s: 56893\n",
      "s.isnumeric(): True\n"
     ]
    }
   ],
   "source": [
    "s = '56893'\n",
    "print('s:', s)\n",
    "\n",
    "# Checks whether the string is numeric\n",
    "print('s.isnumeric():', s.isnumeric())"
   ]
  },
  {
   "cell_type": "code",
   "execution_count": 30,
   "metadata": {
    "hidden": true
   },
   "outputs": [
    {
     "name": "stdout",
     "output_type": "stream",
     "text": [
      "s: Learning_Python\n",
      "s.isalpha(): False\n"
     ]
    }
   ],
   "source": [
    "s = 'Learning_Python'\n",
    "print('s:', s)\n",
    "\n",
    "# Checks whether the string is alphabetic\n",
    "print('s.isalpha():', s.isalpha())"
   ]
  },
  {
   "cell_type": "code",
   "execution_count": 31,
   "metadata": {
    "hidden": true
   },
   "outputs": [
    {
     "name": "stdout",
     "output_type": "stream",
     "text": [
      "s: Coding\n",
      "s.isalpha(): True\n",
      "s.islower(): False\n",
      "s.isupper(): False\n",
      "s.istitle(): True\n",
      "s.isspace(): False\n"
     ]
    }
   ],
   "source": [
    "s = 'Coding'\n",
    "print('s:', s)\n",
    "\n",
    "# Checks whether the string is alphabetic\n",
    "print('s.isalpha():', s.isalpha())\n",
    "\n",
    "# Checks whether the string has lowercase\n",
    "print('s.islower():', s.islower())\n",
    "\n",
    "# Checks whether the string has uppercase\n",
    "print('s.isupper():', s.isupper())\n",
    "\n",
    "# Checks whether the string has a title cased\n",
    "print('s.istitle():', s.istitle())\n",
    "\n",
    "# Checks whether all characters in string are whitespace\n",
    "print('s.isspace():', s.isspace())"
   ]
  },
  {
   "cell_type": "markdown",
   "metadata": {
    "hidden": true
   },
   "source": [
    "<div class=\"alert alert-info\"><b>String Partition</b>, different than <b>split()</b>\n",
    "<li>The partition() method divides a string into three around a separator: <b>prefix, separator, suffix</b><li>Returns a tuple</div>"
   ]
  },
  {
   "cell_type": "code",
   "execution_count": 32,
   "metadata": {
    "hidden": true
   },
   "outputs": [
    {
     "name": "stdout",
     "output_type": "stream",
     "text": [
      "s: Test-String\n",
      "s.partition('-'): ('Test', '-', 'String')\n",
      "\n",
      "s: Test-Long-String\n",
      "s.partition('-'): ('Test', '-', 'Long-String')\n"
     ]
    }
   ],
   "source": [
    "# includes the first occurrence of the separator sandwiched between the first half and the end half\n",
    "s = 'Test-String'\n",
    "print(\"s:\", s)\n",
    "print(\"s.partition('-'):\", s.partition('-'))\n",
    "\n",
    "# except the first occurrence of separator, the other separators are excluded\n",
    "s = 'Test-Long-String'\n",
    "print(\"\\ns:\", s)\n",
    "print(\"s.partition('-'):\", s.partition('-'))"
   ]
  },
  {
   "cell_type": "markdown",
   "metadata": {
    "hidden": true
   },
   "source": [
    "<div class=\"alert alert-info\"><b>String Substitution</b>\n",
    "<li>Variables can be printed within a string using <b>format()</b> or <b>f-strings</b></div>"
   ]
  },
  {
   "cell_type": "code",
   "execution_count": 33,
   "metadata": {
    "hidden": true
   },
   "outputs": [
    {
     "name": "stdout",
     "output_type": "stream",
     "text": [
      "I want two colors\n",
      "\n",
      "I want three colors\n",
      "\n",
      "I want four colors\n"
     ]
    }
   ],
   "source": [
    "# {} are used for substituting text\n",
    "s = \"I want {} colors\".format(\"two\")\n",
    "print(s)\n",
    "\n",
    "# Variable is passed within {}\n",
    "print(\"\\nI want {n} colors\".format(n=\"three\"))\n",
    "\n",
    "# Using f-strings, .format() can be also be replaced using f in the starting\n",
    "n = 'four'\n",
    "print(f\"\\nI want {n} colors\")"
   ]
  },
  {
   "cell_type": "code",
   "execution_count": 34,
   "metadata": {
    "hidden": true
   },
   "outputs": [
    {
     "name": "stdout",
     "output_type": "stream",
     "text": [
      "My 2 favourite colors are blue and pink\n",
      "\n",
      "My 2 favourite colors are blue and pink\n",
      "\n",
      "My 2 favourite colors are blue and pink\n",
      "\n",
      "My 2 favourite colors are blue and pink\n"
     ]
    }
   ],
   "source": [
    "color1 = 'blue'\n",
    "color2 = 'pink'\n",
    "number = 2\n",
    "\n",
    "# Using .format()\n",
    "print('My {} favourite colors are {} and {}'.format(number, color1, color2))\n",
    "\n",
    "# Using .format(), passing arguments 0,1,2, and so on\n",
    "print('\\nMy {0} favourite colors are {1} and {2}'.format(number, color1, color2))\n",
    "\n",
    "# Using .format(), passing variables instead of arguments\n",
    "print('\\nMy {a} favourite colors are {b} and {c}'.format(a=number,\n",
    "                                                         b=color1,\n",
    "                                                         c=color2))\n",
    "\n",
    "# Best Implementation, using f-strings\n",
    "print(f'\\nMy {number} favourite colors are {color1} and {color2}')"
   ]
  },
  {
   "cell_type": "code",
   "execution_count": 35,
   "metadata": {
    "hidden": true
   },
   "outputs": [
    {
     "name": "stdout",
     "output_type": "stream",
     "text": [
      "My text has string: Hello!\n",
      "My text has string containing % sign and Hello!\n",
      "\n",
      "My text has number: 42\n",
      "My text has number with 0 decimal places: 42\n",
      "My text has number with 4 decimal places: 42.4000\n"
     ]
    }
   ],
   "source": [
    "# C-style substitution and formatting\n",
    "print(\"My text has string: %s\" % (\"Hello!\"))\n",
    "\n",
    "# % sign acts as an escape sequence\n",
    "print(\"My text has string containing %% sign and %s\" % (\"Hello!\"))\n",
    "\n",
    "print(\"\\nMy text has number: %d\" % (42.4))\n",
    "print(\"My text has number with 0 decimal places: %.0f\" % (42.4))\n",
    "print(\"My text has number with 4 decimal places: %.4f\" % (42.4))"
   ]
  },
  {
   "cell_type": "code",
   "execution_count": 36,
   "metadata": {
    "hidden": true
   },
   "outputs": [
    {
     "name": "stdout",
     "output_type": "stream",
     "text": [
      "Values are: pi=3.1415926 and e=2.7182818\n",
      "\n",
      "Values are: pi=3.14 and e=2.718\n"
     ]
    }
   ],
   "source": [
    "pi = 3.1415926\n",
    "e = 2.7182818\n",
    "print(f'Values are: pi={pi} and e={e}')\n",
    "\n",
    "values = [pi, e]\n",
    "print(f'\\nValues are: pi={values[0]:.2f} and e={values[1]:.3f}')"
   ]
  },
  {
   "cell_type": "markdown",
   "metadata": {
    "heading_collapsed": true
   },
   "source": [
    "### Lists"
   ]
  },
  {
   "cell_type": "markdown",
   "metadata": {
    "hidden": true
   },
   "source": [
    "<div class=\"alert alert-info\"><li>A List is created using square brackets []. <li>Lists are mutable</div>"
   ]
  },
  {
   "cell_type": "code",
   "execution_count": 37,
   "metadata": {
    "hidden": true
   },
   "outputs": [
    {
     "data": {
      "text/plain": [
       "[]"
      ]
     },
     "execution_count": 37,
     "metadata": {},
     "output_type": "execute_result"
    }
   ],
   "source": [
    "# This is an empty List\n",
    "a = []\n",
    "a"
   ]
  },
  {
   "cell_type": "markdown",
   "metadata": {
    "hidden": true
   },
   "source": [
    " <div class=\"alert alert-info\"><li>A list can have multiple elements of same or different data type.</div>"
   ]
  },
  {
   "cell_type": "code",
   "execution_count": 38,
   "metadata": {
    "hidden": true
   },
   "outputs": [
    {
     "name": "stdout",
     "output_type": "stream",
     "text": [
      "a: [12, 'abc', 8.95, 'xyz', [2, 6]]\n",
      "b: [4, 7, 2, 4]\n",
      "\n",
      "c: [12, 'abc', 8.95, 'xyz', [2, 6], 4, 7, 2, 4]\n",
      "Length of c: 9\n",
      "\n",
      "'abc' in a: True\n",
      "35 in b: False\n",
      "12 not in a: False\n",
      "\n",
      "2*b: [4, 7, 2, 4, 4, 7, 2, 4]\n",
      "\n",
      "min(b): 2\n",
      "max(b): 7\n",
      "sum(b): 17\n"
     ]
    }
   ],
   "source": [
    "a = [12, 'abc', 8.95, \"xyz\", [2, 6]]\n",
    "print(\"a:\", a)\n",
    "b = [4, 7, 2, 4]\n",
    "print(\"b:\", b)\n",
    "\n",
    "# concatenation of two lists\n",
    "c = a + b\n",
    "print(\"\\nc:\", c)\n",
    "print(\"Length of c:\", len(c))\n",
    "\n",
    "print(\"\\n'abc' in a:\", 'abc' in a)\n",
    "print(\"35 in b:\", 35 in b)\n",
    "print(\"12 not in a:\", 12 not in a)\n",
    "\n",
    "# Multiplication, two copies of list b\n",
    "print(\"\\n2*b:\", 2 * b)\n",
    "\n",
    "# minimum in list (list must not have strings)\n",
    "print(\"\\nmin(b):\", min(b))\n",
    "\n",
    "# maximum in list (list must not have strings)\n",
    "print(\"max(b):\", max(b))\n",
    "\n",
    "# sum of list elements (list must not have strings)\n",
    "print(\"sum(b):\", sum(b))"
   ]
  },
  {
   "cell_type": "markdown",
   "metadata": {
    "hidden": true
   },
   "source": [
    " <div class=\"alert alert-info\">List functions:<li>append()<li>extend()<li>insert()<li>pop()</div>"
   ]
  },
  {
   "cell_type": "code",
   "execution_count": 39,
   "metadata": {
    "hidden": true
   },
   "outputs": [
    {
     "name": "stdout",
     "output_type": "stream",
     "text": [
      "Original List: [1, 2, 3, 4, 5]\n",
      "List after append(): [1, 2, 3, 4, 5, 6]\n",
      "List after extend(): [1, 2, 3, 4, 5, 6, 7, 8, 9]\n",
      "List after pop(): [1, 2, 3, 4, 5, 6, 7, 8]\n",
      "List after insert(): [1, 2, 3, 4, 'Text', 5, 6, 7, 8]\n"
     ]
    }
   ],
   "source": [
    "a = [1, 2, 3, 4, 5]\n",
    "print(\"Original List: {}\".format(a))\n",
    "\n",
    "# Append method is used to add new elements in the pre-exisiting list.\n",
    "a.append(6)\n",
    "print(\"List after append(): {}\".format(a))\n",
    "\n",
    "# extend method is used to extend the list\n",
    "a.extend([7, 8, 9])\n",
    "print(\"List after extend(): {}\".format(a))\n",
    "\n",
    "# Pop method is used to remove the last element from the list.\n",
    "a.pop()\n",
    "print(\"List after pop(): {}\".format(a))\n",
    "\n",
    "# Insert into position\n",
    "a.insert(4, 'Text')\n",
    "print(\"List after insert(): {}\".format(a))"
   ]
  },
  {
   "cell_type": "markdown",
   "metadata": {
    "hidden": true
   },
   "source": [
    " <div class=\"alert alert-info\">Accessing List elements</div>"
   ]
  },
  {
   "cell_type": "code",
   "execution_count": 40,
   "metadata": {
    "hidden": true
   },
   "outputs": [
    {
     "name": "stdout",
     "output_type": "stream",
     "text": [
      "a: [1, 2, 3, 4, 5]\n",
      "Length of a (L): 5\n",
      "\n",
      "a[2]: 3\n",
      "a[0]: 1\n",
      "a[L-1]: 5\n",
      "\n",
      "List after setting new value: [1, 2, 6, 4, 5]\n",
      "List after pop(2): [1, 2, 4, 5]\n",
      "Final List after deleting an element: [2, 4, 5]\n"
     ]
    }
   ],
   "source": [
    "# A specific element can be referred from a list. For instance:\n",
    "a = [1, 2, 3, 4, 5]\n",
    "print(\"a:\", a)\n",
    "\n",
    "# The length of the list. Indexing starts from zero.\n",
    "L = (len(a))\n",
    "print(\"Length of a (L): {}\".format(L))\n",
    "\n",
    "# Accessing Indexes\n",
    "print(\"\\na[2]:\", a[2])  # Third element\n",
    "print(\"a[0]:\", a[0])  # First element\n",
    "print(\"a[L-1]:\", a[L - 1])  # Last element\n",
    "\n",
    "# Setting a value in list (mutable)\n",
    "# For example, set a value of 6 at index position 2\n",
    "a[2] = 6  # 3 is changed to 6\n",
    "print(\"\\nList after setting new value: {}\".format(a))\n",
    "\n",
    "# A specific element can be removed from a list using its index position in the pop function.\n",
    "# For example, remove element 6\n",
    "a.pop(2)  # a.pop(index)\n",
    "print(\"List after pop(2): {}\".format(a))\n",
    "\n",
    "# An element can be deleted from a list using del function by specifying its index position\n",
    "del (a[0])\n",
    "print(\"Final List after deleting an element: {}\".format(a))"
   ]
  },
  {
   "cell_type": "code",
   "execution_count": 41,
   "metadata": {
    "hidden": true
   },
   "outputs": [
    {
     "name": "stdout",
     "output_type": "stream",
     "text": [
      "a: ['Ravi', 'Rahul', 'Rohan']\n",
      "\n",
      "a[2][2]: h\n",
      "a[1][3]: u\n",
      "a[0][2]: v\n"
     ]
    }
   ],
   "source": [
    "a = [\"Ravi\", \"Rahul\", \"Rohan\"]\n",
    "print(\"a:\", a)\n",
    "\n",
    "print(\"\\na[2][2]:\", a[2][2])  # Third element, Third character\n",
    "print(\"a[1][3]:\", a[1][3])  # Second element, Fourth character\n",
    "print(\"a[0][2]:\", a[0][2])  # First element, Third character"
   ]
  },
  {
   "cell_type": "code",
   "execution_count": 42,
   "metadata": {
    "hidden": true
   },
   "outputs": [
    {
     "name": "stdout",
     "output_type": "stream",
     "text": [
      "b: [12, 'abc', ['Text', 5.34, 23, True], 'xyz', [2, 6]]\n",
      "\n",
      "b[1]: abc\n",
      "b[2]: ['Text', 5.34, 23, True]\n",
      "b[2][1]: 5.34\n",
      "b[2][0][3]: t\n"
     ]
    }
   ],
   "source": [
    "# Nesting\n",
    "b = [12, 'abc', [\"Text\", 5.34, 23, True], \"xyz\", [2, 6]]\n",
    "print(\"b:\", b)\n",
    "\n",
    "print(\"\\nb[1]:\", b[1])\n",
    "print(\"b[2]:\", b[2])\n",
    "print(\"b[2][1]:\", b[2][1])\n",
    "print(\"b[2][0][3]:\", b[2][0][3])"
   ]
  },
  {
   "cell_type": "code",
   "execution_count": 43,
   "metadata": {
    "hidden": true
   },
   "outputs": [
    {
     "name": "stdout",
     "output_type": "stream",
     "text": [
      "a: [1, 5, 8, 2, 5, 2]\n",
      "\n",
      "a[3:5]: [2, 5]\n",
      "a[1:]: [5, 8, 2, 5, 2]\n",
      "a[:3]: [1, 5, 8]\n"
     ]
    }
   ],
   "source": [
    "a = [1, 5, 8, 2, 5, 2]\n",
    "print(\"a:\", a)\n",
    "\n",
    "# fetches elements from index position 3 to index position 4\n",
    "print(\"\\na[3:5]:\",\n",
    "      a[3:5])  \n",
    "\n",
    "# fetches elements from index position 1 till end\n",
    "print(\"a[1:]:\", a[1:])  \n",
    "\n",
    "# fetches elements from starting till index position 2\n",
    "print(\"a[:3]:\", a[:3])  "
   ]
  },
  {
   "cell_type": "markdown",
   "metadata": {
    "hidden": true
   },
   "source": [
    " <div class=\"alert alert-info\">Other list functions:<li>count()<li>index()<li>remove()<li>reverse()<li>sort()</div>"
   ]
  },
  {
   "cell_type": "code",
   "execution_count": 44,
   "metadata": {
    "hidden": true
   },
   "outputs": [
    {
     "name": "stdout",
     "output_type": "stream",
     "text": [
      "a: [1, 5, 8, 2, 5, 2]\n",
      "\n",
      "a.count(5): 2\n",
      "a.index(5): 1\n",
      "\n",
      "List after removing 5:  [1, 8, 2, 5, 2]\n"
     ]
    }
   ],
   "source": [
    "a = [1, 5, 8, 2, 5, 2]\n",
    "print(\"a:\", a)\n",
    "\n",
    "# returns the number of occurences of element 5\n",
    "print(\"\\na.count(5):\", a.count(5))\n",
    "\n",
    "# returns the first index position of element 5\n",
    "print(\"a.index(5):\", a.index(5))\n",
    "\n",
    "# removes the first occurence of element 5\n",
    "a.remove(5)\n",
    "print(\"\\nList after removing 5: \", a)"
   ]
  },
  {
   "cell_type": "code",
   "execution_count": 45,
   "metadata": {
    "hidden": true
   },
   "outputs": [
    {
     "name": "stdout",
     "output_type": "stream",
     "text": [
      "a: [1, 5, 8, 2, 5, 2]\n",
      "After a.reverse(), a: [2, 5, 2, 8, 5, 1]\n"
     ]
    }
   ],
   "source": [
    "a = [1, 5, 8, 2, 5, 2]\n",
    "print(\"a:\", a)\n",
    "\n",
    "a.reverse()  # reverses the list\n",
    "print(\"After a.reverse(), a:\", a)"
   ]
  },
  {
   "cell_type": "code",
   "execution_count": 46,
   "metadata": {
    "hidden": true
   },
   "outputs": [
    {
     "name": "stdout",
     "output_type": "stream",
     "text": [
      "a: [1, 5, 8, 2, 5, 2]\n",
      "\n",
      "List after sorting in ascending order:  [1, 2, 2, 5, 5, 8]\n",
      "\n",
      "List after sorting in descending order:  [8, 5, 5, 2, 2, 1]\n"
     ]
    }
   ],
   "source": [
    "a = [1, 5, 8, 2, 5, 2]\n",
    "print(\"a:\", a)\n",
    "\n",
    "# sorts the list in ascending order\n",
    "a.sort()\n",
    "print(\"\\nList after sorting in ascending order: \", a)\n",
    "\n",
    "# sorts the list in descending order\n",
    "a.sort(reverse=True)\n",
    "print(\"\\nList after sorting in descending order: \", a)"
   ]
  },
  {
   "cell_type": "markdown",
   "metadata": {
    "hidden": true
   },
   "source": [
    "<div class=\"alert alert-info\">Using <b>key</b> argument in <b>sort()</b><li>accepts a function for producing a sort key from an item</div>"
   ]
  },
  {
   "cell_type": "code",
   "execution_count": 47,
   "metadata": {
    "hidden": true
   },
   "outputs": [
    {
     "name": "stdout",
     "output_type": "stream",
     "text": [
      "s: peter piper picked a peck of pickled pepper and a peck of pickled pepper peter piper picked\n",
      "\n",
      "After split, s:\n",
      " ['peter', 'piper', 'picked', 'a', 'peck', 'of', 'pickled', 'pepper', 'and', 'a', 'peck', 'of', 'pickled', 'pepper', 'peter', 'piper', 'picked']\n",
      "\n",
      "After normal sorting, s:\n",
      " ['a', 'a', 'and', 'of', 'of', 'peck', 'peck', 'pepper', 'pepper', 'peter', 'peter', 'picked', 'picked', 'pickled', 'pickled', 'piper', 'piper']\n",
      "\n",
      "List after sorting using key argument, s:\n",
      " ['a', 'a', 'of', 'of', 'and', 'peck', 'peck', 'peter', 'peter', 'piper', 'piper', 'pepper', 'pepper', 'picked', 'picked', 'pickled', 'pickled']\n"
     ]
    }
   ],
   "source": [
    "s = '''peter piper picked a peck of pickled pepper and a peck of pickled pepper peter piper picked'''\n",
    "print('s:', s)\n",
    "\n",
    "s = s.split()\n",
    "print('\\nAfter split, s:\\n', s)\n",
    "\n",
    "# Normal Sorting, lexicographic order is returned\n",
    "s.sort()\n",
    "print('\\nAfter normal sorting, s:\\n', s)\n",
    "\n",
    "# Sorting based on length, bigger words will be returned in end\n",
    "s.sort(key=len)\n",
    "print(\"\\nList after sorting using key argument, s:\\n\", s)"
   ]
  },
  {
   "cell_type": "markdown",
   "metadata": {},
   "source": [
    "### Tuples"
   ]
  },
  {
   "cell_type": "markdown",
   "metadata": {},
   "source": [
    "<div class=\"alert alert-info\"><li>Tuples are exactly similar to Lists, but they are immutable. <li>Tuples are defined inside parenthesis ().<li>Functions like reverse(), remove() and sort() will not work since tuples are not mutable in nature.\n",
    "</div>"
   ]
  },
  {
   "cell_type": "code",
   "execution_count": 48,
   "metadata": {},
   "outputs": [
    {
     "data": {
      "text/plain": [
       "()"
      ]
     },
     "execution_count": 48,
     "metadata": {},
     "output_type": "execute_result"
    }
   ],
   "source": [
    "# Empty Tuple\n",
    "()"
   ]
  },
  {
   "cell_type": "code",
   "execution_count": 49,
   "metadata": {},
   "outputs": [
    {
     "name": "stdout",
     "output_type": "stream",
     "text": [
      "a: (1, 5, 8, 2, 5, 2)\n",
      "Length:  6\n",
      "Sum:  23\n",
      "\n",
      "a.count(5):  2\n",
      "a.index(8):  2\n"
     ]
    }
   ],
   "source": [
    "a = (1, 5, 8, 2, 5, 2)\n",
    "print(\"a:\", a)\n",
    "print(\"Length: \", len(a))\n",
    "\n",
    "# sum of a tuple containing integers\n",
    "print(\"Sum: \", sum(a))\n",
    "\n",
    "# returns the number of occurences of element 5\n",
    "print(\"\\na.count(5): \", a.count(5))\n",
    "\n",
    "# returns the first index position of element 8\n",
    "print(\"a.index(8): \", a.index(8))"
   ]
  },
  {
   "cell_type": "markdown",
   "metadata": {},
   "source": [
    "<div class=\"alert alert-info\"><li><b>sorted()</b> returns a sorted list and can be called on any iterable series<li>The <b>type()</b> defines the class of the object.\n",
    "</div>"
   ]
  },
  {
   "cell_type": "code",
   "execution_count": 50,
   "metadata": {},
   "outputs": [
    {
     "name": "stdout",
     "output_type": "stream",
     "text": [
      "a: (1, 5, 8, 2, 5, 2)\n",
      "Object Type: <class 'tuple'>\n",
      "\n",
      "sorted(a):  [1, 2, 2, 5, 5, 8]\n",
      "Object Type: <class 'list'>\n",
      "\n",
      "sorted(a, reverse=True):  [8, 5, 5, 2, 2, 1]\n"
     ]
    }
   ],
   "source": [
    "a = (1, 5, 8, 2, 5, 2)\n",
    "print(\"a:\", a)\n",
    "print('Object Type:',type(a))\n",
    "\n",
    "# sorted in ascending order, returns list\n",
    "b = sorted(a)\n",
    "print(\"\\nsorted(a): \", b)\n",
    "print('Object Type:',type(b))\n",
    "\n",
    "# sorted in descending order\n",
    "c = sorted(a, reverse=True)\n",
    "print(\"\\nsorted(a, reverse=True): \", c)"
   ]
  },
  {
   "cell_type": "code",
   "execution_count": 51,
   "metadata": {},
   "outputs": [
    {
     "name": "stdout",
     "output_type": "stream",
     "text": [
      "Iterable Series: (1, 5, 8, 2, 5, 2)\n",
      "\n",
      "reversed(a):  <reversed object at 0x000001C26E5B6910>\n",
      "Object Type: <class 'reversed'>\n",
      "\n",
      "Reversed List: [2, 5, 2, 8, 5, 1]\n",
      "Object Type: <class 'list'>\n"
     ]
    }
   ],
   "source": [
    "a = (1, 5, 8, 2, 5, 2)\n",
    "print('Iterable Series: {}'.format(a))\n",
    "\n",
    "# reverses any iterable series (here tuple), returns an object\n",
    "d = reversed(a)\n",
    "print(\"\\nreversed(a): \", d)\n",
    "print('Object Type:', type(d))\n",
    "\n",
    "# object converted explicitly into list\n",
    "d = list(d)\n",
    "print('\\nReversed List: {}'.format(d))\n",
    "print('Object Type:', type(d))"
   ]
  },
  {
   "cell_type": "markdown",
   "metadata": {},
   "source": [
    "<div class=\"alert alert-info\"><b>Defining Tuple in different ways</b></div>"
   ]
  },
  {
   "cell_type": "code",
   "execution_count": 52,
   "metadata": {},
   "outputs": [
    {
     "name": "stdout",
     "output_type": "stream",
     "text": [
      "(100,) is a tuple: <class 'tuple'>\n"
     ]
    }
   ],
   "source": [
    "# only one element, using comma in the end\n",
    "a = (100, )\n",
    "print('{} is a tuple: {}'.format(a, type(a)))"
   ]
  },
  {
   "cell_type": "code",
   "execution_count": 53,
   "metadata": {},
   "outputs": [
    {
     "name": "stdout",
     "output_type": "stream",
     "text": [
      "(1, 2, 3, 4, 5) is a tuple: <class 'tuple'>\n"
     ]
    }
   ],
   "source": [
    "# multiple elements without parenthesis\n",
    "b = 1, 2, 3, 4, 5\n",
    "print('{} is a tuple: {}'.format(b, type(b)))"
   ]
  },
  {
   "cell_type": "code",
   "execution_count": 54,
   "metadata": {
    "scrolled": true
   },
   "outputs": [
    {
     "name": "stdout",
     "output_type": "stream",
     "text": [
      "a: 10 & b: 20\n",
      "\n",
      "After Swapping\n",
      "a: 20 & b: 10\n"
     ]
    }
   ],
   "source": [
    "a, b = 10, 20\n",
    "print(f'a: {a} & b: {b}')\n",
    "\n",
    "# Swapping elements\n",
    "a, b = b, a\n",
    "print(f'\\nAfter Swapping\\na: {a} & b: {b}')"
   ]
  },
  {
   "cell_type": "code",
   "execution_count": 55,
   "metadata": {},
   "outputs": [
    {
     "name": "stdout",
     "output_type": "stream",
     "text": [
      "a: ('A', 'p', 'p', 'l', 'e')\n"
     ]
    }
   ],
   "source": [
    "# Separating elements\n",
    "a = tuple('Apple')\n",
    "print('a: {}'.format(a))"
   ]
  },
  {
   "cell_type": "markdown",
   "metadata": {},
   "source": [
    "<div class=\"alert alert-info\"><b>Tuple Unpacking</b>\n",
    "<li>The partition() method divides a string into three around a separator: prefix, separator, suffix<li>Using tuple unpacking, the result can be destructured.<li>Underscore(_) can be used as a dummy name in place of the separator</div>"
   ]
  },
  {
   "cell_type": "code",
   "execution_count": 56,
   "metadata": {},
   "outputs": [
    {
     "name": "stdout",
     "output_type": "stream",
     "text": [
      "a: Jack-Martin\n",
      "After removing -, name is: Jack Martin\n"
     ]
    }
   ],
   "source": [
    "# tuple unpacks values into variables\n",
    "a = 'Jack-Martin'\n",
    "print(\"a:\", a)\n",
    "first_name, separator, last_name = a.partition('-')  # returns a tuple\n",
    "print(f'After removing {separator}, name is: {first_name} {last_name}')"
   ]
  },
  {
   "cell_type": "code",
   "execution_count": 57,
   "metadata": {},
   "outputs": [
    {
     "name": "stdout",
     "output_type": "stream",
     "text": [
      "a: Jack|24\n",
      "Name is: Jack\n",
      "Age is: 24\n"
     ]
    }
   ],
   "source": [
    "# Using _ to ignore invaluable variables\n",
    "a = 'Jack|24'\n",
    "print(\"a:\", a)\n",
    "name, _, age = a.partition('|')\n",
    "print('Name is: {}\\nAge is: {}'.format(name, age))"
   ]
  },
  {
   "cell_type": "markdown",
   "metadata": {},
   "source": [
    "### Dictionary"
   ]
  },
  {
   "cell_type": "markdown",
   "metadata": {},
   "source": [
    "<div class=\"alert alert-info\">\n",
    "\n",
    "<li>\n",
    "<l1> \n",
    "</div>\n",
    "\n",
    "<div class=\"alert alert-info\">\n",
    "<li>Dictionaries are defined using a Key-Value pair in curly brackets {}<li>A key-value can be an integer, string, etc.<li>Keys must be unique and immutable objects <b>(lists cannot be the keys)</b><li>If we try to access or modify keys that dont exist in the dictionary, it raise a KeyError and break up our code execution.</div>"
   ]
  },
  {
   "cell_type": "code",
   "execution_count": null,
   "metadata": {},
   "outputs": [],
   "source": [
    "empty_dict = {}\n",
    "empty_dict"
   ]
  },
  {
   "cell_type": "code",
   "execution_count": null,
   "metadata": {},
   "outputs": [],
   "source": [
    "a = {0: \"Zero\", 1: \"One\", 2: \"Two\", 3: \"Three\", 4: \"Four\", 5: \"Five\"}\n",
    "# 0,1,2, etc are the keys. Zero, One, Two, etc are the values.\n",
    "print(\"a:\", a)\n",
    "\n",
    "b = {4: \"four\", 5: \"five\", 6: \"six\", 7: \"seven\", 8: \"eight\"}\n",
    "print(\"b:\", b)\n",
    "\n",
    "a.update(\n",
    "    b\n",
    ")  # a dictionary is updated with keys & values of dictionary b, only unique values are stored\n",
    "print(\"\\nAfter Updating Dictionary,\\na:\", a)"
   ]
  },
  {
   "cell_type": "markdown",
   "metadata": {},
   "source": [
    "<div class=\"alert alert-info\"><li>A key in dictionary can hold multiple datatypes (Boolean, Integer, Float, String, Tuple) i.e. datatype should be immutable<li>A value in dictionary can hold multiple datatypes (List, Tuple, Boolean, Integer, Float, String) i.e. both immutable and mutable</div>\n"
   ]
  },
  {
   "cell_type": "code",
   "execution_count": null,
   "metadata": {},
   "outputs": [],
   "source": [
    "a = {\n",
    "    \"Text\": \"String\",\n",
    "    18: \"Integer\",\n",
    "    True: \"Boolean\",\n",
    "    (1, 2, 3): \"Tuple\",\n",
    "    3.5: \"Float\",\n",
    "    3.5:\n",
    "    \"Float_duplicate\"  # 3.5 is the duplicate key, the returned value will be the last defined value\n",
    "}\n",
    "print(\"Dictionary a:\", a)  # Printing order of dictionary is not ordered\n",
    "\n",
    "b = {\n",
    "    \"Name\": \"Jack\",\n",
    "    \"Age\": 34,\n",
    "    \"Amount\": 76890.56,\n",
    "    \"Access\": False,\n",
    "    \"Address\": (22, 'ABC', 'XYZ'),\n",
    "    \"Mobile\": [12345, 95748, \"45225\"]\n",
    "}\n",
    "print(\"\\nDictionary b:\", b)\n",
    "\n",
    "# Accessing the dictionary elements using keys\n",
    "print(\"\\nb['Name']:\", b['Name'])\n",
    "print(\"a[True]:\", a[True])\n",
    "\n",
    "# Adding new Key-Values pairs in dictionary\n",
    "a[\"New Key\"] = \"New Value\"\n",
    "b[\"Software\"] = \"Python\"\n",
    "\n",
    "print(\"\\na.keys():\", a.keys())  # retrieving the list of keys of Dictionary A\n",
    "print(\"b.values():\",\n",
    "      b.values())  # retrieving the list of values of Dictionary B\n",
    "print(\"a.items():\",\n",
    "      a.items())  # returns the list of all items (tuples) in dictionary A\n",
    "\n",
    "# Converting a tuple into dictionary\n",
    "x = (('a', 1), ('b', 2), ('c', 3), ('d', 4), ('e', 5))\n",
    "y = dict(x)\n",
    "print(\"\\nx: \", x, \"\\nTuple converted into dictionary: \", y)"
   ]
  },
  {
   "cell_type": "code",
   "execution_count": null,
   "metadata": {},
   "outputs": [],
   "source": [
    "# Using pprint library (Pretty Printing) for viewing dictionary neatly\n",
    "from pprint import pprint as pp\n",
    "\n",
    "a = {\n",
    "    \"Name\": \"Jack\",\n",
    "    \"Age\": 34,\n",
    "    \"Amount\": 76890.56,\n",
    "    \"Access\": False,\n",
    "    \"Address\": (22, 'ABC', 'XYZ'),\n",
    "    \"Mobile\": [12345, 95748, \"45225\"]\n",
    "}\n",
    "pp(a)  # Keys are arranged in a sorted manner"
   ]
  },
  {
   "cell_type": "markdown",
   "metadata": {},
   "source": [
    "### Sets\n",
    "<div class=\"alert alert-info\"><li>Sets contains unique elements. <li>They are defined by curly brackets {}.<div>"
   ]
  },
  {
   "cell_type": "code",
   "execution_count": null,
   "metadata": {},
   "outputs": [],
   "source": [
    "s1 = {1, 2, 3, 4, 5}\n",
    "s2 = {2, 5, 1, 5, 3, 2, 5, 3, 4, 1, 2, 4, 4, 5, 2, 1, 1,\n",
    "      3}  # elements are repeated\n",
    "print(\"Set s1: {}\".format(s1))\n",
    "print(\"Set s2: {} , only unique elements are contained in the set\".format(s2))\n",
    "\n",
    "# Adding an element in set using add()\n",
    "s1.add(6)\n",
    "print(\"\\nAfter adding element in List s1: {}\".format(s1))\n",
    "\n",
    "# Removing an element in set using remove()\n",
    "s1.remove(6)\n",
    "s1.discard(6)  # always succeeds without raising KeyError\n",
    "print(\"After removing element in List s1: {}\".format(s1))\n",
    "\n",
    "# Check if element is present in the set\n",
    "print(\"\\n6 in s1:\", 6 in s1)\n",
    "\n",
    "# Making a copy of set\n",
    "s2 = s1.copy()\n",
    "print(\"\\ns2 (Copy of set s1): \", s2)\n",
    "\n",
    "# Clearing contents of set s2\n",
    "s2.clear()\n",
    "print(\"s2: \", s2)  # Empty Set\n",
    "\n",
    "# Converting a set into list using the list constructor\n",
    "a = {3, 4, 2, 4, 3, 2, 4, 1, 1, 1, 4, 5, 3, 4, 2, 2, 3}\n",
    "b = list(a)\n",
    "print(\"\\nSet a: \", a, \"\\nSet coverted into list: \", b)\n",
    "\n",
    "# Converting a list into set using the set constructor\n",
    "a = [3, 4, 2, 4, 3, 2, 4, 1, 1, 1, 4, 5, 3, 4, 2, 2, 3]\n",
    "b = set(a)\n",
    "print(\"\\nList a: \", a, \"\\nList coverted into set: \", b)"
   ]
  },
  {
   "cell_type": "code",
   "execution_count": null,
   "metadata": {},
   "outputs": [],
   "source": [
    "a = {1, 2, 3, 4}\n",
    "b = {3, 4, 5, 6}\n",
    "c = {5, 6}\n",
    "print(\"a:\", a)\n",
    "print(\"b:\", b)\n",
    "print(\"c:\", c)\n",
    "\n",
    "print(\"\\na.union(b):\", a.union(b))  # A union B\n",
    "print(\"a.intersection(b):\", a.intersection(b))  # A intersection B\n",
    "print(\"a.symmetric_difference(b):\", a.symmetric_difference(\n",
    "    b))  # ~(A intersection B), all other uncommon elements\n",
    "print(\"a.difference(b):\", a.difference(b))  # A prime\n",
    "print(\"b.difference(a):\", b.difference(a))  # B prime\n",
    "\n",
    "print(\"\\nset(a).issuperset(c):\", set(a).issuperset(c))\n",
    "print(\"set(b).issuperset(c):\", set(b).issuperset(c))\n",
    "print(\"set(c).issubset(a):\", set(c).issubset(a))\n",
    "print(\"set(c).issubset(b):\", set(c).issubset(b))\n",
    "print(\"set(c).isdisjoint(a):\", set(c).isdisjoint(a))\n",
    "\n",
    "d = {10, 20, 30, 40, 20, 10, 20, 30, 50, 70}\n",
    "e = {10, 20, 30, 40, 20, 10, 20, 30, 50, 60}\n",
    "\n",
    "print(\"\\nd:\", d)\n",
    "print(\"e:\", e)\n",
    "d.update(e)  # Update a set with the union of itself and others\n",
    "print(\"After updating, d:\", d)"
   ]
  },
  {
   "cell_type": "markdown",
   "metadata": {},
   "source": [
    "### Frozensets\n",
    "Frozen sets are a native data type in Python that have the qualities of sets, but are immutable like tuples. The primary reason to use them is to write more clear, functional code. By defining a variable as a frozen set, we’re telling future readers: do not modify this!"
   ]
  },
  {
   "cell_type": "code",
   "execution_count": null,
   "metadata": {},
   "outputs": [],
   "source": [
    "scores = {1, 2}\n",
    "scores.add(3)\n",
    "print(scores)"
   ]
  },
  {
   "cell_type": "code",
   "execution_count": null,
   "metadata": {},
   "outputs": [],
   "source": [
    "scores = {1, 2}\n",
    "frozen_scores = frozenset(scores)\n",
    "\n",
    "# AttributeError: 'frozenset' object has no attribute 'add'\n",
    "frozen_scores.add(3)"
   ]
  },
  {
   "cell_type": "code",
   "execution_count": null,
   "metadata": {},
   "outputs": [],
   "source": [
    "myList = [1, 1, 2, 3, 4]\n",
    "frozenList = frozenset(myList)\n",
    "print(frozenList)  # frozenset({1, 2, 3, 4})\n",
    "\n",
    "myString = \"Hello\"\n",
    "frozenString = frozenset(myString)\n",
    "print(frozenString)  # frozenset({'e', 'l', 'H', 'o'})"
   ]
  },
  {
   "cell_type": "code",
   "execution_count": null,
   "metadata": {},
   "outputs": [],
   "source": []
  },
  {
   "cell_type": "markdown",
   "metadata": {},
   "source": [
    "### Objects created explicitly using constructors (int(), str(), list(), float())"
   ]
  },
  {
   "cell_type": "code",
   "execution_count": null,
   "metadata": {},
   "outputs": [],
   "source": [
    "print(\"int(4): \", int(4))\n",
    "print(\"int(4.5): \", int(4.5))  # type conversion from float to integer\n",
    "print(\"int('78'): \", int('78'))  # type conversion from string to integer\n",
    "print(\"int(True): \", int(True))  # type conversion from boolean to integer\n",
    "\n",
    "print(\"\\nstr('Hey'): \", str('Hey'))\n",
    "print(\"str(53): \", str(53))  # type conversion from integer to string\n",
    "print(\"str(46.2): \", str(46.2))  # type conversion from float to string\n",
    "print(\"str(True): \", str(True))  # type conversion from boolean to string\n",
    "\n",
    "print(\"\\nfloat(3.6): \", float(3.6))\n",
    "print(\"float('21.64'): \",\n",
    "      float('21.64'))  # type conversion from string to float\n",
    "print(\"float(435): \", float(435))  # type conversion from integer to float\n",
    "print(\"float(True): \", float(True))  # type conversion from boolean to float\n",
    "\n",
    "print(\"\\nbool(1): \", bool(1))\n",
    "print(\"bool(0): \", bool(0))\n",
    "\n",
    "print(\"\\nlist([3,6,'fan']): \", list([3, 6, 'fan']))\n",
    "print(\"tuple([2,8,'test', False]): \", tuple([2, 8, 'test', False]))\n",
    "print(\"tuple('String123'): \", tuple('String123'))\n",
    "\n",
    "# Default Values\n",
    "print(\"\\nDefault Values\\nint(): \", int())  # 0\n",
    "print(\"float(): \", float())  #0.0\n",
    "print(\"str(): \", str())  # '' (blank string)\n",
    "print(\"list(): \", list())  # [] (blank list)\n",
    "print(\"bool(): \", bool())  # False"
   ]
  },
  {
   "cell_type": "markdown",
   "metadata": {},
   "source": [
    "### Advanced Numbers: Octal, Hexadecimal, Binary, Complex"
   ]
  },
  {
   "cell_type": "code",
   "execution_count": null,
   "metadata": {},
   "outputs": [],
   "source": [
    "# Normal Integer\n",
    "i = 50\n",
    "print(\"Decimal Value:\", i)\n",
    "\n",
    "# converting integer to octal value\n",
    "o = oct(i)\n",
    "print(\n",
    "    \"\\nOctal Value:\", o, \", type of o:\", type(o)\n",
    ")  # number prefixed by 0o (zero and a lowercase \"o\" or uppercase \"O\") represents an octal number\n",
    "\n",
    "# converting integer to hex value\n",
    "h = hex(i)\n",
    "print(\n",
    "    \"\\nHexadecimal Value:\", h, \", type of h:\", type(h)\n",
    ")  # number prefixed by 0x (zero and a lowercase \"x\" or uppercase \"X\") represents a hexadecimal number\n",
    "\n",
    "# converting integer to binary value\n",
    "b = bin(i)\n",
    "print(\n",
    "    \"\\nBinary Value:\", b, \", type of b:\", type(b)\n",
    ")  # number prefixed by 0b (zero and a lowercase \"b\" or uppercase \"B\") represents a binary number\n",
    "\n",
    "# Real & Imaginary Number\n",
    "x = 5 + 6j\n",
    "print(\"\\nComplex Number:\", x, \", type of x:\", type(x))\n",
    "print(\"Defining complex number using complex():\", complex(4, 3))\n",
    "\n",
    "# converting octal to integer value\n",
    "print(\"\\nOctal to integer: 0o62 is {}\".format(0o62))\n",
    "\n",
    "# converting hex to integer value\n",
    "print(\"\\nHexadecimal to integer: 0x32 is {}\".format(0x32))\n",
    "\n",
    "# converting binary to integer value\n",
    "print(\"\\nBinary to integer: 0b110010 is {}\".format(0b110010))\n",
    "\n",
    "# Float numbers representation\n",
    "print('\\nFloat Representation:\\n4e8 is {}'.format(4e8))\n",
    "print('-9.53e18 is {}'.format(-9.53e18))\n",
    "print('float(nan) is', float('nan'))\n",
    "print('float(inf) is', float('inf'))\n",
    "print('float(-inf) is', float('-inf'))\n",
    "\n",
    "# String representation\n",
    "print('\\nString Representation:\\nUnicode: \\\\u0e21 is {}'.format('\\u0e21'))\n",
    "print('Octal: \\\\521 is {}'.format('\\521'))\n",
    "print('Hex: \\\\x521 is {}'.format('\\x521'))"
   ]
  },
  {
   "cell_type": "markdown",
   "metadata": {},
   "source": [
    "### Importing Libraries"
   ]
  },
  {
   "cell_type": "code",
   "execution_count": null,
   "metadata": {},
   "outputs": [],
   "source": [
    "# math library\n",
    "import math as m  # math module is a library of mathematical functions and constants. As keyword is used to define alias.\n",
    "\n",
    "print(\"m.sqrt(16): \", m.sqrt(16))  # square root\n",
    "print(\"m.pi: \", m.pi)  # value of pi\n",
    "print(\"m.e: \", m.e, \"\\n\")  # value of e\n",
    "\n",
    "# The help function is used to find more information on math library\n",
    "help(m.sqrt)"
   ]
  },
  {
   "cell_type": "markdown",
   "metadata": {},
   "source": [
    "* [How Imports Work in Python](https://betterprogramming.pub/how-imports-work-in-python-59c2943d87dc)\n",
    "* [PythonImportExample](https://github.com/Polaris000/BlogCode/tree/main/PythonImportExample)"
   ]
  },
  {
   "cell_type": "markdown",
   "metadata": {},
   "source": [
    "<div class=\"alert alert-info\"><li>Multiple variables of different datatypes can also be assigned together</div>"
   ]
  },
  {
   "cell_type": "code",
   "execution_count": null,
   "metadata": {},
   "outputs": [],
   "source": [
    "# multiple assignment to various variables\n",
    "a, b, c, d, e, f = 1, 'Hello', [\"Hi\",\"Hey\"], 4.5, True, (\"Ten\", 20, 30.5, False)  \n",
    "print(\"a:\", a)\n",
    "print(\"b:\", b)\n",
    "print(\"c:\", c)\n",
    "print(\"d:\", d)\n",
    "print(\"e:\", e)\n",
    "print(\"f:\", f)\n",
    "\n",
    "print(\"\\nClass of a:\", type(a))\n",
    "print(\"Class of b:\", type(b))\n",
    "print(\"Class of c:\", type(c))\n",
    "print(\"Class of d:\", type(d))\n",
    "print(\"Class of e:\", type(e))\n",
    "print(\"Class of f:\", type(f))"
   ]
  },
  {
   "cell_type": "markdown",
   "metadata": {},
   "source": [
    "### `_` in Python"
   ]
  },
  {
   "cell_type": "markdown",
   "metadata": {},
   "source": [
    "<div class=\"alert alert-info\">\n",
    "<li><b>_</b> or <b>underscore</b> is a special variable in Python, which stores the most recent output value of the interpreter.\n",
    "</div>"
   ]
  },
  {
   "cell_type": "code",
   "execution_count": null,
   "metadata": {},
   "outputs": [],
   "source": [
    "# Some calculation\n",
    "3 * 5"
   ]
  },
  {
   "cell_type": "code",
   "execution_count": null,
   "metadata": {},
   "outputs": [],
   "source": [
    "# Restores previous calculation\n",
    "print(_)\n",
    "\n",
    "# _ can be used with other expressions and operators as well\n",
    "print(_ + 4)"
   ]
  },
  {
   "cell_type": "code",
   "execution_count": null,
   "metadata": {},
   "outputs": [],
   "source": []
  },
  {
   "cell_type": "markdown",
   "metadata": {},
   "source": [
    "### Multiple Variable Assignments"
   ]
  },
  {
   "cell_type": "code",
   "execution_count": null,
   "metadata": {},
   "outputs": [],
   "source": [
    "a, b, c = 4, 5.5, 'Hello'\n",
    "print(a)\n",
    "print(b)\n",
    "print(c)"
   ]
  },
  {
   "cell_type": "code",
   "execution_count": null,
   "metadata": {},
   "outputs": [],
   "source": [
    "# Variables a and b are extracted individually, other elements are returned within the list\n",
    "a, b, *c = [1, 2, 3, 4, 5]\n",
    "print(a)\n",
    "print(b)\n",
    "print(c)"
   ]
  },
  {
   "cell_type": "code",
   "execution_count": null,
   "metadata": {},
   "outputs": [],
   "source": [
    "a = [1, 2, 3]\n",
    "b = [1, 2, 3]\n",
    "\n",
    "print('a==b:', a == b)  # Values are equivalent\n",
    "print('a is b:', a is b)  # Separate objects\n",
    "\n",
    "print('\\nid(a):', id(a))\n",
    "print('id(b):', id(b))"
   ]
  },
  {
   "cell_type": "code",
   "execution_count": null,
   "metadata": {},
   "outputs": [],
   "source": [
    "b = a  # list B is referencing to list A\n",
    "print(\"\\nList A is {x} and List B is {y}\".format(x=a, y=b))\n",
    "a[2] = 5  # change in List A\n",
    "print(\n",
    "    \"After changing a[2]=5,\\nList A is {x} and List B is {y}\".format(x=a, y=b)\n",
    ")  # notice that list B also changes at the same position since both are referencing to the same list in memory.\n",
    "\n",
    "c = a[:]  # List C is created by cloning list A, a new list is created and not referenced\n",
    "print(\"\\nList A is {x} and List C is {z}\".format(x=a, z=c))\n",
    "a[2] = 3\n",
    "print(\"After changing a[2]=3,\\nList A is {x} and List C is {z}\".format(x=a,\n",
    "                                                                       z=c))\n",
    "# notice that list C doesn't changes because both are the different lists and they are not referencing to the same list in memory."
   ]
  },
  {
   "cell_type": "markdown",
   "metadata": {},
   "source": [
    "### `is` statement and id()"
   ]
  },
  {
   "cell_type": "markdown",
   "metadata": {},
   "source": [
    "<div class=\"alert alert-info\"><li>Operations upon variables.<li>Variable name should not start with digit.<li><b>id</b> Function<li><b>help</b> Function</div>"
   ]
  },
  {
   "cell_type": "markdown",
   "metadata": {},
   "source": [
    "* `==` is the **equality comparison**.\n",
    "* `is` is the **identity comparison**.\n",
    "* `a is not b` is a special operator which is equivalent to `not a is b`."
   ]
  },
  {
   "cell_type": "code",
   "execution_count": null,
   "metadata": {},
   "outputs": [],
   "source": [
    "print(\"\\n11 is 5:\", 11 is 5)  # is statement is equivalent to ==\n",
    "print(\"11 is not 5:\", 11 is not 5)  # is not statement is equivalent to !="
   ]
  },
  {
   "cell_type": "code",
   "execution_count": null,
   "metadata": {},
   "outputs": [],
   "source": [
    "x = 4\n",
    "y = 5\n",
    "print(\"x+y:\", x + y)\n",
    "\n",
    "# demonstrating the id function\n",
    "a = 1\n",
    "print(\n",
    "    \"\\na:\", a, \", id of a is:\", id(a)\n",
    ")  # id(variable) return a unique identifier for an object within the memory\n",
    "b = a  # variable 'b' is pointing to 'a'\n",
    "print(\n",
    "    \"b:\", b, \", id of b is:\", id(b)\n",
    ")  # id of 'b' is same as id of 'a' as they both refer to the same object in memory\n",
    "\n",
    "b = 2  # value of variable 'b' is changed\n",
    "print(\"\\nb:\", b, \", id of b is:\", id(b))  # id of 'b' will be changed\n",
    "\n",
    "# Help Function is called if we require any help in Python\n",
    "# For example, keywords. We should not use these reserved keywords as our variable names\n",
    "help('keywords')"
   ]
  },
  {
   "cell_type": "markdown",
   "metadata": {},
   "source": [
    "### User_Defined Input"
   ]
  },
  {
   "cell_type": "code",
   "execution_count": null,
   "metadata": {},
   "outputs": [],
   "source": [
    "a = input(\n",
    "    \"Enter number: \")  # input function is used for inputting through keyboard\n",
    "print(\"User entered: {}. It is a string\".format(a))\n",
    "print(type(a))  # result is of string data type\n",
    "\n",
    "# In order to convert string into number, we can use object constructor int()\n",
    "b = int(a)\n",
    "print(\"\\nAfter conversion, {} is a integer\".format(b))\n",
    "print(type(b), '\\n')"
   ]
  },
  {
   "cell_type": "markdown",
   "metadata": {},
   "source": [
    "### Conditional statements if-else, elif statements"
   ]
  },
  {
   "cell_type": "code",
   "execution_count": null,
   "metadata": {},
   "outputs": [],
   "source": [
    "# Indentation is critical in order to avoid error\n",
    "\n",
    "marks = int(\n",
    "    input(\"Enter Marks: \")\n",
    ")  # input() is enclosed inside int() which converts string into integer\n",
    "print(\"Marks scored: {}\".format(marks))\n",
    "\n",
    "if marks >= 75:  # if statement\n",
    "    print(\"Grade A\")\n",
    "elif marks >= 60 and marks < 75:  # else if statement\n",
    "    print(\"Grade B\")\n",
    "else:  # else statement\n",
    "    print(\"Grade C\")"
   ]
  },
  {
   "cell_type": "markdown",
   "metadata": {},
   "source": [
    "### Range()"
   ]
  },
  {
   "cell_type": "code",
   "execution_count": null,
   "metadata": {},
   "outputs": [],
   "source": [
    "# range(n) generates a sequence from 0 to n-1\n",
    "# list(range(n)) is used to represent the range in form of a list\n",
    "\n",
    "print(range(5), list(range(5)))\n",
    "print(range(4, 8), list(range(4, 8)))\n",
    "print(range(1, 10, 2), list(range(1, 10, 2)))"
   ]
  },
  {
   "cell_type": "markdown",
   "metadata": {},
   "source": [
    "### For Loop "
   ]
  },
  {
   "cell_type": "code",
   "execution_count": null,
   "metadata": {},
   "outputs": [],
   "source": [
    "a = [5, 2, 6, 2, 5, 1, 5]\n",
    "for i in a:  # iterates over each element in list\n",
    "    print(i)\n",
    "\n",
    "print(\"\\n\")\n",
    "\n",
    "a = [5, 2, 6, 2, 5, 1, 5]\n",
    "for i in range(len(a)):  # iterates over each index in list\n",
    "    print(\"Element {}: {}\".format(i, a[i]))\n",
    "\n",
    "print(\"\\n\")\n",
    "\n",
    "a = [5, 2, 6, 2, 5, 1, 5]\n",
    "print(\"Using enumerate,\")\n",
    "for i, k in enumerate(a, start=1):  # enumerate() yields (index,value) tuples\n",
    "    print(\"Element {}: {}\".format(i, k))\n",
    "\n",
    "list(enumerate(\n",
    "    a, start=1))  # enumerate function can also be used directly on the list"
   ]
  },
  {
   "cell_type": "code",
   "execution_count": null,
   "metadata": {},
   "outputs": [],
   "source": [
    "# List Comprehension using for loop\n",
    "\n",
    "# Method_1\n",
    "a = [10, 20, 30, 40, 50]\n",
    "print(\"a: \", a)\n",
    "b = []\n",
    "for i in a:\n",
    "    b.append((i * 10))\n",
    "print(\"b: \", b)\n",
    "\n",
    "# Method_2\n",
    "a = [10, 20, 30, 40, 50]\n",
    "b = [i * 10 for i in a]\n",
    "print(\"b: \", b)"
   ]
  },
  {
   "cell_type": "code",
   "execution_count": null,
   "metadata": {},
   "outputs": [],
   "source": [
    "# Example: number squared for even and cubed for odd\n",
    "\n",
    "x = [1, 2, 3, 4, 5, 6, 7, 8, 9]\n",
    "[y**2 if y % 2 == 0 else y**3 for y in x]"
   ]
  },
  {
   "cell_type": "code",
   "execution_count": null,
   "metadata": {},
   "outputs": [],
   "source": [
    "# Dictionary Comprehension\n",
    "\n",
    "a = [10, 20, 30, 40, 50]\n",
    "{x: x**2 for x in a}"
   ]
  },
  {
   "cell_type": "markdown",
   "metadata": {},
   "source": [
    "### While loop"
   ]
  },
  {
   "cell_type": "code",
   "execution_count": null,
   "metadata": {},
   "outputs": [],
   "source": [
    "a = [5, 2, 6, 2, 5, 1, 5]\n",
    "i = 0\n",
    "while i < len(a):\n",
    "    print(\"Element {}: {}\".format(i, a[i]))\n",
    "    i = i + 1"
   ]
  },
  {
   "cell_type": "code",
   "execution_count": null,
   "metadata": {},
   "outputs": [],
   "source": [
    "# List Comprehension using while loop\n",
    "# Data cleaning program (list containing numbers and string are filtered)\n",
    "\n",
    "i = 0\n",
    "x = [\"String\", 84.1, \"text\", 45.32, 23, \"Number\", 24, 36.4, \"Some text\", 31]\n",
    "y = []\n",
    "l = len(x)\n",
    "print(\"Original list: {}\".format(x))\n",
    "\n",
    "while i < l:\n",
    "    if isinstance(x[i], int) or isinstance(x[i], float):\n",
    "        y.append(x[i])\n",
    "        x.pop(i)\n",
    "        l -= 1\n",
    "        i -= 1\n",
    "    i = i + 1\n",
    "\n",
    "print(\"\\nAfter Data cleaning,\\nList with numbers: {}\".format(y))\n",
    "print(\"List with strings: {}\".format(x))"
   ]
  },
  {
   "cell_type": "markdown",
   "metadata": {},
   "source": [
    "### Break and continue statements"
   ]
  },
  {
   "cell_type": "code",
   "execution_count": null,
   "metadata": {},
   "outputs": [],
   "source": [
    "for i in range(10):\n",
    "    if (i == 4):\n",
    "        continue  # element 4 is skipped\n",
    "    if (i == 8):\n",
    "        break  # loop stops as it reaches 8\n",
    "    print(i)"
   ]
  },
  {
   "cell_type": "markdown",
   "metadata": {},
   "source": [
    "### User_Defined Functions"
   ]
  },
  {
   "cell_type": "code",
   "execution_count": null,
   "metadata": {},
   "outputs": [],
   "source": [
    "# Functions are defined for code-reusability\n",
    "# Compiling the above code in function\n",
    "\n",
    "a = [\"String\", 84.1, \"text\", 45.32, 23, \"Number\", 24, 36.4, \"Some text\",\n",
    "     31]  # Global variable\n",
    "print(\"Original list: {}\".format(a), \"\\n\")\n",
    "\n",
    "\n",
    "def data_clean(x):  # function declaration\n",
    "    '''    \n",
    "    List containing numbers and string are filtered \n",
    "    ''' # Documentation of function is enclosed in paragraph\n",
    "    i = 0\n",
    "    y = []  # Local variable\n",
    "    l = len(x)\n",
    "    while i < l:\n",
    "        if isinstance(x[i], int) or isinstance(x[i], float):\n",
    "            y.append(x[i])\n",
    "            x.pop(i)\n",
    "            l -= 1\n",
    "            i -= 1\n",
    "        i = i + 1\n",
    "    return y, x  # return statement returns the value\n",
    "\n",
    "\n",
    "def sum_list(x):\n",
    "    '''\n",
    "    Sum of list elements \n",
    "    '''\n",
    "    sum = 0\n",
    "    for i in x:\n",
    "        if isinstance(i, int) or isinstance(i, float):\n",
    "            sum = sum + i\n",
    "        else:\n",
    "            pass  # pass statement means do nothing\n",
    "    return sum\n",
    "\n",
    "\n",
    "# function calling\n",
    "d = sum_list(a)\n",
    "b, c = data_clean(a)\n",
    "\n",
    "# On calling the help(), we can see the documentation of the function.\n",
    "help(data_clean)\n",
    "print(\"Returning function data_clean:\", b, c, \"\\n\")\n",
    "\n",
    "help(sum_list)\n",
    "print(\"Returning function sum_list:\", d, \"\\n\")"
   ]
  },
  {
   "cell_type": "code",
   "execution_count": null,
   "metadata": {},
   "outputs": [],
   "source": [
    "def add(a, b=5):\n",
    "    sum = a + b\n",
    "    return sum\n",
    "\n",
    "\n",
    "print(\"Calling function when only one parameter is defined: \",\n",
    "      add(3))  # default value for b is taken\n",
    "print(\"Calling function when both parameters are defined: \",\n",
    "      add(4, 8))  # default value is replaced"
   ]
  },
  {
   "cell_type": "markdown",
   "metadata": {},
   "source": [
    "### Objects and Classes"
   ]
  },
  {
   "cell_type": "code",
   "execution_count": null,
   "metadata": {},
   "outputs": [],
   "source": [
    "a = [1, 2, 3, 4, 5]\n",
    "dir(a)  # returns the list of all Python's objects classes"
   ]
  },
  {
   "cell_type": "markdown",
   "metadata": {},
   "source": [
    "<div class=\"alert alert-info\"><li><b>Inheritance</b></div>"
   ]
  },
  {
   "cell_type": "code",
   "execution_count": null,
   "metadata": {},
   "outputs": [],
   "source": [
    "class Human():  # defining class Human\n",
    "    # attributes\n",
    "    legs = 2\n",
    "    ears = 2\n",
    "    hands = 2\n",
    "    eyes = 2\n",
    "\n",
    "    # function (callable)\n",
    "    def get_legs(\n",
    "        self\n",
    "    ):  # self method is used to refer to the parameters of the instance of a class\n",
    "        return self.legs\n",
    "\n",
    "    @property\n",
    "    def get_ears(self):  # property (not a function, hence not callable)\n",
    "        return self.ears\n",
    "\n",
    "\n",
    "class man(\n",
    "        Human\n",
    "):  # defining class man, Human is inherited by defining inside parenthesis\n",
    "    gender = 'male'\n",
    "\n",
    "\n",
    "class woman(Human):  # defining class woman, Human is the parent class\n",
    "    gender = 'female'\n",
    "\n",
    "\n",
    "Jon = man()  # object created\n",
    "print(\"Jon.gender:\", Jon.gender)\n",
    "print(\"Jon.eyes:\", Jon.eyes)\n",
    "Jon.nose = 1\n",
    "print(\"Jon.nose:\", Jon.nose)\n",
    "print(\n",
    "    \"Jon.get_legs():\",\n",
    "    Jon.get_legs())  # parenthesis is required when we are calling the function\n",
    "print(\n",
    "    \"Jon.get_legs:\", Jon.get_legs\n",
    ")  # parenthesis is omitted, bound method message appears depicting the function\n",
    "print(\n",
    "    \"Jon.get_ears:\", Jon.get_ears\n",
    ")  # although parenthesis is omitted, bound method message would not appear as '@property' is defined above the method which makes it a property\n",
    "\n",
    "Jeny = woman()\n",
    "print(\"\\nJeny.gender:\", Jeny.gender)\n",
    "print(\"Jeny.hands:\", Jeny.hands)"
   ]
  },
  {
   "cell_type": "markdown",
   "metadata": {},
   "source": [
    "Example for Python in-built Decorator @property:\n",
    "https://www.journaldev.com/14893/python-property-decorator"
   ]
  },
  {
   "cell_type": "markdown",
   "metadata": {},
   "source": [
    "<div class=\"alert alert-info\">Special methods: <li><b>__init__</b><li><b>__str__</b><li><b>__name__</b></div>\n",
    "\n",
    "> Before executing code in a module (file), Python will define a few special variables\n",
    ">* If the Python interpreter is running the file as the main program, it sets the special __name__ variable to have a value \"__main__”\n",
    ">* If the file is being imported from another module, __name__ will be set to that module’s (file’s) name\n",
    "\n",
    "> To direct the Python interpreter when it first reads a file, add the following conditional (to the bottom) of our script:\n",
    ">\n",
    ">`if __name__ == \"__main__ ”:\n",
    ">      main()`\n",
    "> * This will run the main function, if the file is loaded as the main program"
   ]
  },
  {
   "cell_type": "code",
   "execution_count": null,
   "metadata": {},
   "outputs": [],
   "source": [
    "class Student():\n",
    "\n",
    "    def __init__(\n",
    "            self, name, age,\n",
    "            city):  # __init__ is a special method used to create an instance\n",
    "        # Data Attributes for initializing objects\n",
    "        self.name = name\n",
    "        self.age = age\n",
    "        self.city = city\n",
    "\n",
    "    def details(self):\n",
    "        print(\"Name is: \", self.name)\n",
    "        print(\"Age is: \", self.age)\n",
    "        print(\"City is: \", self.city)\n",
    "\n",
    "    def __str__(\n",
    "        self\n",
    "    ):  # __str__ is a special method used to return a string representation of an object\n",
    "        return \"| %s | %s | %s |\" % (self.name, self.age, self.city)\n",
    "\n",
    "\n",
    "a = Student(\"James\", 24, \"Dubai\")\n",
    "b = Student(\"Jack\", 23, \"New York\")\n",
    "c = Student(\"Julia\", 24, \"Delhi\")\n",
    "d = Student(\"Jim\", 21, \"California\")\n",
    "\n",
    "a.details()\n",
    "print(\"\\nb.name:\", b.name)\n",
    "print(\"c.city:\", c.city)\n",
    "print(\"d:\", d)\n",
    "\n",
    "# Special method __name__\n",
    "print()\n",
    "print(\n",
    "    __name__\n",
    ")  # Evaluates to '__main__' or the actual module name, depending on how the enclosing module is being used"
   ]
  },
  {
   "cell_type": "markdown",
   "metadata": {},
   "source": [
    "* More OOPS Examples: https://github.com/udacity/DSND_Term2/tree/master/lessons/ObjectOrientedProgramming/JupyterNotebooks\n",
    "\n",
    "#### Note: \n",
    "For public vs private methods, use an underscore _ before the method name to keep it non-public. For example:"
   ]
  },
  {
   "cell_type": "code",
   "execution_count": null,
   "metadata": {},
   "outputs": [],
   "source": [
    "class M(object):\n",
    "\n",
    "    def abc(self):  # abc is a public function\n",
    "        print('Use Tab button to see public method!')\n",
    "\n",
    "    def _xyz(self):  # xyz is a private function\n",
    "        print(\"Private method is not visible while using the Tab button!\")\n",
    "\n",
    "\n",
    "m = M()\n",
    "m.abc()\n",
    "m._xyz()\n",
    "\n",
    "print()\n",
    "\n",
    "\n",
    "class N(M):\n",
    "\n",
    "    def pqr(self):  # pqr is a public function\n",
    "        print('Use Tab button to see public method!')\n",
    "\n",
    "\n",
    "n = N()\n",
    "n.abc()\n",
    "n.pqr()\n",
    "n._xyz()"
   ]
  },
  {
   "cell_type": "code",
   "execution_count": null,
   "metadata": {},
   "outputs": [],
   "source": [
    "dir(M)"
   ]
  },
  {
   "cell_type": "markdown",
   "metadata": {},
   "source": [
    "<div class=\"alert alert-info\"><li>Defining <b>Histogram</b> using dictionary</div>"
   ]
  },
  {
   "cell_type": "code",
   "execution_count": null,
   "metadata": {},
   "outputs": [],
   "source": [
    "def histogram(x):\n",
    "    a = dict()\n",
    "    for i in x:\n",
    "        if i not in a:\n",
    "            a[i] = 1\n",
    "        else:\n",
    "            a[i] += 1\n",
    "    return a\n",
    "\n",
    "\n",
    "# Example_1\n",
    "s = 'This is a sample text string'\n",
    "print(\"String:\", s)\n",
    "\n",
    "h1 = histogram(s)\n",
    "print(\"\\nHistogram h1:\", h1)\n",
    "print(\"No. of times 'i' present in h1: %d\" % (h1.get('i'))\n",
    "      )  # fetching a particular frequency of an individual element using get()\n",
    "print(\"No. of times 's' present in h1: %d\" % (h1.get('s')))\n",
    "\n",
    "# Example_2\n",
    "import random as rd\n",
    "\n",
    "l = []\n",
    "for i in range(100):\n",
    "    k = rd.randint(0, 9)\n",
    "    l.append(k)\n",
    "print(\"\\nList:\", l)\n",
    "\n",
    "h2 = histogram(l)\n",
    "print(\"\\nHistogram h2:\", h2)\n",
    "print(\"No. of times '3' present in h2: %d\" % (h2.get(3)))\n",
    "print(\"No. of times '7' present in h2: %d\" % (h2.get(7)))"
   ]
  },
  {
   "cell_type": "markdown",
   "metadata": {},
   "source": [
    "### Lambda Statement"
   ]
  },
  {
   "cell_type": "code",
   "execution_count": null,
   "metadata": {},
   "outputs": [],
   "source": [
    "# Lambda functions are defined when the functions are used very less\n",
    "# Lambda is used to create small anonymous functions using “lambda” keyword and can be used wherever function objects are needed.\n",
    "# It can any number of arguments but only one expression\n",
    "\n",
    "# Example 1\n",
    "a = [1, 2, 3, 4, 5]\n",
    "print(\"a: \", a)\n",
    "\n",
    "\n",
    "def expr(x):  # some function for calculation\n",
    "    return ((x**x + x) / x) - x  # some expression\n",
    "\n",
    "\n",
    "print(\"Result using function:\", expr(4))\n",
    "\n",
    "# the above function can be illustrated using lambda function\n",
    "a = lambda x: ((x**x + x) / x) - x\n",
    "print(\"Result using lambda expression:\", a(4))\n",
    "\n",
    "# Example 2\n",
    "b = \"This is a sample text\"\n",
    "c = b.split()\n",
    "print(\"\\nString:\", b)\n",
    "print(\"After split():\", c)\n",
    "d = ' '  # empty string with space\n",
    "print(\n",
    "    \"Joining list by '%s' using join():\" % (d), d.join(c)\n",
    ")  # join() is used to join a list of strings using the string d in between its elements (works opposite to the split())\n",
    "e = ' | '\n",
    "print(\"Joining list by '%s' using join():\" % (e), e.join(c))\n",
    "\n",
    "# using lambda\n",
    "x = lambda a: ' '.join(a)\n",
    "print(\"Joining list by ' ' using lambda expression:\", x(c))\n",
    "\n",
    "# Example 3\n",
    "s = lambda x, y: x + y\n",
    "print('\\nCalculating Sum using lambda function:', s(3, 4))"
   ]
  },
  {
   "cell_type": "markdown",
   "metadata": {},
   "source": [
    "### pow()\n",
    "The function pow() takes two arguments, equivalent to x^y. With three arguments it is equivalent to (x^y)%z, but may be more efficient for long integers."
   ]
  },
  {
   "cell_type": "code",
   "execution_count": null,
   "metadata": {},
   "outputs": [],
   "source": [
    "print(\"2 ^ 5: \", 2**5)\n",
    "print(\"2 ^ 5: \", pow(2, 5))\n",
    "print(\"(2 ^ 5) % 3: \", pow(2, 5, 3))"
   ]
  },
  {
   "cell_type": "markdown",
   "metadata": {},
   "source": [
    "### abs()\n",
    "The function abs() returns the absolute value of a number. The argument may be an integer or a floating point number. If the argument is a complex number, its magnitude is returned."
   ]
  },
  {
   "cell_type": "code",
   "execution_count": null,
   "metadata": {},
   "outputs": [],
   "source": [
    "print(\"abs(2.39): \", abs(2.39))\n",
    "print(\"abs(12+2j): \", abs(12 + 2j))"
   ]
  },
  {
   "cell_type": "markdown",
   "metadata": {},
   "source": [
    "### round()\n",
    "The function round() will round a number to a given precision in decimal digits (default 0 digits). It does not convert integers to floats."
   ]
  },
  {
   "cell_type": "code",
   "execution_count": null,
   "metadata": {},
   "outputs": [],
   "source": [
    "print(\"round(3.14): \", round(3.14))\n",
    "print(\"round(3.14,1): \", round(3.14, 1))\n",
    "print(\"round(314,-2): \", round(314, -2))\n",
    "print(\"round(2379,-2): \", round(2379, -2))"
   ]
  },
  {
   "cell_type": "markdown",
   "metadata": {},
   "source": [
    "### divmod()\n",
    "divmod() takes two arguments and returns a tuple of two values, quotient and remainder  "
   ]
  },
  {
   "cell_type": "code",
   "execution_count": null,
   "metadata": {},
   "outputs": [],
   "source": [
    "a = 5\n",
    "b = 2\n",
    "print(\"a:\", a)\n",
    "print(\"b:\", b)\n",
    "print(\"a//b:\", a // b)  # Quotient\n",
    "print(\"a%b:\", a % b)  # Remainder\n",
    "\n",
    "quot, rem = divmod(a, b)\n",
    "print(\"\\nQuotient using divmod():\", quot)\n",
    "print(\"Remainder using divmod():\", rem)"
   ]
  },
  {
   "cell_type": "markdown",
   "metadata": {},
   "source": [
    "### zip()"
   ]
  },
  {
   "cell_type": "code",
   "execution_count": null,
   "metadata": {},
   "outputs": [],
   "source": [
    "# zip() contains one element from each sequence\n",
    "x = zip(\"Hello\", \"12345\")\n",
    "print(\"x: \", list(x))  # result is changed into list\n",
    "print(\"Type: \", type(x))  # zip is a class\n",
    "\n",
    "y = list(zip([1, 2, 3, 4], ('abc', 'pqr', 'xyz')))\n",
    "print(\"\\ny: \", y)  # contains three elements (shorter length is considered)\n",
    "\n",
    "# in order to get back the lists, we can unzip the list of tuples using the asterisk\n",
    "a, b = zip(*y)\n",
    "print(\"\\nAfter unzip, \\na: {} \\nb: {}\".format(a, b))\n",
    "\n",
    "# zip() in dictionaries\n",
    "print(f\"\\nUsing zip() on dictionaries:\")\n",
    "\n",
    "d1 = {'a': 1, 'b': 2}\n",
    "print(f\"d1: {d1}\")\n",
    "d2 = {'c': 4, 'd': 5}\n",
    "print(f\"d2: {d2}\")\n",
    "\n",
    "print(f\"list(zip(d1,d2)): {list(zip(d1,d2))}\")\n",
    "print(f\"list(zip(d2,d1.values())): {list(zip(d2,d1.values()))}\")\n",
    "\n",
    "\n",
    "# Example: two strings from L1 and L2 concatenated together with a connector between them\n",
    "def concatenate(L1, L2, connector):\n",
    "    return [word1 + connector + word2 for (word1, word2) in zip(L1, L2)]\n",
    "\n",
    "\n",
    "print(\"\\nConcatenating strings with connector using zip():\",\n",
    "      concatenate(['A', 'B'], ['a', 'b'], '-'))"
   ]
  },
  {
   "cell_type": "code",
   "execution_count": null,
   "metadata": {},
   "outputs": [],
   "source": [
    "# Transpose of a matrix\n",
    "\n",
    "a = [[1, 2, 3], [4, 5, 6], [7, 8, 9]]\n",
    "transpose = [list(i) for i in zip(*a)]\n",
    "transpose"
   ]
  },
  {
   "cell_type": "markdown",
   "metadata": {},
   "source": [
    "### map()\n",
    "map() is used to apply the function on the specified sequence"
   ]
  },
  {
   "cell_type": "code",
   "execution_count": null,
   "metadata": {},
   "outputs": [],
   "source": [
    "a = [1, 2, 3, 4, 5, 6, 7, 8, 9]\n",
    "print(\"List:\", a)\n",
    "\n",
    "\n",
    "def add_two(x):  # function that adds 2 to each element\n",
    "    x = x + 2\n",
    "    return x\n",
    "\n",
    "\n",
    "print(\"\\nFunction is applied to all the elements of list using map():\",\n",
    "      list(map(add_two, a)))\n",
    "\n",
    "# lambda function is mostly integrated in these cases in order to reduce the complexity of the program\n",
    "c = list(map(lambda x: x + 2, a))\n",
    "print(\"Lambda expression is applied to all the elements of list using map():\",\n",
    "      c)\n",
    "\n",
    "a = [1, 2, 3, 4]\n",
    "b = [5, 6, 7, 8]\n",
    "c = [9, 10, 11, 12]\n",
    "print(\n",
    "    f\"\\nMap() with multiple iterables: {list(map(lambda x,y,z:x+y+z,a,b,c))}\")\n",
    "\n",
    "\n",
    "# map() for finding the length of each word in the phrase (broken by spaces) and return the values in a list\n",
    "def word_lengths(phrase):\n",
    "    return list(map(len, phrase.split()))\n",
    "\n",
    "\n",
    "phrase = \"This is a testing phrase\"\n",
    "print(\"\\nPhrase: \", phrase)\n",
    "print(\"Words Length: \", word_lengths(phrase))"
   ]
  },
  {
   "cell_type": "markdown",
   "metadata": {},
   "source": [
    "### filter()\n",
    "filter() is used to filter the elements by applying the function on the particular sequence\n"
   ]
  },
  {
   "cell_type": "code",
   "execution_count": null,
   "metadata": {},
   "outputs": [],
   "source": [
    "a = [1, 2, 3, 4, 5, 6, 7, 8, 9]\n",
    "print(\"a:\", a)\n",
    "\n",
    "\n",
    "def div_3(x):\n",
    "    if (x % 3 == 0):\n",
    "        return x\n",
    "\n",
    "\n",
    "print(\"Filter elements in list using filter():\", list(filter(div_3, a)))\n",
    "\n",
    "\n",
    "def filter_words(word_list, letter):\n",
    "    return list(filter(lambda word: word[0] == letter, word_list))\n",
    "\n",
    "\n",
    "words = ['hello', 'are', 'cat', 'dog', 'ham', 'hi', 'go', 'to', 'heart']\n",
    "print(\"\\nWords:\", words)\n",
    "print(\"Filtering Words starting with 'h' from the list:\",\n",
    "      filter_words(words, 'h'))"
   ]
  },
  {
   "cell_type": "markdown",
   "metadata": {},
   "source": [
    "### reduce()\n",
    "\n",
    "The function reduce(function, sequence) continually applies the function to the sequence. It then returns a single value. If seq = [ s1, s2, s3, ... , sn ], calling reduce(function, sequence) works like this:\n",
    "\n",
    "* At first the first two elements of seq will be applied to function, i.e. func(s1,s2). The list on which reduce() works looks now like this: [ function(s1, s2), s3, ... , sn ]\n",
    "* In the next step the function will be applied on the previous result and the third element of the list, i.e. function(function(s1, s2),s3). The list looks like this now: [ function(function(s1, s2),s3), ... , sn ]\n",
    "* It continues like this until just one element is left and return this element as the result of reduce()"
   ]
  },
  {
   "cell_type": "code",
   "execution_count": null,
   "metadata": {},
   "outputs": [],
   "source": [
    "from functools import reduce\n",
    "\n",
    "arr = [77, 41, 42, 13]\n",
    "print(\"Sum of all elements using reduce(): \", reduce(lambda x, y: x + y,\n",
    "                                                     arr))  # similar to sum()\n",
    "\n",
    "\n",
    "# Example: Get Difference of two elements if the first element is bigger, else add two elements\n",
    "def myfunc(a, b):\n",
    "    return a - b if (a > b) else a + b\n",
    "\n",
    "\n",
    "print(\"\\nmyfunc() result using reduce(): \", reduce(myfunc, arr))\n",
    "\n",
    "\n",
    "# Example: Converting a list of digits into number\n",
    "def digits_to_num(digits):\n",
    "    return reduce(lambda x, y: x * 10 + y, digits)\n",
    "\n",
    "\n",
    "print(\"\\ndigits_to_num() result:\", digits_to_num([3, 4, 3, 2, 1]))"
   ]
  },
  {
   "cell_type": "markdown",
   "metadata": {},
   "source": [
    "### Reading and Writing files "
   ]
  },
  {
   "cell_type": "markdown",
   "metadata": {},
   "source": [
    "<div class=\"alert alert-info\"><li>write() method is used to write<li>read() method reads from the current position until the end of the file<li>readLines() method is for reading all text on file and return a list of lines<li>readline() method reads a single line from the current position</div>"
   ]
  },
  {
   "cell_type": "code",
   "execution_count": null,
   "metadata": {},
   "outputs": [],
   "source": [
    "# Creating file Test1.txt\n",
    "with open('Test1.txt',\n",
    "          'w') as wf:  # w represents writing mode, wf is the alias name\n",
    "    wf.write(\n",
    "        \"This is a sample test line\")  # write() is used to write text on file\n",
    "    wf.write(\"\\nThis is a next line. \")\n",
    "    wf.write(\"Continuing last line.\")\n",
    "\n",
    "with open('Test1.txt', 'r') as twf:  # r represents reading mode\n",
    "    print('Writing and Reading text files using write() and read():\\n',\n",
    "          twf.read(), '\\n')  # read() is used to read text on file\n",
    "\n",
    "with open('Test1.txt',\n",
    "          'a') as twf:  # a represents appending in the existing file\n",
    "    twf.write(\" This is the appended text.\")\n",
    "\n",
    "with open('Test1.txt', 'r') as twf:\n",
    "    print(\n",
    "        \"Appending text in an existing file using readlines():\\n\",\n",
    "        twf.readlines(), '\\n'\n",
    "    )  # readlines() is used to read text on file and returns a list of lines\n",
    "\n",
    "# copying from one file into another\n",
    "with open('Test1.txt', 'r') as rf:\n",
    "    with open('Test2.txt', 'w') as wf:\n",
    "        for line in rf:\n",
    "            wf.write(line)\n",
    "\n",
    "with open('Test2.txt', 'r') as twf:\n",
    "    print(\"Copying from one file into another file:\\n\",\n",
    "          twf.readline())  #  readline() is used to read the first line\n",
    "    print(\"Reading partial characters:\", twf.read(\n",
    "        23))  # reading next 23 characters from the last reading position\n",
    "    print(\"Moving pointer in the file:\", twf.seek(75))\n",
    "    print(\"Reading Line:\", twf.read())\n",
    "\n",
    "print(\"\\nName of the file:\", twf.name)  # fetching the name of file\n",
    "print(\"Mode of the file:\", twf.mode)  # fetching the mode of file\n",
    "twf.close()  # closing file"
   ]
  },
  {
   "cell_type": "markdown",
   "metadata": {},
   "source": [
    "### Error handling"
   ]
  },
  {
   "cell_type": "markdown",
   "metadata": {},
   "source": [
    "<div class=\"alert alert-info\"><li>Raise an exception to interrupt program flow<li>Handle an exception to resume control<li>Unhandled exceptions will terminate the program<li>Exception objects contain information about the exceptional event<li>Illustration of <i>try</i> and <i>except</i> blocks<li><i>Finally</i> block always executes in the end</div>"
   ]
  },
  {
   "cell_type": "code",
   "execution_count": null,
   "metadata": {},
   "outputs": [],
   "source": [
    "# Errors are catched using try & except blocks\n",
    "\n",
    "# Scenario 1:\n",
    "try:\n",
    "    b = 34 / 0\n",
    "except:\n",
    "    print('Error! Division by Zero is not possible')\n",
    "\n",
    "# Scenario 2:\n",
    "try:\n",
    "    float(\"Text\")\n",
    "except:\n",
    "    print('Error! Text cannot be converted into Float datatype')\n",
    "\n",
    "# Scenario 3:\n",
    "try:\n",
    "    'Text' + 32\n",
    "except:\n",
    "    print('Error! String and Integer cannot be added')"
   ]
  },
  {
   "cell_type": "markdown",
   "metadata": {},
   "source": [
    "### Built-in Exceptions\n",
    "\n",
    "\n",
    "<table>\n",
    "    <tr>\n",
    "        <th>Exception</th>\n",
    "        <th>Explanation</th>\n",
    "    </tr>\n",
    "    <tr>\n",
    "        <td>KeyboardInterrupt</td>\n",
    "        <td>Raised when user hits Ctrl-C, the interrupt key</td>\n",
    "    </tr>\n",
    "    <tr>\n",
    "        <td>OverflowError</td>\n",
    "        <td>Raised when a floating-point expression evaluates to a value that is too large</td>\n",
    "    </tr>\n",
    "    <tr>\n",
    "        <td>ZeroDivisionError</td>\n",
    "        <td>Raised when attempting to divide by 0</td>\n",
    "    </tr>\n",
    "    <tr>\n",
    "        <td>IOError</td>\n",
    "        <td>Raised when an I/O operation fails for an I/O-related reason</td>\n",
    "    </tr>\n",
    "    <tr>\n",
    "        <td>IndexError</td>\n",
    "        <td>Raised when a sequence index is outside the range of valid indexes</td>\n",
    "    </tr>\n",
    "    <tr>\n",
    "        <td>NameError</td>\n",
    "        <td>Raised when attempting to evaluate an unassigned identifier (name)</td>\n",
    "    </tr>\n",
    "    <tr>\n",
    "        <td>TypeError</td>\n",
    "        <td>Raised when an operation of function is applied to an object of the wrong type</td>\n",
    "    </tr>\n",
    "    <tr>\n",
    "        <td>ValueError</td>\n",
    "        <td>Raised when operation or function has an argument of the right type but incorrect value</td>\n",
    "    </tr>\n",
    "    <tr>\n",
    "        <td>KeyError</td>\n",
    "        <td>Raised when lookup in a mapping fails</td>\n",
    "    </tr>\n",
    "</table>"
   ]
  },
  {
   "cell_type": "code",
   "execution_count": null,
   "metadata": {},
   "outputs": [],
   "source": [
    "def convert(s):\n",
    "    '''Convert to an integer'''\n",
    "    error = 0\n",
    "    try:\n",
    "        return int(s)\n",
    "        print(\"Conversion Succeeded, x={}\".format(x))\n",
    "    except (ValueError, TypeError) as e:\n",
    "        print('Conversion Failed: {}'.format(str(e)))\n",
    "        error = 1\n",
    "        raise  # Exceptional conditions can be signaled using raise, without an argument it re-raises the current exception\n",
    "    finally:\n",
    "        if error == 0:\n",
    "            print('Successful !!')\n",
    "        elif error == 1:\n",
    "            print('Error is due to the wrong input: {}'.format(s))\n",
    "\n",
    "\n",
    "convert(34)"
   ]
  },
  {
   "cell_type": "code",
   "execution_count": null,
   "metadata": {},
   "outputs": [],
   "source": [
    "convert(\"Thirty\")  # Throws ValueError"
   ]
  },
  {
   "cell_type": "code",
   "execution_count": null,
   "metadata": {},
   "outputs": [],
   "source": [
    "convert([34, 45])  # Throws TypeError"
   ]
  },
  {
   "cell_type": "markdown",
   "metadata": {},
   "source": [
    "### Iterator\n",
    "* Iterable objects can be passed to the built-in iter() to get an iterator.\n",
    "* Iterator objects can be passed to the built-in next() to fetch the next item."
   ]
  },
  {
   "cell_type": "code",
   "execution_count": null,
   "metadata": {},
   "outputs": [],
   "source": [
    "iterable = ['Cow', 'Hen', 'Dog', 'Cat']\n",
    "iterator = iter(iterable)\n",
    "print('Iterable List: ', iterable)\n",
    "print('Iterator:', iterator)  # object\n",
    "print()\n",
    "while 1:\n",
    "    try:\n",
    "        print(next(iterator))\n",
    "    except StopIteration as e:\n",
    "        break"
   ]
  },
  {
   "cell_type": "markdown",
   "metadata": {},
   "source": [
    "### Generators\n",
    "* **specify iterable sequences:** all generators are iterators\n",
    "* **are lazily evaluated:** the next value in the sequence is computed on demand\n",
    "* **can model infinite sequences:** such as data streams with no definite end\n",
    "* **are composable into pipelines:** for natural stream processing\n",
    "* Generators adapt the Just in Time Computations.\n",
    "* Generator functions contains atleast one use of the **yield** keyword.\n",
    "* Each call to a generator function creates a new generator object.\n",
    "* These are generally used for infinite (or large) sequences, sensor readings, mathematical series, massive files, etc"
   ]
  },
  {
   "cell_type": "code",
   "execution_count": null,
   "metadata": {},
   "outputs": [],
   "source": [
    "def testgen():\n",
    "    yield 1\n",
    "    yield 2\n",
    "    yield 3\n",
    "\n",
    "\n",
    "g = testgen()\n",
    "print('Generator:', g)  # object\n",
    "print()\n",
    "print(next(g))  # works similar to iterator\n",
    "for each in g:  # printing remaining elements\n",
    "    print(each)"
   ]
  },
  {
   "cell_type": "code",
   "execution_count": null,
   "metadata": {},
   "outputs": [],
   "source": [
    "# Generator Execution\n",
    "\n",
    "\n",
    "def take(count, iterable):\n",
    "    ''' Takes item from the front of an iterable\n",
    "    \n",
    "    Args:\n",
    "        count: The maxximum number of items to retrieve\n",
    "        iterable: The source series\n",
    "        \n",
    "    Yields:\n",
    "        At most 'count' items from an 'iterable'\n",
    "    '''\n",
    "    counter = 0\n",
    "    for item in iterable:\n",
    "        if counter == count:\n",
    "            return\n",
    "        counter += 1\n",
    "        yield item\n",
    "\n",
    "\n",
    "def distinct(iterable):\n",
    "    ''' Return unique items by eliminating duplicates\n",
    "    \n",
    "    Args:\n",
    "        iterable: The source series\n",
    "    \n",
    "    Yields:\n",
    "        Unique elements in order from 'iterable'\n",
    "    '''\n",
    "    seen = set()\n",
    "    for item in iterable:\n",
    "        if item in seen:\n",
    "            continue\n",
    "        yield item\n",
    "        seen.add(item)\n",
    "\n",
    "\n",
    "def run_pipeline():\n",
    "    items = [3, 1, 4, 1, 1, 2, 5, 1, 3, 6, 1, 6, 1, 7, 3, 1, 3, 2, 4]\n",
    "    return [item for item in take(5, distinct(items))]\n",
    "\n",
    "\n",
    "run_pipeline()"
   ]
  },
  {
   "cell_type": "code",
   "execution_count": null,
   "metadata": {},
   "outputs": [],
   "source": [
    "# Defining model specifications\n",
    "\n",
    "squares = (x * x for x in range(1, int(10e5)))\n",
    "print(\n",
    "    'Model:', squares\n",
    ")  # returns generator object, saves memory by just defining and not running it\n",
    "print('Sum of model:', sum(squares))"
   ]
  },
  {
   "cell_type": "code",
   "execution_count": null,
   "metadata": {},
   "outputs": [],
   "source": [
    "a = [1, 2, 3]\n",
    "b = [4, 5, 6]\n",
    "from itertools import chain\n",
    "\n",
    "c = chain(a, b)  # joining two lists\n",
    "print('Chain Object:', c)  # object\n",
    "list(c)"
   ]
  },
  {
   "cell_type": "markdown",
   "metadata": {},
   "source": [
    "### All / Any\n",
    "* **all** returns True if all values are True, else returns False\n",
    "* **any** returns True if any value is True, else returns False"
   ]
  },
  {
   "cell_type": "code",
   "execution_count": null,
   "metadata": {},
   "outputs": [],
   "source": [
    "print('all([True,False,False]):', all([True, False, False]))\n",
    "print('any([True,False,False]):', any([True, False, False]))"
   ]
  },
  {
   "cell_type": "markdown",
   "metadata": {},
   "source": [
    "### Python DeBugger (PDB)\n",
    "PDB is a standard command-line debugger to find errors in our code. It includes features to let us pause our program, look at the values of variables, and watch program execution step-by-step, so we can understand what our program actually does and find bugs in the logic.\n",
    "* PDB's **where** command shows the current call stack\n",
    "* PDB's **next** command lets execution continue to the next line of code\n",
    "* PDB's **continue** command lets program execution continue indefinitely, or until it is stopped with control-c\n",
    "* PDB's **list** command shows the source code at the current location\n",
    "* PDB's **return** command resumes execution until the end of the current execution"
   ]
  },
  {
   "cell_type": "code",
   "execution_count": null,
   "metadata": {},
   "outputs": [],
   "source": [
    "# Used for detecting error in code (for debugging purposes)\n",
    "import pdb\n",
    "\n",
    "x = [3, 1, 2]\n",
    "y = 6\n",
    "z = 7\n",
    "\n",
    "result = y + z\n",
    "print(result)\n",
    "\n",
    "# Set a trace using Python Debugger\n",
    "pdb.set_trace()\n",
    "\n",
    "result2 = y + x  # Error Here\n",
    "print(result2)"
   ]
  },
  {
   "cell_type": "markdown",
   "metadata": {},
   "source": [
    "### Decorator\n",
    "\n",
    "A decorator is any callable Python object that is used to modify a function or a class. It takes a function, adds some functionality, and returns it. Decorators are a very powerful and useful tool in Python since it allows programmers to modify/control the behavior of function or class.\n",
    "\n",
    "In Decorators, functions are passed as an argument into another function and then called inside the wrapper function.\n",
    "Decorators are usually called before the definition of a function you want to decorate.\n",
    "\n",
    "There are two different kinds of decorators in Python: Function decorators and Class decorators.\n",
    "\n",
    "When using Multiple Decorators to a single function, the decorators will be applied in the order they’ve been called\n",
    "By recalling that decorator function, we can re-use the decorator\n"
   ]
  },
  {
   "cell_type": "code",
   "execution_count": null,
   "metadata": {},
   "outputs": [],
   "source": [
    "#Decorators\n",
    "def test_decorator(func):\n",
    "\n",
    "    def function_wrapper(x):\n",
    "        print(\"Before calling \" + func.__name__)\n",
    "        res = func(x)\n",
    "        print(res)\n",
    "        print(\"After calling \" + func.__name__)\n",
    "\n",
    "    return function_wrapper\n",
    "\n",
    "\n",
    "@test_decorator\n",
    "def sqr(n):\n",
    "    return n**2\n",
    "\n",
    "\n",
    "sqr(5)"
   ]
  },
  {
   "cell_type": "code",
   "execution_count": null,
   "metadata": {},
   "outputs": [],
   "source": [
    "# Multiple Decorators\n",
    "def lowercase_decorator(function):\n",
    "\n",
    "    def wrapper():\n",
    "        func = function()\n",
    "        make_lowercase = func.lower()\n",
    "        return make_lowercase\n",
    "\n",
    "    return wrapper\n",
    "\n",
    "\n",
    "def split_string(function):\n",
    "\n",
    "    def wrapper():\n",
    "        func = function()\n",
    "        split_string = func.split()\n",
    "        return split_string\n",
    "\n",
    "    return wrapper\n",
    "\n",
    "\n",
    "@split_string\n",
    "@lowercase_decorator\n",
    "def test_func():\n",
    "    return 'MOTHER OF DRAGONS'\n",
    "\n",
    "\n",
    "test_func()"
   ]
  },
  {
   "cell_type": "markdown",
   "metadata": {},
   "source": [
    "### Memoization using Decorators\n",
    "Memoization is a technique which allows us to optimize a Python function by caching its output based on the parameters we supply to it. Once we memoize a function, it will only compute its output once for each set of parameters we call it with. \n",
    "\n",
    "Every call after the first will be quickly retrieved from a cache.\n",
    "\n",
    "If we want to speed up the parts in our program that are expensive, memoization can be a great technique to use.\n",
    "There are several approaches to Memoization —\n",
    "* Using global\n",
    "* Using objects\n",
    "* Using default parameter\n",
    "* Using a Callable Class\n"
   ]
  },
  {
   "cell_type": "code",
   "execution_count": null,
   "metadata": {},
   "outputs": [],
   "source": [
    "#fibonacci series using Memoization using decorators\n",
    "def memoization_func(t):\n",
    "    dict_one = {}\n",
    "\n",
    "    def h(z):\n",
    "        if z not in dict_one:\n",
    "            dict_one[z] = t(z)\n",
    "        return dict_one[z]\n",
    "\n",
    "    return h\n",
    "\n",
    "\n",
    "@memoization_func\n",
    "def fib(n):\n",
    "    if n == 0:\n",
    "        return 0\n",
    "    elif n == 1:\n",
    "        return 1\n",
    "    else:\n",
    "        return fib(n - 1) + fib(n - 2)\n",
    "\n",
    "\n",
    "print(fib(20))"
   ]
  },
  {
   "cell_type": "code",
   "execution_count": null,
   "metadata": {},
   "outputs": [],
   "source": []
  }
 ],
 "metadata": {
  "kernelspec": {
   "display_name": "Python 3 (ipykernel)",
   "language": "python",
   "name": "python3"
  },
  "language_info": {
   "codemirror_mode": {
    "name": "ipython",
    "version": 3
   },
   "file_extension": ".py",
   "mimetype": "text/x-python",
   "name": "python",
   "nbconvert_exporter": "python",
   "pygments_lexer": "ipython3",
   "version": "3.9.7"
  },
  "toc": {
   "base_numbering": 1,
   "nav_menu": {},
   "number_sections": false,
   "sideBar": true,
   "skip_h1_title": false,
   "title_cell": "Table of Contents",
   "title_sidebar": "Contents",
   "toc_cell": false,
   "toc_position": {
    "height": "calc(100% - 180px)",
    "left": "10px",
    "top": "150px",
    "width": "384px"
   },
   "toc_section_display": true,
   "toc_window_display": true
  },
  "varInspector": {
   "cols": {
    "lenName": 16,
    "lenType": 16,
    "lenVar": 40
   },
   "kernels_config": {
    "python": {
     "delete_cmd_postfix": "",
     "delete_cmd_prefix": "del ",
     "library": "var_list.py",
     "varRefreshCmd": "print(var_dic_list())"
    },
    "r": {
     "delete_cmd_postfix": ") ",
     "delete_cmd_prefix": "rm(",
     "library": "var_list.r",
     "varRefreshCmd": "cat(var_dic_list()) "
    }
   },
   "types_to_exclude": [
    "module",
    "function",
    "builtin_function_or_method",
    "instance",
    "_Feature"
   ],
   "window_display": false
  }
 },
 "nbformat": 4,
 "nbformat_minor": 2
}
