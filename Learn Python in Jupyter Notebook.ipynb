{
 "cells": [
  {
   "cell_type": "markdown",
   "metadata": {},
   "source": [
    "# Learn Python in Jupyter Notebook"
   ]
  },
  {
   "cell_type": "code",
   "execution_count": 1,
   "metadata": {},
   "outputs": [
    {
     "data": {
      "text/plain": [
       "12"
      ]
     },
     "execution_count": 1,
     "metadata": {},
     "output_type": "execute_result"
    }
   ],
   "source": [
    "# This is a Jupyter notebook used for Python. It consists of cells.\n",
    "# In order to execute the current cell, press Ctrl + Enter\n",
    "# In order to execute the current cell and switch to the next new cell, press Shift + Enter\n",
    "12"
   ]
  },
  {
   "cell_type": "markdown",
   "metadata": {},
   "source": [
    "### Arithmetic Operations\n"
   ]
  },
  {
   "cell_type": "code",
   "execution_count": 2,
   "metadata": {},
   "outputs": [
    {
     "data": {
      "text/plain": [
       "16"
      ]
     },
     "execution_count": 2,
     "metadata": {},
     "output_type": "execute_result"
    }
   ],
   "source": [
    "45-29 # Operation like a calculator"
   ]
  },
  {
   "cell_type": "code",
   "execution_count": 3,
   "metadata": {},
   "outputs": [
    {
     "name": "stdout",
     "output_type": "stream",
     "text": [
      "16 20\n"
     ]
    }
   ],
   "source": [
    "# _ or 'underscore' is a special variable in Python, which stores the most recent output value of the interpreter\n",
    "# _ can be used with other expressions and operators as well\n",
    "print(_,_+4)"
   ]
  },
  {
   "cell_type": "markdown",
   "metadata": {},
   "source": [
    "<div class=\"alert alert-info\">\n",
    "<li>Variables are used to store values. Here, <b><i>a,b,c,d,e,f,g</b></i> are the variables used to store arithmetic operations. <li><b>print()</b> is used to display the output. \n",
    "</div>\n"
   ]
  },
  {
   "cell_type": "code",
   "execution_count": 4,
   "metadata": {},
   "outputs": [
    {
     "name": "stdout",
     "output_type": "stream",
     "text": [
      "Addition 11+5 : 16\n",
      "Subtraction 11-5 : 6\n",
      "Multiplication 11*5 : 55\n",
      "Division 11/5 : 2.2\n",
      "Division (// returns quotient) 11//5 : 2\n",
      "Division (% returns remainder) 11%5 : 1\n",
      "Exponent 11**5 : 161051\n"
     ]
    }
   ],
   "source": [
    "a=11+5 # addition\n",
    "b=11-5 # subtraction\n",
    "c=11*5 # multiplication\n",
    "d=11/5 # division\n",
    "e=11//5 # returns quotient as result\n",
    "f=11%5 # (modulus) returns remainder as result \n",
    "g=11**5 # exponents\n",
    "\n",
    "print(\"Addition 11+5 :\",a) \n",
    "print(\"Subtraction 11-5 :\",b)\n",
    "print(\"Multiplication 11*5 :\",c)\n",
    "print(\"Division 11/5 :\",d)\n",
    "print(\"Division (// returns quotient) 11//5 :\",e)\n",
    "print(\"Division (% returns remainder) 11%5 :\",f)\n",
    "print(\"Exponent 11**5 :\",g)"
   ]
  },
  {
   "cell_type": "markdown",
   "metadata": {},
   "source": [
    "<div class=\"alert alert-info\"><li>Remember, the arithmetic operations always follow the <b>PEDMAS</b> rule. Consider the two examples below:</div>"
   ]
  },
  {
   "cell_type": "code",
   "execution_count": 5,
   "metadata": {},
   "outputs": [
    {
     "name": "stdout",
     "output_type": "stream",
     "text": [
      "Result of 5+2*7-8/2**2+1 is : 18.0\n"
     ]
    }
   ],
   "source": [
    "print(\"Result of 5+2*7-8/2**2+1 is :\", 5+2*7-8/2**2+1)"
   ]
  },
  {
   "cell_type": "code",
   "execution_count": 6,
   "metadata": {},
   "outputs": [
    {
     "name": "stdout",
     "output_type": "stream",
     "text": [
      "Result of (5+2)*7-(8/2**2)+1 is : 48.0\n"
     ]
    }
   ],
   "source": [
    "print(\"Result of (5+2)*7-(8/2**2)+1 is :\",(5+2)*7-(8/2**2)+1)"
   ]
  },
  {
   "cell_type": "markdown",
   "metadata": {},
   "source": [
    "### Multiple Variable Assignments"
   ]
  },
  {
   "cell_type": "code",
   "execution_count": 3,
   "metadata": {},
   "outputs": [
    {
     "name": "stdout",
     "output_type": "stream",
     "text": [
      "4\n",
      "5.5\n",
      "Hello\n"
     ]
    }
   ],
   "source": [
    "a,b,c = 4,5.5,'Hello'\n",
    "print(a)\n",
    "print(b)\n",
    "print(c)"
   ]
  },
  {
   "cell_type": "code",
   "execution_count": 4,
   "metadata": {},
   "outputs": [
    {
     "name": "stdout",
     "output_type": "stream",
     "text": [
      "1\n",
      "2\n",
      "[3, 4, 5]\n"
     ]
    }
   ],
   "source": [
    "a,b,*c = [1,2,3,4,5]\n",
    "print(a)\n",
    "print(b)\n",
    "print(c)"
   ]
  },
  {
   "cell_type": "markdown",
   "metadata": {},
   "source": [
    "<div class=\"alert alert-info\"><li>Operations upon variables.<li>Variable name should not start with digit.<li><b>id</b> Function<li><b>help</b> Function</div>"
   ]
  },
  {
   "cell_type": "code",
   "execution_count": 7,
   "metadata": {},
   "outputs": [
    {
     "name": "stdout",
     "output_type": "stream",
     "text": [
      "x+y: 9\n",
      "\n",
      "a: 1 , id of a is: 140734316831376\n",
      "b: 1 , id of b is: 140734316831376\n",
      "\n",
      "b: 2 , id of b is: 140734316831408\n",
      "\n",
      "Here is a list of the Python keywords.  Enter any keyword to get more help.\n",
      "\n",
      "False               class               from                or\n",
      "None                continue            global              pass\n",
      "True                def                 if                  raise\n",
      "and                 del                 import              return\n",
      "as                  elif                in                  try\n",
      "assert              else                is                  while\n",
      "async               except              lambda              with\n",
      "await               finally             nonlocal            yield\n",
      "break               for                 not                 \n",
      "\n"
     ]
    }
   ],
   "source": [
    "x=4\n",
    "y=5\n",
    "print(\"x+y:\",x+y)\n",
    "\n",
    "# demonstrating the id function\n",
    "a=1\n",
    "print(\"\\na:\",a,\", id of a is:\",id(a)) # id(variable) return a unique identifier for an object within the memory\n",
    "b=a # variable 'b' is pointing to 'a'\n",
    "print(\"b:\",b,\", id of b is:\",id(b)) # id of 'b' is same as id of 'a' as they both refer to the same object in memory \n",
    "\n",
    "b=2 # value of variable 'b' is changed\n",
    "print(\"\\nb:\",b,\", id of b is:\",id(b)) # id of 'b' will be changed\n",
    "\n",
    "# Help Function is called if we require any help in Python\n",
    "# For example, keywords. We should not use these reserved keywords as our variable names\n",
    "help('keywords')"
   ]
  },
  {
   "cell_type": "markdown",
   "metadata": {},
   "source": [
    "### Boolean Operations\n",
    "<div class=\"alert alert-info\"><li>Boolean expressions<li><b>is</b> and <b>is not</b> statements</div>"
   ]
  },
  {
   "cell_type": "code",
   "execution_count": 8,
   "metadata": {},
   "outputs": [
    {
     "name": "stdout",
     "output_type": "stream",
     "text": [
      "11 is greater than 5: True\n",
      "11 is less than 5: False\n",
      "11 is equal to 5: False\n",
      "11 is 5: False\n",
      "11 is not equal to 5: True\n",
      "11 is not 5: True\n",
      "11 is lesser than or equal to  5: False\n",
      "11 is greater than or equal to 5: True\n"
     ]
    }
   ],
   "source": [
    "print(\"11 is greater than 5:\",11>5) # greater than\n",
    "print(\"11 is less than 5:\",11<5) # less than\n",
    "print(\"11 is equal to 5:\",11==5) # equal to\n",
    "print(\"11 is 5:\",11 is 5) # is statement is equivalent to ==\n",
    "print(\"11 is not equal to 5:\",11!=5) # not equal to\n",
    "print(\"11 is not 5:\",11 is not 5) # is not statement is equivalent to !=\n",
    "print(\"11 is lesser than or equal to  5:\",11<=5) # less than equal to\n",
    "print(\"11 is greater than or equal to 5:\",11>=5) # greater than equal to"
   ]
  },
  {
   "cell_type": "markdown",
   "metadata": {},
   "source": [
    "<div class=\"alert alert-info\"><li>Boolean operators (<i>AND</i>, <i>OR</i>, <i>NOT</i>)</div>"
   ]
  },
  {
   "cell_type": "code",
   "execution_count": 9,
   "metadata": {},
   "outputs": [
    {
     "name": "stdout",
     "output_type": "stream",
     "text": [
      "11>5 or 11<5:  True\n",
      "11>5 and 11<5:  False\n",
      "False or True:  True\n",
      "False and True:  False\n",
      "not(True):  False\n",
      "not(False):  True\n"
     ]
    }
   ],
   "source": [
    "# AND: Returns true only if both conditions are true \n",
    "# OR: Returns true if either one of both the conditions is true \n",
    "# NOT: reverses the result\n",
    "\n",
    "print(\"11>5 or 11<5: \",11>5 or 11<5)\n",
    "print(\"11>5 and 11<5: \",11>5 and 11<5)\n",
    "print(\"False or True: \",False or True)\n",
    "print(\"False and True: \",False and True)\n",
    "print(\"not(True): \",not(True))\n",
    "print(\"not(False): \",not(False))"
   ]
  },
  {
   "cell_type": "markdown",
   "metadata": {},
   "source": [
    "### Strings\n",
    "<div class=\"alert alert-info\"><li>Strings can be specified using both <i>single</i> or <i>double</i> quotes. <li>Strings are immutable.</div>"
   ]
  },
  {
   "cell_type": "code",
   "execution_count": 10,
   "metadata": {},
   "outputs": [
    {
     "name": "stdout",
     "output_type": "stream",
     "text": [
      "x: Orange\n",
      "y: Yellow\n",
      "\n",
      "x==y: False\n",
      "x is y: False\n",
      "x!=y: True\n",
      "x<y: True\n",
      "x>y False\n",
      "1=='1': False\n",
      "\n",
      "s1: abcdef\n",
      "s2: abcdef\n",
      "s1 is s2: True\n",
      "\n",
      "s3: abc-def\n",
      "s4: abc-def\n",
      "s3 is s4: False\n",
      "s3 == s4: True\n"
     ]
    }
   ],
   "source": [
    "x=\"Orange\" # using double quotes\n",
    "y='Yellow' # using single quotes\n",
    "\n",
    "print(\"x:\",x)\n",
    "print(\"y:\",y)\n",
    "\n",
    "print(\"\\nx==y:\",x==y) # equal to\n",
    "print(\"x is y:\",x is y) # is statement is equivalent to ==\n",
    "print(\"x!=y:\",x!=y) # not equal to\n",
    "print(\"x<y:\",x<y) # less than, returns true as 'o' comes before 'y'\n",
    "print(\"x>y\",x>y) # greater than, returns false as 'o' comes before 'y'\n",
    "print(\"1=='1':\",1=='1') # 1 is an integer while '1' is a string\n",
    "\n",
    "# A String Peculiarity\n",
    "s1='abcdef'\n",
    "s2='abcdef'\n",
    "print('\\ns1:',s1)\n",
    "print('s2:',s2)\n",
    "print(\"s1 is s2:\",s1 is s2) # returns True\n",
    "s3='abc-def'\n",
    "s4='abc-def'\n",
    "print('\\ns3:',s3)\n",
    "print('s4:',s4)\n",
    "print(\"s3 is s4:\",s3 is s4) # returns False because of the introduction of special character\n",
    "print(\"s3 == s4:\",s3 == s4)"
   ]
  },
  {
   "cell_type": "markdown",
   "metadata": {},
   "source": [
    "<div class=\"alert alert-info\"><li><b>len()</b> is used to determine the length of specified variable, string, list, etc. <li>Spaces are also counted.</div>\n"
   ]
  },
  {
   "cell_type": "code",
   "execution_count": 11,
   "metadata": {},
   "outputs": [
    {
     "name": "stdout",
     "output_type": "stream",
     "text": [
      "s: This is a sample text.\n",
      "\n",
      "Length of the string 's' is: 22\n"
     ]
    }
   ],
   "source": [
    "s=\"This is a sample text.\" # special characters and white spaces are also counted\n",
    "print(\"s:\",s)\n",
    "print(\"\\nLength of the string 's' is:\",len(s))"
   ]
  },
  {
   "cell_type": "markdown",
   "metadata": {},
   "source": [
    "<div class=\"alert alert-info\"><li><b>in</b> operator is used to check whether a substring is present in the main string</div>"
   ]
  },
  {
   "cell_type": "code",
   "execution_count": 12,
   "metadata": {},
   "outputs": [
    {
     "name": "stdout",
     "output_type": "stream",
     "text": [
      "a: This is a sample string\n",
      "\n",
      "'sample' in a: True\n",
      "'test' in a: False\n",
      "'sample' not in a: False\n"
     ]
    }
   ],
   "source": [
    "a=\"This is a sample string\"\n",
    "print(\"a:\",a)\n",
    "\n",
    "print(\"\\n'sample' in a:\",'sample' in a) \n",
    "print(\"'test' in a:\",'test' in a) \n",
    "print(\"'sample' not in a:\",'sample' not in a) # not in means not a substring"
   ]
  },
  {
   "cell_type": "code",
   "execution_count": 13,
   "metadata": {},
   "outputs": [
    {
     "name": "stdout",
     "output_type": "stream",
     "text": [
      "s: Some text\n",
      "Length: 9\n",
      "\n",
      "First character, s[0]: S\n",
      "Character at index position 7, s[7]: x\n",
      "Last character, ,s[length-1]: t\n",
      "\n",
      "Last character using negative indexing, s[-1]: t\n",
      "Character at index position 4 from the end, s[-4]: t\n",
      "First character, s[-(length)]: S\n"
     ]
    }
   ],
   "source": [
    "s=\"Some text\"\n",
    "print(\"s:\",s)\n",
    "length=len(s)\n",
    "print(\"Length:\",length)\n",
    "\n",
    "print(\"\\nFirst character, s[0]:\",s[0]) # first character\n",
    "print(\"Character at index position 7, s[7]:\",s[7]) # fetches the character at index position 7 in the string\n",
    "print(\"Last character, ,s[length-1]:\",s[length-1]) # last character\n",
    "\n",
    "# Negative indexing is also possible. \n",
    "print(\"\\nLast character using negative indexing, s[-1]:\",s[-1]) # fetches last element\n",
    "print(\"Character at index position 4 from the end, s[-4]:\",s[-4]) # fetches 4th element from the end (equivalent to index position 7 from the beginning)\n",
    "print(\"First character, s[-(length)]:\",s[-(length)]) # fetches first element (equivalent to s[0])"
   ]
  },
  {
   "cell_type": "markdown",
   "metadata": {},
   "source": [
    "<div class=\"alert alert-info\"><li>Multiple variables of different datatypes can also be assigned together. <li>The <b>type()</b> defines the class of the object.</div>"
   ]
  },
  {
   "cell_type": "code",
   "execution_count": 14,
   "metadata": {},
   "outputs": [
    {
     "name": "stdout",
     "output_type": "stream",
     "text": [
      "a: 1\n",
      "b: Hello\n",
      "c: Hi\n",
      "d: 4.5\n",
      "e: True\n",
      "\n",
      "Class of a: <class 'int'>\n",
      "Class of b: <class 'str'>\n",
      "Class of c: <class 'str'>\n",
      "Class of d: <class 'float'>\n",
      "Class of e: <class 'bool'>\n"
     ]
    }
   ],
   "source": [
    "a,b,c,d,e=1,'Hello',\"Hi\",4.5,True # multiple assignment to various variables\n",
    "print(\"a:\",a)\n",
    "print(\"b:\",b)\n",
    "print(\"c:\",c)\n",
    "print(\"d:\",d)\n",
    "print(\"e:\",e)\n",
    "\n",
    "print(\"\\nClass of a:\",type(a)) \n",
    "print(\"Class of b:\",type(b))\n",
    "print(\"Class of c:\",type(c))\n",
    "print(\"Class of d:\",type(d))\n",
    "print(\"Class of e:\",type(e))"
   ]
  },
  {
   "cell_type": "markdown",
   "metadata": {},
   "source": [
    "<div class=\"alert alert-info\"><li>Escape sequences are specified using <b>backslash (\\\\)</b>.\n",
    "<li><b>\\n</b> is used as a wildcard in order to print a new blank line.</div>"
   ]
  },
  {
   "cell_type": "code",
   "execution_count": 15,
   "metadata": {},
   "outputs": [
    {
     "name": "stdout",
     "output_type": "stream",
     "text": [
      "Text 1\n",
      "Text 2\n"
     ]
    }
   ],
   "source": [
    "print(\"Text 1\\nText 2\") # two separate lines are printed"
   ]
  },
  {
   "cell_type": "code",
   "execution_count": 16,
   "metadata": {},
   "outputs": [
    {
     "name": "stdout",
     "output_type": "stream",
     "text": [
      "Text 1\\nText 2\n"
     ]
    }
   ],
   "source": [
    "print(\"Text 1\\\\nText 2\") # In order to print \\n as text, we insert a backslash as an escape sequence."
   ]
  },
  {
   "cell_type": "code",
   "execution_count": 17,
   "metadata": {},
   "outputs": [
    {
     "name": "stdout",
     "output_type": "stream",
     "text": [
      "Text 1\\nText 2\n"
     ]
    }
   ],
   "source": [
    "print(r\"Text 1\\nText 2\") # Letter 'r' can also be placed before the string as an alternative to escape sequence (works similar to above)"
   ]
  },
  {
   "cell_type": "code",
   "execution_count": 18,
   "metadata": {},
   "outputs": [
    {
     "name": "stdout",
     "output_type": "stream",
     "text": [
      "Text 1\tText 2\n"
     ]
    }
   ],
   "source": [
    "print(\"Text 1\\tText 2\") # \\t represents a tab"
   ]
  },
  {
   "cell_type": "markdown",
   "metadata": {},
   "source": [
    "<div class=\"alert alert-info\"><li><b>Three quotes</b> (single or double) are used to define a <b>paragraph</b>, example:</div>"
   ]
  },
  {
   "cell_type": "code",
   "execution_count": 19,
   "metadata": {},
   "outputs": [
    {
     "name": "stdout",
     "output_type": "stream",
     "text": [
      "This is a test paragraph using double quotes.\n",
      "This is another line.\n",
      "\n",
      "This is a second paragraph using single quotes.\n",
      "Multiple lines can be used.\n",
      "\n",
      "This is a third paragraph. Multiple lines can be used. If we use \\ in the end of line, it continues to remain in the same line.\n",
      "\n",
      "Class of paragraph: <class 'str'>\n",
      "Length of paragraph: 68\n"
     ]
    }
   ],
   "source": [
    "paragraph= \"\"\"This is a test paragraph using double quotes.\n",
    "This is another line.\\n\"\"\"\n",
    "print(paragraph)\n",
    "\n",
    "second_paragraph='''This is a second paragraph using single quotes.\n",
    "Multiple lines can be used.\\n'''\n",
    "print(second_paragraph)\n",
    "\n",
    "third_paragraph='''This is a third paragraph. \\\n",
    "Multiple lines can be used. \\\n",
    "If we use \\ in the end of line, it continues to remain in the same line.\\n'''\n",
    "print(third_paragraph)\n",
    "\n",
    "print(\"Class of paragraph:\",type(paragraph)) # paragraph is used mostly for documentation. It is of String datatype.\n",
    "print(\"Length of paragraph:\",len(paragraph))"
   ]
  },
  {
   "cell_type": "markdown",
   "metadata": {},
   "source": [
    "<div class=\"alert alert-info\"><li><b>Multiplication</b> of strings</div>"
   ]
  },
  {
   "cell_type": "code",
   "execution_count": 20,
   "metadata": {},
   "outputs": [
    {
     "name": "stdout",
     "output_type": "stream",
     "text": [
      "Hey! Hey! Hey! \n"
     ]
    }
   ],
   "source": [
    "s1='Hey! '\n",
    "print(s1*3) # 3 copies of string s1"
   ]
  },
  {
   "cell_type": "markdown",
   "metadata": {},
   "source": [
    "<div class=\"alert alert-info\"><li>Strings can be <b>concatenated</b> using the <b>+</b> sign.</div>"
   ]
  },
  {
   "cell_type": "code",
   "execution_count": 21,
   "metadata": {},
   "outputs": [
    {
     "data": {
      "text/plain": [
       "'This is a concatenated string.'"
      ]
     },
     "execution_count": 21,
     "metadata": {},
     "output_type": "execute_result"
    }
   ],
   "source": [
    "\"This is a \"+'concatenated string.'"
   ]
  },
  {
   "cell_type": "markdown",
   "metadata": {},
   "source": [
    "<div class=\"alert alert-info\"><li><b>Functions</b> on String</div>"
   ]
  },
  {
   "cell_type": "code",
   "execution_count": 61,
   "metadata": {},
   "outputs": [
    {
     "name": "stdout",
     "output_type": "stream",
     "text": [
      "s: this is a sample string.\n",
      "\n",
      "s.upper(): THIS IS A SAMPLE STRING.\n",
      "s.lower(): this is a sample string.\n",
      "s.capitalize(): This is a sample string.\n",
      "s.replace(\" \",\"_\"): this_is_a_sample_string.\n",
      "s.count('s'): 4\n",
      "s.title(): This Is A Sample String.\n",
      "s.split(): ['this', 'is', 'a', 'sample', 'string.']\n",
      "s.split('s'): ['thi', ' i', ' a ', 'ample ', 'tring.']\n",
      "s.find('amp'): 11\n",
      "s.index('amp'): 11\n",
      "s[1:12]: his is a sa\n",
      "s[1:12:2]: hsi  a\n",
      "s[::-1]: .gnirts elpmas a si siht\n",
      "s.startswith('this'): True\n",
      "s.endswith('this'): False\n",
      "s.replace('sample','test'): this is a test string.\n",
      "\n",
      "a:    String with spaces       has length: 28\n",
      "a.lstrip(): String with spaces       has length: 24\n",
      "a.rstrip():     String with spaces has length: 22\n",
      "a.strip(): String with spaces has length: 18\n",
      "\n",
      "b: 00543\n",
      "b.lstrip('0'): 543\n",
      "\n",
      "c: SamPlE TeXt\n",
      "c.swapcase(): sAMpLe tExT\n",
      "\n",
      "d: 12345ABCdef\n",
      "d.isalnum(): True\n",
      "\n",
      "e: 56893\n",
      "e.isnumeric(): True\n",
      "\n",
      "f: Learning_Python\n",
      "f.isalpha(): False\n",
      "\n",
      "g: Coding\n",
      "g.isalpha(): True\n",
      "g.islower(): False\n",
      "g.isupper(): False\n",
      "g.istitle(): True\n",
      "g.isspace(): False\n",
      "\n",
      "s: Test-String\n",
      "s.partition('-'): ('Test', '-', 'String')\n"
     ]
    }
   ],
   "source": [
    "s=\"this is a sample string.\"\n",
    "print(\"s:\",s)\n",
    "\n",
    "print(\"\\ns.upper():\",s.upper()) # converts string into upper case\n",
    "print(\"s.lower():\",s.lower()) # converts string into lower case\n",
    "print(\"s.capitalize():\",s.capitalize()) # capitalize the first letter\n",
    "print('s.replace(\" \",\"_\"):',s.replace(\" \",\"_\")) # replaces blank space with underscvore\n",
    "print(\"s.count('s'):\",s.count('s')) # returns the number of occurrences, without overlap\n",
    "print(\"s.title():\",s.title()) # returns the string with first capital letter of each word\n",
    "print(\"s.split():\",s.split()) # splits the string (on blank spaces)\n",
    "print(\"s.split('s'):\",s.split('s')) # splits the string (on character 's')\n",
    "print(\"s.find('amp'):\",s.find('amp')) # returns the starting index position of the first occurence\n",
    "print(\"s.index('amp'):\",s.index('amp')) # returns the index of specified string\n",
    "print(\"s[1:12]:\",s[1:12]) # extracts substring from index position 1 to index position 11\n",
    "print(\"s[1:12:2]:\",s[1:12:2]) # extracts substring from index position 1 to index position 11 while skipping two places\n",
    "print(\"s[::-1]:\",s[::-1]) # reverses the string\n",
    "print(\"s.startswith('this'):\",s.startswith('this')) # checks the start of the string\n",
    "print(\"s.endswith('this'):\",s.endswith('this')) # checks the end of the string\n",
    "print(\"s.replace('sample','test'):\",s.replace('sample','test'))\n",
    "\n",
    "a=\"    String with spaces      \"\n",
    "print(\"\\na:\"+a+\" has length:\",len(a))\n",
    "\n",
    "print(\"a.lstrip(): \"+a.lstrip()+\" has length:\",len(a.lstrip())) # lstrip removes the white spaces from the left side\n",
    "print(\"a.rstrip(): \"+a.rstrip()+\" has length:\",len(a.rstrip())) # rstrip removes the white spaces from the right side\n",
    "print(\"a.strip(): \"+a.strip()+\" has length:\",len(a.strip())) # strip() removes the white spaces from the left and right end\n",
    "\n",
    "b=\"00543\"\n",
    "print(\"\\nb:\",b)\n",
    "print(\"b.lstrip('0'):\",b.lstrip('0'))\n",
    "\n",
    "c='SamPlE TeXt'\n",
    "print('\\nc:',c)\n",
    "print('c.swapcase():',c.swapcase()) # Swaps cases for all the letters of the string\n",
    "\n",
    "d='12345ABCdef'\n",
    "print('\\nd:',d)\n",
    "print('d.isalnum():',d.isalnum()) # Checks whether the string is alphanumeric\n",
    "\n",
    "e='56893'\n",
    "print('\\ne:',e)\n",
    "print('e.isnumeric():',e.isnumeric()) # Checks whether the string is numeric\n",
    "\n",
    "f='Learning_Python'\n",
    "print('\\nf:',f)\n",
    "print('f.isalpha():',f.isalpha()) # Checks whether the string is alphabetic\n",
    "\n",
    "g='Coding'\n",
    "print('\\ng:',g)\n",
    "print('g.isalpha():',g.isalpha()) # Checks whether the string is alphabetic\n",
    "print('g.islower():',g.islower()) # Checks whether the string has lowercase\n",
    "print('g.isupper():',g.isupper()) # Checks whether the string has uppercase\n",
    "print('g.istitle():',g.istitle()) # Checks whether the string has a title cased\n",
    "print('g.isspace():',g.isspace()) # Checks whether all characters in string are whitespace\n",
    "\n",
    "# partition() return a tuple that includes the first occurrence of the separator sandwiched between the first half and the end half\n",
    "s='Test-String'\n",
    "print(\"\\ns:\",s)\n",
    "print(\"s.partition('-'):\",s.partition('-')) "
   ]
  },
  {
   "cell_type": "markdown",
   "metadata": {},
   "source": [
    "<div class=\"alert alert-info\"><b>String Substitution</b>\n",
    "<li>Variables can be printed within a string using format function as follows:</div>"
   ]
  },
  {
   "cell_type": "code",
   "execution_count": 23,
   "metadata": {},
   "outputs": [
    {
     "name": "stdout",
     "output_type": "stream",
     "text": [
      "I want two colors\n",
      "I want three colors\n",
      "I want 4 colors\n",
      "\n",
      "My 2 favourite colors are blue and pink\n",
      "My 2 favourite colors are blue and pink\n",
      "\n",
      "String substitution is possible using arguments. Text_1 Text_2 Text_3 and so on....\n",
      "My text has string: Hello.!\n",
      "My text has string containing % sign and Hello!!\n",
      "My text has number: 42\n",
      "My text has number with 0 decimal places: 42\n",
      "My text has number with 4 decimal places: 42.4000\n",
      "\n",
      "Values are: pi=3.1415926 and e=2.7182818\n",
      "Values are: pi=3.14 and e=2.718\n"
     ]
    }
   ],
   "source": [
    "s= \"I want {} colors\".format(\"two\") # {} are used for substituting text\n",
    "print(s)\n",
    "print(\"I want {n} colors\".format(n=\"three\"))\n",
    "n=4\n",
    "print(f\"I want {n} colors\") # .format() can be also be replaced using f in the starting\n",
    "\n",
    "color1='blue'\n",
    "color2='pink'\n",
    "number=2\n",
    "print('\\nMy {} favourite colors are {} and {}'.format(number,color1,color2))\n",
    "print('My {a} favourite colors are {b} and {c}'.format(a=number,b=color1,c=color2))\n",
    "\n",
    "print(\"\\nString substitution is possible using arguments. {0} {1} {2} and so on....\".format(\"Text_1\",\"Text_2\",\"Text_3\"))\n",
    "print(\"My text has string: %s\" %(\"Hello.!\"))\n",
    "print(\"My text has string containing %% sign and %s\" %(\"Hello!!\")) # % sign acts as an escape sequence \n",
    "print(\"My text has number: %d\" %(42.4))\n",
    "print(\"My text has number with 0 decimal places: %.0f\" %(42.4))\n",
    "print(\"My text has number with 4 decimal places: %.4f\" %(42.4))\n",
    "\n",
    "pi=3.1415926\n",
    "e=2.7182818\n",
    "print('\\nValues are: pi={} and e={}'.format(pi,e))\n",
    "values=[pi,e]\n",
    "print('Values are: pi={values[0]:.2f} and e={values[1]:.3f}'.format(values=values))"
   ]
  },
  {
   "cell_type": "markdown",
   "metadata": {},
   "source": [
    "### Lists\n",
    "<div class=\"alert alert-info\"><li>A List is created using square brackets []. <li>Lists are mutable</div>"
   ]
  },
  {
   "cell_type": "code",
   "execution_count": 24,
   "metadata": {},
   "outputs": [
    {
     "data": {
      "text/plain": [
       "[]"
      ]
     },
     "execution_count": 24,
     "metadata": {},
     "output_type": "execute_result"
    }
   ],
   "source": [
    "[] #This is an empty List"
   ]
  },
  {
   "cell_type": "markdown",
   "metadata": {},
   "source": [
    " <div class=\"alert alert-info\"><li>A list can have multiple elements of same or different data type.</div>"
   ]
  },
  {
   "cell_type": "code",
   "execution_count": 25,
   "metadata": {},
   "outputs": [
    {
     "name": "stdout",
     "output_type": "stream",
     "text": [
      "a: [12, 'abc', 8.95, 'xyz', [2, 6]]\n",
      "b: [4, 7, 2, 4]\n",
      "c: [12, 'abc', 8.95, 'xyz', [2, 6], 4, 7, 2, 4]\n",
      "\n",
      "Length of c: 9\n",
      "'abc' in a: True\n",
      "35 in b: False\n",
      "12 not in a: False\n",
      "2*b: [4, 7, 2, 4, 4, 7, 2, 4]\n",
      "min(b): 2\n",
      "max(b): 7\n",
      "sum(b): 17\n"
     ]
    }
   ],
   "source": [
    "a= [12, 'abc', 8.95, \"xyz\",[2,6]]\n",
    "print(\"a:\",a)\n",
    "b= [4,7,2,4]\n",
    "print(\"b:\",b)\n",
    "c=a+b # concatenation\n",
    "print(\"c:\",c)\n",
    "\n",
    "print(\"\\nLength of c:\",len(c))\n",
    "print(\"'abc' in a:\",'abc' in a)\n",
    "print(\"35 in b:\",35 in b)\n",
    "print(\"12 not in a:\",12 not in a)\n",
    "print(\"2*b:\",2*b) # 2 copies of list b\n",
    "print(\"min(b):\",min(b)) # minimum in list (list must not have strings)\n",
    "print(\"max(b):\",max(b)) # maximum in list (list must not have strings)\n",
    "print(\"sum(b):\",sum(b)) # sum of list elements (list must not have strings)"
   ]
  },
  {
   "cell_type": "code",
   "execution_count": 26,
   "metadata": {},
   "outputs": [
    {
     "name": "stdout",
     "output_type": "stream",
     "text": [
      "Original List: [1, 2, 3, 4, 5]\n",
      "List after append(): [1, 2, 3, 4, 5, 6]\n",
      "List after extend(): [1, 2, 3, 4, 5, 6, 7, 8, 9]\n",
      "List after pop(): [1, 2, 3, 4, 5, 6, 7, 8]\n",
      "List after insert(): [1, 2, 3, 4, 'Text', 5, 6, 7, 8]\n"
     ]
    }
   ],
   "source": [
    "a=[1,2,3,4,5]\n",
    "print(\"Original List: {}\" .format(a))\n",
    "\n",
    "# Append method is used to add new elements in the pre-exisiting list.\n",
    "a.append(6)\n",
    "print(\"List after append(): {}\" .format(a))\n",
    "\n",
    "# extend method is used to extend the list\n",
    "a.extend([7,8,9])\n",
    "print(\"List after extend(): {}\" .format(a))\n",
    "\n",
    "# Pop method is used to remove the last element from the list.\n",
    "a.pop()\n",
    "print(\"List after pop(): {}\" .format(a))\n",
    "\n",
    "# Insert into position\n",
    "a.insert(4,'Text')\n",
    "print(\"List after insert(): {}\" .format(a))"
   ]
  },
  {
   "cell_type": "code",
   "execution_count": 27,
   "metadata": {},
   "outputs": [
    {
     "name": "stdout",
     "output_type": "stream",
     "text": [
      "a: [1, 2, 3, 4, 5]\n",
      "\n",
      "Length of a (L): 5\n",
      "a[2]: 3\n",
      "a[0]: 1\n",
      "a[L-1]: 5\n",
      "\n",
      "List after setting new value: [1, 2, 6, 4, 5]\n",
      "List after pop(2): [1, 2, 4, 5]\n",
      "Final List after deleting an element: [2, 4, 5]\n"
     ]
    }
   ],
   "source": [
    "# A specific element can be referred from a list. For instance:  \n",
    "a=[1,2,3,4,5]\n",
    "print(\"a:\",a)\n",
    "\n",
    "L=(len(a)) \n",
    "print(\"\\nLength of a (L): {}\" .format(L))# The length of the list. Indexing starts from zero.\n",
    "print(\"a[2]:\",a[2]) # Third element\n",
    "print(\"a[0]:\",a[0]) # First element\n",
    "print(\"a[L-1]:\",a[L-1]) # Last element\n",
    "\n",
    "# Setting a value in list (mutable)\n",
    "# For example, set a value of 6 at index position 2\n",
    "a[2]=6 # 3 is changed to 6\n",
    "print(\"\\nList after setting new value: {}\" .format(a))\n",
    "\n",
    "# A specific element can be removed from a list using its index position in the pop function.\n",
    "# For example, remove element 6\n",
    "a.pop(2) # a.pop(index)\n",
    "print(\"List after pop(2): {}\" .format(a))\n",
    "\n",
    "# An element can be deleted from a list using del function by specifying its index position\n",
    "del(a[0])\n",
    "print(\"Final List after deleting an element: {}\" .format(a))"
   ]
  },
  {
   "cell_type": "code",
   "execution_count": 28,
   "metadata": {},
   "outputs": [
    {
     "name": "stdout",
     "output_type": "stream",
     "text": [
      "a: ['Ravi', 'Rahul', 'Rohan']\n",
      "\n",
      "a[2][2]: h\n",
      "a[1][3]: u\n",
      "a[0][2]: v\n",
      "\n",
      "b: [12, 'abc', ['Text', 5.34, 23, True], 'xyz', [2, 6]]\n",
      "\n",
      "b[1]: abc\n",
      "b[2]: ['Text', 5.34, 23, True]\n",
      "b[2][1]: 5.34\n",
      "b[2][0][3]: t\n"
     ]
    }
   ],
   "source": [
    "a=[\"Ravi\",\"Rahul\",\"Rohan\"]\n",
    "print(\"a:\",a)\n",
    "\n",
    "print(\"\\na[2][2]:\",a[2][2]) # Third element, Third character\n",
    "print(\"a[1][3]:\",a[1][3]) # Second element, Fourth character\n",
    "print(\"a[0][2]:\",a[0][2]) # First element, Third character\n",
    "\n",
    "# nesting\n",
    "b= [12, 'abc', [\"Text\",5.34,23,True], \"xyz\",[2,6]] \n",
    "print(\"\\nb:\",b)\n",
    "\n",
    "print(\"\\nb[1]:\",b[1])\n",
    "print(\"b[2]:\",b[2])\n",
    "print(\"b[2][1]:\",b[2][1])\n",
    "print(\"b[2][0][3]:\",b[2][0][3])"
   ]
  },
  {
   "cell_type": "code",
   "execution_count": 29,
   "metadata": {},
   "outputs": [
    {
     "name": "stdout",
     "output_type": "stream",
     "text": [
      "a: [1, 5, 8, 2, 5, 2]\n",
      "Class of a: <class 'list'>\n",
      "After a.reverse(), a: [2, 5, 2, 8, 5, 1]\n"
     ]
    }
   ],
   "source": [
    "a=[1,5,8,2,5,2]\n",
    "print(\"a:\",a)\n",
    "\n",
    "print(\"Class of a:\",type(a))\n",
    "a.reverse() # reverses the list\n",
    "print(\"After a.reverse(), a:\",a)"
   ]
  },
  {
   "cell_type": "code",
   "execution_count": 30,
   "metadata": {},
   "outputs": [
    {
     "name": "stdout",
     "output_type": "stream",
     "text": [
      "a: [1, 5, 8, 2, 5, 2]\n",
      "a.count(5): 2\n",
      "a.index(5): 1\n",
      "List after removing 5:  [1, 8, 2, 5, 2]\n",
      "\n",
      "List after sorting:  [1, 2, 2, 5, 8]\n",
      "\n",
      "List after sorting using key argument:\n",
      "  ['a', 'is', 'of', 'for', 'the', 'This', 'words', 'sample', 'string', 'testing', 'multiple', 'purpose.', 'consisting']\n"
     ]
    }
   ],
   "source": [
    "a=[1,5,8,2,5,2]\n",
    "print(\"a:\",a)\n",
    "\n",
    "print(\"a.count(5):\",a.count(5)) # returns the number of occurences of element 5\n",
    "print(\"a.index(5):\",a.index(5)) # returns the first index position of element 5\n",
    "a.remove(5) # removes the first occurence of element 5\n",
    "print(\"List after removing 5: \",a)\n",
    "\n",
    "a.sort() # sorts the list in ascending order\n",
    "print(\"\\nList after sorting: \",a)\n",
    "\n",
    "b='This is a sample string consisting of multiple words for the testing purpose.'.split()\n",
    "b.sort(key=len) # key argument to sort() accepts a function for producing a sort key from an item\n",
    "print(\"\\nList after sorting using key argument:\\n \",b)"
   ]
  },
  {
   "cell_type": "code",
   "execution_count": 31,
   "metadata": {},
   "outputs": [
    {
     "name": "stdout",
     "output_type": "stream",
     "text": [
      "a: [1, 5, 8, 2, 5, 2]\n",
      "\n",
      "a[3:5]: [2, 5]\n",
      "a[1:]: [5, 8, 2, 5, 2]\n",
      "a[:3]: [1, 5, 8]\n",
      "\n",
      "List A is [1, 5, 8, 2, 5, 2] and List B is [1, 5, 8, 2, 5, 2]\n",
      "After changing a[2]=5,\n",
      "List A is [1, 5, 5, 2, 5, 2] and List B is [1, 5, 5, 2, 5, 2]\n",
      "\n",
      "List A is [1, 5, 5, 2, 5, 2] and List C is [1, 5, 5, 2, 5, 2]\n",
      "After changing a[2]=3,\n",
      "List A is [1, 5, 3, 2, 5, 2] and List C is [1, 5, 5, 2, 5, 2]\n"
     ]
    }
   ],
   "source": [
    "a=[1,5,8,2,5,2]\n",
    "print(\"a:\",a)\n",
    "\n",
    "print(\"\\na[3:5]:\",a[3:5]) # fetches elements from index position 3 to index position 4\n",
    "print(\"a[1:]:\",a[1:]) # fetches elements from index position 1 till end\n",
    "print(\"a[:3]:\",a[:3]) # fetches elements from starting till index position 2\n",
    "\n",
    "b=a # list B is referencing to list A\n",
    "print(\"\\nList A is {x} and List B is {y}\".format(x=a,y=b))\n",
    "a[2]=5 # change in List A\n",
    "print(\"After changing a[2]=5,\\nList A is {x} and List B is {y}\".format(x=a,y=b)) # notice that list B also changes at the same position since both are referencing to the same list in memory.\n",
    "\n",
    "c=a[:] # List C is created by cloning list A, a new list is created and not referenced\n",
    "print(\"\\nList A is {x} and List C is {z}\".format(x=a,z=c))\n",
    "a[2]=3\n",
    "print(\"After changing a[2]=3,\\nList A is {x} and List C is {z}\".format(x=a,z=c))\n",
    "# notice that list C doesn't changes because both are the different lists and they are not referencing to the same list in memory."
   ]
  },
  {
   "cell_type": "code",
   "execution_count": 32,
   "metadata": {},
   "outputs": [
    {
     "name": "stdout",
     "output_type": "stream",
     "text": [
      "a==b: True\n",
      "a is b: False\n",
      "\n",
      "id(a): 2479002506376\n",
      "id(b): 2479002505672\n"
     ]
    }
   ],
   "source": [
    "a=[1,2,3]\n",
    "b=[1,2,3]\n",
    "\n",
    "print('a==b:',a==b) # Values are equivalent\n",
    "print('a is b:',a is b) # Separate objects\n",
    "\n",
    "print('\\nid(a):',id(a))\n",
    "print('id(b):',id(b))"
   ]
  },
  {
   "cell_type": "markdown",
   "metadata": {},
   "source": [
    "### Tuples\n",
    "<div class=\"alert alert-info\"><li>Tuples are exactly similar to Lists, but they are immutable. <li>Tuples are defined inside parenthesis ().</div>\n"
   ]
  },
  {
   "cell_type": "code",
   "execution_count": 33,
   "metadata": {},
   "outputs": [
    {
     "name": "stdout",
     "output_type": "stream",
     "text": [
      "a: (1, 5, 8, 2, 5, 2)\n",
      "Type:  <class 'tuple'>\n",
      "Sum:  23\n",
      "a.count(5):  2\n",
      "a.index(8):  2\n",
      "\n",
      "b:  [1, 2, 2, 5, 5, 8]\n",
      "Type of b:  <class 'list'>\n",
      "\n",
      "c:  [8, 5, 5, 2, 2, 1]\n",
      "Sum:  23\n",
      "\n",
      "Iterable Series: (1, 5, 8, 2, 5, 2)\n",
      "Reversed List: [2, 5, 2, 8, 5, 1]\n"
     ]
    }
   ],
   "source": [
    "a=(1,5,8,2,5,2)\n",
    "print(\"a:\",a)\n",
    "print(\"Type: \",type(a))\n",
    "print(\"Sum: \",sum(a)) # sum of a tuple containing integers\n",
    "print(\"a.count(5): \",a.count(5)) # returns the number of occurences of element 5\n",
    "print(\"a.index(8): \",a.index(8)) # returns the first index position of element 8\n",
    "\n",
    "# functions like reverse, remove and sort will not work since tuples are not mutable in nature.\n",
    "\n",
    "# sorted function returns a sorted list and can be called on any iterable series (here tuple)\n",
    "b=sorted(a) # sorted in ascending order\n",
    "print(\"\\nb: \",b)\n",
    "print(\"Type of b: \",type(b)) # b is a list\n",
    "\n",
    "c=sorted(a,reverse=True) # sorted in descending order\n",
    "print(\"\\nc: \",c)\n",
    "print(\"Sum: \",sum(c)) \n",
    "\n",
    "d=reversed(a) # reverses any iterable series (here tuple), returns an object\n",
    "print('\\nIterable Series: {}'.format(a))\n",
    "print('Reversed List: {}'.format(list(d))) # object converted explicitly into list"
   ]
  },
  {
   "cell_type": "code",
   "execution_count": 34,
   "metadata": {
    "scrolled": true
   },
   "outputs": [
    {
     "name": "stdout",
     "output_type": "stream",
     "text": [
      "(100,) is a tuple: <class 'tuple'>\n",
      "\n",
      "(1, 2, 3, 4, 5) is a tuple: <class 'tuple'>\n",
      "\n",
      "c: 10 & d: 20\n",
      "After Swapping\n",
      "c: 20 & d: 10\n",
      "\n",
      "e: ('A', 'p', 'p', 'l', 'e')\n"
     ]
    }
   ],
   "source": [
    "a=(100,) # only one element\n",
    "print('{} is a tuple: {}'.format(a,type(a)))\n",
    "\n",
    "b= 1,2,3,4,5 # multiple elements without parenthesis\n",
    "print('\\n{} is a tuple: {}'.format(b,type(b)))\n",
    "\n",
    "# Swapping elements\n",
    "c,d=10,20\n",
    "print('\\nc: {} & d: {}'.format(c,d))\n",
    "c,d=d,c\n",
    "print('After Swapping\\nc: {} & d: {}'.format(c,d))\n",
    "\n",
    "e=tuple('Apple')\n",
    "print('\\ne: {}'.format(e))"
   ]
  },
  {
   "cell_type": "markdown",
   "metadata": {},
   "source": [
    "<div class=\"alert alert-info\"><b>String Partition</b>\n",
    "<li>The partition() method divides a string into three around a separator: prefix, separator, suffix<li>Using tuple unpacking, the result can be destructured.<li>Underscore(_) can be used as a dummy name in place of the separator</div>"
   ]
  },
  {
   "cell_type": "code",
   "execution_count": 35,
   "metadata": {},
   "outputs": [
    {
     "name": "stdout",
     "output_type": "stream",
     "text": [
      "Name is: Jack Martin\n",
      "\n",
      "Name is: Jack\n",
      "Age is: 24\n"
     ]
    }
   ],
   "source": [
    "a='Jack-Martin'\n",
    "first_name, separator, last_name = a.partition('-') # returns a tuple\n",
    "print('Name is: {} {}'.format(first_name,last_name))\n",
    "\n",
    "b='Jack|24'\n",
    "name, _, age = b.partition('|') # _ is used for invaluable results\n",
    "print('\\nName is: {}\\nAge is: {}'.format(name,age))\n"
   ]
  },
  {
   "cell_type": "markdown",
   "metadata": {},
   "source": [
    "### Objects created explicitly using constructors (int(), str(), list(), float())"
   ]
  },
  {
   "cell_type": "code",
   "execution_count": 37,
   "metadata": {},
   "outputs": [
    {
     "name": "stdout",
     "output_type": "stream",
     "text": [
      "int(4):  4\n",
      "int(4.5):  4\n",
      "int('78'):  78\n",
      "int(True):  1\n",
      "\n",
      "str('Hey'):  Hey\n",
      "str(53):  53\n",
      "str(46.2):  46.2\n",
      "str(True):  True\n",
      "\n",
      "float(3.6):  3.6\n",
      "float('21.64'):  21.64\n",
      "float(435):  435.0\n",
      "float(True):  1.0\n",
      "\n",
      "bool(1):  True\n",
      "bool(0):  False\n",
      "\n",
      "list([3,6,'fan']):  [3, 6, 'fan']\n",
      "tuple([2,8,'test', False]):  (2, 8, 'test', False)\n",
      "tuple('String123'):  ('S', 't', 'r', 'i', 'n', 'g', '1', '2', '3')\n",
      "\n",
      "Default Values\n",
      "int():  0\n",
      "float():  0.0\n",
      "str():  \n",
      "list():  []\n",
      "bool():  False\n"
     ]
    }
   ],
   "source": [
    "print(\"int(4): \",int(4))\n",
    "print(\"int(4.5): \",int(4.5)) # type conversion from float to integer\n",
    "print(\"int('78'): \", int('78')) # type conversion from string to integer\n",
    "print(\"int(True): \",int(True)) # type conversion from boolean to integer\n",
    "\n",
    "print(\"\\nstr('Hey'): \",str('Hey'))\n",
    "print(\"str(53): \",str(53)) # type conversion from integer to string\n",
    "print(\"str(46.2): \", str(46.2)) # type conversion from float to string\n",
    "print(\"str(True): \",str(True)) # type conversion from boolean to string\n",
    "\n",
    "print(\"\\nfloat(3.6): \",float(3.6))\n",
    "print(\"float('21.64'): \", float('21.64')) # type conversion from string to float\n",
    "print(\"float(435): \", float(435)) # type conversion from integer to float\n",
    "print(\"float(True): \",float(True)) # type conversion from boolean to float\n",
    "\n",
    "print(\"\\nbool(1): \",bool(1))\n",
    "print(\"bool(0): \", bool(0))\n",
    "\n",
    "print(\"\\nlist([3,6,'fan']): \",list([3,6,'fan']))\n",
    "print(\"tuple([2,8,'test', False]): \",tuple([2,8,'test', False]))\n",
    "print(\"tuple('String123'): \", tuple('String123'))\n",
    "\n",
    "# Default Values\n",
    "print(\"\\nDefault Values\\nint(): \",int()) # 0\n",
    "print(\"float(): \",float()) #0.0\n",
    "print(\"str(): \",str()) # '' (blank string)\n",
    "print(\"list(): \",list()) # [] (blank list)\n",
    "print(\"bool(): \", bool()) # False"
   ]
  },
  {
   "cell_type": "markdown",
   "metadata": {},
   "source": [
    "### Advanced Numbers: Octal, Hexadecimal, Binary, Complex"
   ]
  },
  {
   "cell_type": "code",
   "execution_count": 37,
   "metadata": {},
   "outputs": [
    {
     "name": "stdout",
     "output_type": "stream",
     "text": [
      "Decimal Value: 50\n",
      "\n",
      "Octal Value: 0o62 , type of o: <class 'str'>\n",
      "\n",
      "Hexadecimal Value: 0x32 , type of h: <class 'str'>\n",
      "\n",
      "Binary Value: 0b110010 , type of b: <class 'str'>\n",
      "\n",
      "Complex Number: (5+6j) , type of x: <class 'complex'>\n",
      "Defining complex number using complex(): (4+3j)\n",
      "\n",
      "Octal to integer: 0o62 is 50\n",
      "\n",
      "Hexadecimal to integer: 0x32 is 50\n",
      "\n",
      "Binary to integer: 0b110010 is 50\n",
      "\n",
      "Float Representation:\n",
      "4e8 is 400000000.0\n",
      "-9.53e18 is -9.53e+18\n",
      "float(nan) is nan\n",
      "float(inf) is inf\n",
      "float(-inf) is -inf\n",
      "\n",
      "String Representation:\n",
      "Unicode: \\u0e21 is ม\n",
      "Octal: \\521 is ő\n",
      "Hex: \\x521 is R1\n"
     ]
    }
   ],
   "source": [
    "# Normal Integer\n",
    "i=50\n",
    "print(\"Decimal Value:\",i)\n",
    "\n",
    "# converting integer to octal value\n",
    "o=oct(i)\n",
    "print(\"\\nOctal Value:\",o,\", type of o:\",type(o)) # number prefixed by 0o (zero and a lowercase \"o\" or uppercase \"O\") represents an octal number\n",
    "\n",
    "# converting integer to hex value\n",
    "h=hex(i)\n",
    "print(\"\\nHexadecimal Value:\",h,\", type of h:\",type(h)) # number prefixed by 0x (zero and a lowercase \"x\" or uppercase \"X\") represents a hexadecimal number\n",
    "\n",
    "# converting integer to binary value\n",
    "b=bin(i)\n",
    "print(\"\\nBinary Value:\",b,\", type of b:\",type(b)) # number prefixed by 0b (zero and a lowercase \"b\" or uppercase \"B\") represents a binary number\n",
    "\n",
    "# Real & Imaginary Number\n",
    "x=5+6j\n",
    "print(\"\\nComplex Number:\",x,\", type of x:\",type(x))\n",
    "print(\"Defining complex number using complex():\",complex(4,3))\n",
    "\n",
    "# converting octal to integer value\n",
    "print(\"\\nOctal to integer: 0o62 is {}\".format(0o62))\n",
    "\n",
    "# converting hex to integer value\n",
    "print(\"\\nHexadecimal to integer: 0x32 is {}\".format(0x32))\n",
    "\n",
    "# converting binary to integer value\n",
    "print(\"\\nBinary to integer: 0b110010 is {}\".format(0b110010))\n",
    "\n",
    "# Float numbers representation\n",
    "print('\\nFloat Representation:\\n4e8 is {}'.format(4e8))\n",
    "print('-9.53e18 is {}'.format(-9.53e18))\n",
    "print('float(nan) is',float('nan'))\n",
    "print('float(inf) is',float('inf'))\n",
    "print('float(-inf) is',float('-inf'))\n",
    "\n",
    "# String representation\n",
    "print('\\nString Representation:\\nUnicode: \\\\u0e21 is {}'.format('\\u0e21'))\n",
    "print('Octal: \\\\521 is {}'.format('\\521'))\n",
    "print('Hex: \\\\x521 is {}'.format('\\x521'))"
   ]
  },
  {
   "cell_type": "markdown",
   "metadata": {},
   "source": [
    "### Importing Libraries"
   ]
  },
  {
   "cell_type": "code",
   "execution_count": 39,
   "metadata": {},
   "outputs": [
    {
     "name": "stdout",
     "output_type": "stream",
     "text": [
      "m.sqrt(16):  4.0\n",
      "m.pi:  3.141592653589793\n",
      "m.e:  2.718281828459045 \n",
      "\n",
      "Help on built-in function sqrt in module math:\n",
      "\n",
      "sqrt(x, /)\n",
      "    Return the square root of x.\n",
      "\n"
     ]
    }
   ],
   "source": [
    "# math library\n",
    "import math as m # math module is a library of mathematical functions and constants. As keyword is used to define alias.\n",
    "print(\"m.sqrt(16): \",m.sqrt(16)) # square root\n",
    "print(\"m.pi: \",m.pi) # value of pi\n",
    "print(\"m.e: \",m.e,\"\\n\") # value of e\n",
    "\n",
    "# The help function is used to find more information on math library\n",
    "help(m.sqrt)"
   ]
  },
  {
   "cell_type": "markdown",
   "metadata": {},
   "source": [
    "### Dictionary\n",
    "<div class=\"alert alert-info\"><li>Dictionaries are defined using a Key-Value pair in curly brackets {}. <li>A key-value can be an integer, string, etc.</div>\n"
   ]
  },
  {
   "cell_type": "code",
   "execution_count": 40,
   "metadata": {},
   "outputs": [
    {
     "data": {
      "text/plain": [
       "{}"
      ]
     },
     "execution_count": 40,
     "metadata": {},
     "output_type": "execute_result"
    }
   ],
   "source": [
    "empty_dict={}\n",
    "empty_dict"
   ]
  },
  {
   "cell_type": "code",
   "execution_count": 41,
   "metadata": {},
   "outputs": [
    {
     "name": "stdout",
     "output_type": "stream",
     "text": [
      "a: {0: 'Zero', 1: 'One', 2: 'Two', 3: 'Three', 4: 'Four', 5: 'Five'}\n",
      "b: {4: 'four', 5: 'five', 6: 'six', 7: 'seven', 8: 'eight'}\n",
      "\n",
      "After Updating Dictionary,\n",
      "a: {0: 'Zero', 1: 'One', 2: 'Two', 3: 'Three', 4: 'four', 5: 'five', 6: 'six', 7: 'seven', 8: 'eight'}\n"
     ]
    }
   ],
   "source": [
    "a= {\n",
    "    0:\"Zero\",\n",
    "    1:\"One\",\n",
    "    2:\"Two\",\n",
    "    3:\"Three\",\n",
    "    4:\"Four\",\n",
    "    5:\"Five\"\n",
    "}\n",
    "# 0,1,2, etc are the keys. Zero, One, Two, etc are the values.  \n",
    "print(\"a:\",a)\n",
    "\n",
    "b= {\n",
    "    4:\"four\",\n",
    "    5:\"five\",\n",
    "    6:\"six\",\n",
    "    7:\"seven\",\n",
    "    8:\"eight\"\n",
    "}\n",
    "print(\"b:\",b)\n",
    "\n",
    "a.update(b) # a dictionary is updated with keys & values of dictionary b, only unique values are stored\n",
    "print(\"\\nAfter Updating Dictionary,\\na:\",a)"
   ]
  },
  {
   "cell_type": "markdown",
   "metadata": {},
   "source": [
    "<div class=\"alert alert-info\"><li>A key in dictionary can hold multiple datatypes (Boolean, Integer, Float, String, Tuple) i.e. datatype should be immutable<li>A value in dictionary can hold multiple datatypes (List, Tuple, Boolean, Integer, Float, String) i.e. both immutable and mutable</div>\n"
   ]
  },
  {
   "cell_type": "code",
   "execution_count": 42,
   "metadata": {},
   "outputs": [
    {
     "name": "stdout",
     "output_type": "stream",
     "text": [
      "Dictionary a: {'Text': 'String', 18: 'Integer', True: 'Boolean', (1, 2, 3): 'Tuple', 3.5: 'Float_duplicate'}\n",
      "\n",
      "Dictionary b: {'Name': 'Jack', 'Age': 34, 'Amount': 76890.56, 'Access': False, 'Address': (22, 'ABC', 'XYZ'), 'Mobile': [12345, 95748, '45225']}\n",
      "\n",
      "b['Name']: Jack\n",
      "a[True]: Boolean\n",
      "\n",
      "a.keys(): dict_keys(['Text', 18, True, (1, 2, 3), 3.5, 'New Key'])\n",
      "b.values(): dict_values(['Jack', 34, 76890.56, False, (22, 'ABC', 'XYZ'), [12345, 95748, '45225'], 'Python'])\n",
      "a.items(): dict_items([('Text', 'String'), (18, 'Integer'), (True, 'Boolean'), ((1, 2, 3), 'Tuple'), (3.5, 'Float_duplicate'), ('New Key', 'New Value')])\n",
      "\n",
      "x:  (('a', 1), ('b', 2), ('c', 3), ('d', 4), ('e', 5)) \n",
      "Tuple converted into dictionary:  {'a': 1, 'b': 2, 'c': 3, 'd': 4, 'e': 5}\n"
     ]
    }
   ],
   "source": [
    "a= {\n",
    "    \"Text\":\"String\",\n",
    "    18:\"Integer\",\n",
    "    True:\"Boolean\",\n",
    "    (1,2,3):\"Tuple\",\n",
    "    3.5:\"Float\",\n",
    "    3.5:\"Float_duplicate\" # 3.5 is the duplicate key, the returned value will be the last defined value\n",
    "}\n",
    "print(\"Dictionary a:\",a) # Printing order of dictionary is not ordered\n",
    "\n",
    "b={\n",
    "    \"Name\":\"Jack\",\n",
    "    \"Age\":34,\n",
    "    \"Amount\":76890.56,\n",
    "    \"Access\":False,\n",
    "    \"Address\":(22,'ABC','XYZ'),\n",
    "    \"Mobile\":[12345,95748,\"45225\"]\n",
    "}\n",
    "print(\"\\nDictionary b:\",b)\n",
    "\n",
    "# Accessing the dictionary elements using keys\n",
    "print(\"\\nb['Name']:\",b['Name'])\n",
    "print(\"a[True]:\",a[True])\n",
    "\n",
    "# Adding new Key-Values pairs in dictionary\n",
    "a[\"New Key\"]=\"New Value\"\n",
    "b[\"Software\"]=\"Python\"\n",
    "\n",
    "print(\"\\na.keys():\",a.keys()) # retrieving the list of keys of Dictionary A\n",
    "print(\"b.values():\",b.values()) # retrieving the list of values of Dictionary B\n",
    "print(\"a.items():\",a.items()) # returns the list of all items (tuples) in dictionary A\n",
    "\n",
    "# Converting a tuple into dictionary\n",
    "x=(('a',1),('b',2),('c',3),('d',4),('e',5))\n",
    "y=dict(x)\n",
    "print(\"\\nx: \",x,\"\\nTuple converted into dictionary: \",y)"
   ]
  },
  {
   "cell_type": "code",
   "execution_count": 43,
   "metadata": {},
   "outputs": [
    {
     "name": "stdout",
     "output_type": "stream",
     "text": [
      "{'Access': False,\n",
      " 'Address': (22, 'ABC', 'XYZ'),\n",
      " 'Age': 34,\n",
      " 'Amount': 76890.56,\n",
      " 'Mobile': [12345, 95748, '45225'],\n",
      " 'Name': 'Jack'}\n"
     ]
    }
   ],
   "source": [
    "# Using pprint library (Pretty Printing) for viewing dictionary neatly\n",
    "from pprint import pprint as pp\n",
    "a={\n",
    "    \"Name\":\"Jack\",\n",
    "    \"Age\":34,\n",
    "    \"Amount\":76890.56,\n",
    "    \"Access\":False,\n",
    "    \"Address\":(22,'ABC','XYZ'),\n",
    "    \"Mobile\":[12345,95748,\"45225\"]\n",
    "}\n",
    "pp(a) # Keys are arranged in a sorted manner"
   ]
  },
  {
   "cell_type": "markdown",
   "metadata": {},
   "source": [
    "### Sets\n",
    "<div class=\"alert alert-info\"><li>Sets contains unique elements. <li>They are defined by curly brackets {}.<div>"
   ]
  },
  {
   "cell_type": "code",
   "execution_count": 65,
   "metadata": {},
   "outputs": [
    {
     "name": "stdout",
     "output_type": "stream",
     "text": [
      "Set s1: {1, 2, 3, 4, 5}\n",
      "Set s2: {1, 2, 3, 4, 5} , only unique elements are contained in the set\n",
      "\n",
      "After adding element in List s1: {1, 2, 3, 4, 5, 6}\n",
      "After removing element in List s1: {1, 2, 3, 4, 5}\n",
      "\n",
      "6 in s1: False\n",
      "\n",
      "s2 (Copy of set s1):  {1, 2, 3, 4, 5}\n",
      "s2:  set()\n",
      "\n",
      "Set a:  {1, 2, 3, 4, 5} \n",
      "Set coverted into list:  [1, 2, 3, 4, 5]\n",
      "\n",
      "List a:  [3, 4, 2, 4, 3, 2, 4, 1, 1, 1, 4, 5, 3, 4, 2, 2, 3] \n",
      "List coverted into set:  {1, 2, 3, 4, 5}\n"
     ]
    }
   ],
   "source": [
    "s1={1,2,3,4,5}\n",
    "s2={2,5,1,5,3,2,5,3,4,1,2,4,4,5,2,1,1,3} # elements are repeated\n",
    "print(\"Set s1: {}\".format(s1))\n",
    "print(\"Set s2: {} , only unique elements are contained in the set\".format(s2))\n",
    "\n",
    "\n",
    "# Adding an element in set using add()\n",
    "s1.add(6)\n",
    "print(\"\\nAfter adding element in List s1: {}\".format(s1))\n",
    "\n",
    "# Removing an element in set using remove()\n",
    "s1.remove(6)\n",
    "s1.discard(6) # always succeeds without raising KeyError\n",
    "print(\"After removing element in List s1: {}\".format(s1))\n",
    "\n",
    "\n",
    "# Check if element is present in the set\n",
    "print(\"\\n6 in s1:\",6 in s1)\n",
    "\n",
    "\n",
    "# Making a copy of set\n",
    "s2=s1.copy()\n",
    "print(\"\\ns2 (Copy of set s1): \",s2)\n",
    "\n",
    "# Clearing contents of set s2\n",
    "s2.clear()\n",
    "print(\"s2: \",s2) # Empty Set\n",
    "\n",
    "\n",
    "# Converting a set into list using the list constructor\n",
    "a={3,4,2,4,3,2,4,1,1,1,4,5,3,4,2,2,3}\n",
    "b=list(a)\n",
    "print(\"\\nSet a: \",a,\"\\nSet coverted into list: \",b)\n",
    "\n",
    "# Converting a list into set using the set constructor\n",
    "a=[3,4,2,4,3,2,4,1,1,1,4,5,3,4,2,2,3]\n",
    "b=set(a)\n",
    "print(\"\\nList a: \",a,\"\\nList coverted into set: \",b)"
   ]
  },
  {
   "cell_type": "code",
   "execution_count": 75,
   "metadata": {},
   "outputs": [
    {
     "name": "stdout",
     "output_type": "stream",
     "text": [
      "a: {1, 2, 3, 4}\n",
      "b: {3, 4, 5, 6}\n",
      "c: {5, 6}\n",
      "\n",
      "a.union(b): {1, 2, 3, 4, 5, 6}\n",
      "a.intersection(b): {3, 4}\n",
      "a.symmetric_difference(b): {1, 2, 5, 6}\n",
      "a.difference(b): {1, 2}\n",
      "b.difference(a): {5, 6}\n",
      "\n",
      "set(a).issuperset(c): False\n",
      "set(b).issuperset(c): True\n",
      "set(c).issubset(a): False\n",
      "set(c).issubset(b): True\n",
      "set(c).isdisjoint(a): True\n",
      "\n",
      "d: {70, 40, 10, 50, 20, 30}\n",
      "e: {40, 10, 50, 20, 60, 30}\n",
      "After updating, d: {70, 40, 10, 50, 20, 60, 30}\n"
     ]
    }
   ],
   "source": [
    "a={1,2,3,4}\n",
    "b={3,4,5,6}\n",
    "c={5,6}\n",
    "print(\"a:\",a)\n",
    "print(\"b:\",b)\n",
    "print(\"c:\",c)\n",
    "\n",
    "print(\"\\na.union(b):\",a.union(b)) # A union B\n",
    "print(\"a.intersection(b):\",a.intersection(b)) # A intersection B\n",
    "print(\"a.symmetric_difference(b):\",a.symmetric_difference(b)) # ~(A intersection B), all other uncommon elements\n",
    "print(\"a.difference(b):\",a.difference(b)) # A prime\n",
    "print(\"b.difference(a):\",b.difference(a)) # B prime\n",
    "\n",
    "print(\"\\nset(a).issuperset(c):\",set(a).issuperset(c))\n",
    "print(\"set(b).issuperset(c):\",set(b).issuperset(c))\n",
    "print(\"set(c).issubset(a):\",set(c).issubset(a))\n",
    "print(\"set(c).issubset(b):\",set(c).issubset(b))\n",
    "print(\"set(c).isdisjoint(a):\",set(c).isdisjoint(a))\n",
    "\n",
    "d={10,20,30,40,20,10,20,30,50,70}\n",
    "e={10,20,30,40,20,10,20,30,50,60}\n",
    "\n",
    "print(\"\\nd:\",d)\n",
    "print(\"e:\",e)\n",
    "d.update(e) # Update a set with the union of itself and others\n",
    "print(\"After updating, d:\",d)\n"
   ]
  },
  {
   "cell_type": "markdown",
   "metadata": {},
   "source": [
    "### Frozensets\n",
    "Frozen sets are a native data type in Python that have the qualities of sets, but are immutable like tuples. The primary reason to use them is to write more clear, functional code. By defining a variable as a frozen set, we’re telling future readers: do not modify this!"
   ]
  },
  {
   "cell_type": "code",
   "execution_count": 46,
   "metadata": {},
   "outputs": [
    {
     "name": "stdout",
     "output_type": "stream",
     "text": [
      "{1, 2, 3}\n"
     ]
    }
   ],
   "source": [
    "scores = {1,2}\n",
    "scores.add(3)\n",
    "print(scores)"
   ]
  },
  {
   "cell_type": "code",
   "execution_count": 47,
   "metadata": {},
   "outputs": [
    {
     "ename": "AttributeError",
     "evalue": "'frozenset' object has no attribute 'add'",
     "output_type": "error",
     "traceback": [
      "\u001b[1;31m---------------------------------------------------------------------------\u001b[0m",
      "\u001b[1;31mAttributeError\u001b[0m                            Traceback (most recent call last)",
      "\u001b[1;32m<ipython-input-47-9ca026a6ef3c>\u001b[0m in \u001b[0;36m<module>\u001b[1;34m\u001b[0m\n\u001b[0;32m      3\u001b[0m \u001b[1;33m\u001b[0m\u001b[0m\n\u001b[0;32m      4\u001b[0m \u001b[1;31m# AttributeError: 'frozenset' object has no attribute 'add'\u001b[0m\u001b[1;33m\u001b[0m\u001b[1;33m\u001b[0m\u001b[1;33m\u001b[0m\u001b[0m\n\u001b[1;32m----> 5\u001b[1;33m \u001b[0mfrozen_scores\u001b[0m\u001b[1;33m.\u001b[0m\u001b[0madd\u001b[0m\u001b[1;33m(\u001b[0m\u001b[1;36m3\u001b[0m\u001b[1;33m)\u001b[0m\u001b[1;33m\u001b[0m\u001b[1;33m\u001b[0m\u001b[0m\n\u001b[0m",
      "\u001b[1;31mAttributeError\u001b[0m: 'frozenset' object has no attribute 'add'"
     ]
    }
   ],
   "source": [
    "scores = {1,2}\n",
    "frozen_scores = frozenset(scores)\n",
    "\n",
    "# AttributeError: 'frozenset' object has no attribute 'add'\n",
    "frozen_scores.add(3)"
   ]
  },
  {
   "cell_type": "code",
   "execution_count": 48,
   "metadata": {},
   "outputs": [
    {
     "name": "stdout",
     "output_type": "stream",
     "text": [
      "frozenset({1, 2, 3, 4})\n",
      "frozenset({'H', 'l', 'e', 'o'})\n"
     ]
    }
   ],
   "source": [
    "myList = [1,1,2,3,4]\n",
    "frozenList = frozenset(myList)\n",
    "print(frozenList) # frozenset({1, 2, 3, 4})\n",
    "\n",
    "myString = \"Hello\"\n",
    "frozenString = frozenset(myString)\n",
    "print(frozenString) # frozenset({'e', 'l', 'H', 'o'})"
   ]
  },
  {
   "cell_type": "markdown",
   "metadata": {},
   "source": [
    "### User_Defined Input"
   ]
  },
  {
   "cell_type": "code",
   "execution_count": 49,
   "metadata": {},
   "outputs": [
    {
     "name": "stdout",
     "output_type": "stream",
     "text": [
      "Enter number: 56\n",
      "User entered: 56. It is a string\n",
      "<class 'str'>\n",
      "\n",
      "After conversion, 56 is a integer\n",
      "<class 'int'> \n",
      "\n"
     ]
    }
   ],
   "source": [
    "a=input(\"Enter number: \") # input function is used for inputting through keyboard \n",
    "print(\"User entered: {}. It is a string\".format(a))\n",
    "print(type(a)) # result is of string data type\n",
    "\n",
    "# In order to convert string into number, we can use object constructor int()\n",
    "b=int(a)\n",
    "print(\"\\nAfter conversion, {} is a integer\".format(b))\n",
    "print(type(b),'\\n')"
   ]
  },
  {
   "cell_type": "markdown",
   "metadata": {},
   "source": [
    "### Conditional statements if-else, elif statements"
   ]
  },
  {
   "cell_type": "code",
   "execution_count": 51,
   "metadata": {},
   "outputs": [
    {
     "name": "stdout",
     "output_type": "stream",
     "text": [
      "Enter Marks: 78\n",
      "Marks scored: 78\n",
      "Grade A\n"
     ]
    }
   ],
   "source": [
    "# Indentation is critical in order to avoid error\n",
    "\n",
    "marks= int(input(\"Enter Marks: \")) # input() is enclosed inside int() which converts string into integer\n",
    "print(\"Marks scored: {}\".format(marks))\n",
    "\n",
    "if marks>=75: # if statement\n",
    "    print(\"Grade A\" ) \n",
    "elif marks>=60 and marks<75: # else if statement\n",
    "    print(\"Grade B\")\n",
    "else: # else statement\n",
    "    print(\"Grade C\")"
   ]
  },
  {
   "cell_type": "markdown",
   "metadata": {},
   "source": [
    "### Range()"
   ]
  },
  {
   "cell_type": "code",
   "execution_count": 52,
   "metadata": {},
   "outputs": [
    {
     "name": "stdout",
     "output_type": "stream",
     "text": [
      "range(0, 5) [0, 1, 2, 3, 4]\n",
      "range(4, 8) [4, 5, 6, 7]\n",
      "range(1, 10, 2) [1, 3, 5, 7, 9]\n"
     ]
    }
   ],
   "source": [
    "# range(n) generates a sequence from 0 to n-1\n",
    "# list(range(n)) is used to represent the range in form of a list\n",
    "\n",
    "print(range(5), list(range(5))) \n",
    "print(range(4,8), list(range(4,8))) \n",
    "print(range(1,10,2), list(range(1,10,2))) "
   ]
  },
  {
   "cell_type": "markdown",
   "metadata": {},
   "source": [
    "### For Loop "
   ]
  },
  {
   "cell_type": "code",
   "execution_count": 21,
   "metadata": {},
   "outputs": [
    {
     "name": "stdout",
     "output_type": "stream",
     "text": [
      "5\n",
      "2\n",
      "6\n",
      "2\n",
      "5\n",
      "1\n",
      "5\n",
      "\n",
      "\n",
      "Element 0: 5\n",
      "Element 1: 2\n",
      "Element 2: 6\n",
      "Element 3: 2\n",
      "Element 4: 5\n",
      "Element 5: 1\n",
      "Element 6: 5\n",
      "\n",
      "\n",
      "Using enumerate,\n",
      "Element 1: 5\n",
      "Element 2: 2\n",
      "Element 3: 6\n",
      "Element 4: 2\n",
      "Element 5: 5\n",
      "Element 6: 1\n",
      "Element 7: 5\n"
     ]
    },
    {
     "data": {
      "text/plain": [
       "[(1, 5), (2, 2), (3, 6), (4, 2), (5, 5), (6, 1), (7, 5)]"
      ]
     },
     "execution_count": 21,
     "metadata": {},
     "output_type": "execute_result"
    }
   ],
   "source": [
    "a=[5,2,6,2,5,1,5] \n",
    "for i in a: # iterates over each element in list\n",
    "    print(i)\n",
    "\n",
    "print(\"\\n\")    \n",
    "    \n",
    "a=[5,2,6,2,5,1,5]\n",
    "for i in range(len(a)): # iterates over each index in list\n",
    "    print(\"Element {}: {}\".format(i,a[i]))    \n",
    "    \n",
    "print(\"\\n\")\n",
    "    \n",
    "a=[5,2,6,2,5,1,5]\n",
    "print(\"Using enumerate,\")\n",
    "for i,k in enumerate(a,start=1): # enumerate() yields (index,value) tuples\n",
    "    print(\"Element {}: {}\".format(i,k))\n",
    "    \n",
    "list(enumerate(a,start=1)) # enumerate function can also be used directly on the list"
   ]
  },
  {
   "cell_type": "code",
   "execution_count": 54,
   "metadata": {},
   "outputs": [
    {
     "name": "stdout",
     "output_type": "stream",
     "text": [
      "a:  [10, 20, 30, 40, 50]\n",
      "b:  [100, 200, 300, 400, 500]\n",
      "b:  [100, 200, 300, 400, 500]\n"
     ]
    }
   ],
   "source": [
    "# List Comprehension using for loop\n",
    "\n",
    "# Method_1\n",
    "a=[10,20,30,40,50]\n",
    "print(\"a: \",a)\n",
    "b=[]\n",
    "for i in a:\n",
    "    b.append((i*10))\n",
    "print(\"b: \",b)\n",
    "\n",
    "# Method_2\n",
    "a=[10,20,30,40,50]\n",
    "b=[i*10 for i in a]\n",
    "print(\"b: \",b)"
   ]
  },
  {
   "cell_type": "code",
   "execution_count": 2,
   "metadata": {},
   "outputs": [
    {
     "data": {
      "text/plain": [
       "[1, 4, 27, 16, 125, 36, 343, 64, 729]"
      ]
     },
     "execution_count": 2,
     "metadata": {},
     "output_type": "execute_result"
    }
   ],
   "source": [
    "# Example: number squared for even and cubed for odd\n",
    "\n",
    "x = [1,2,3,4,5,6,7,8,9]\n",
    "[y**2 if y%2==0 else y**3 for y in x]"
   ]
  },
  {
   "cell_type": "code",
   "execution_count": 77,
   "metadata": {},
   "outputs": [
    {
     "data": {
      "text/plain": [
       "{10: 100, 20: 400, 30: 900, 40: 1600, 50: 2500}"
      ]
     },
     "execution_count": 77,
     "metadata": {},
     "output_type": "execute_result"
    }
   ],
   "source": [
    "# Dictionary Comprehension\n",
    "\n",
    "a=[10,20,30,40,50]\n",
    "{x:x**2 for x in a}"
   ]
  },
  {
   "cell_type": "markdown",
   "metadata": {},
   "source": [
    "### While loop"
   ]
  },
  {
   "cell_type": "code",
   "execution_count": 55,
   "metadata": {},
   "outputs": [
    {
     "name": "stdout",
     "output_type": "stream",
     "text": [
      "Element 0: 5\n",
      "Element 1: 2\n",
      "Element 2: 6\n",
      "Element 3: 2\n",
      "Element 4: 5\n",
      "Element 5: 1\n",
      "Element 6: 5\n"
     ]
    }
   ],
   "source": [
    "a=[5,2,6,2,5,1,5]\n",
    "i=0\n",
    "while i<len(a):\n",
    "    print(\"Element {}: {}\".format(i,a[i]))\n",
    "    i=i+1"
   ]
  },
  {
   "cell_type": "code",
   "execution_count": 56,
   "metadata": {},
   "outputs": [
    {
     "name": "stdout",
     "output_type": "stream",
     "text": [
      "Original list: ['String', 84.1, 'text', 45.32, 23, 'Number', 24, 36.4, 'Some text', 31]\n",
      "\n",
      "After Data cleaning,\n",
      "List with numbers: [84.1, 45.32, 23, 24, 36.4, 31]\n",
      "List with strings: ['String', 'text', 'Number', 'Some text']\n"
     ]
    }
   ],
   "source": [
    "# List Comprehension using while loop\n",
    "# Data cleaning program (list containing numbers and string are filtered)\n",
    "\n",
    "i=0\n",
    "x=[\"String\",84.1, \"text\", 45.32,23,\"Number\",24,36.4,\"Some text\", 31]\n",
    "y=[]\n",
    "l=len(x)\n",
    "print(\"Original list: {}\".format(x))\n",
    "\n",
    "while i < l:\n",
    "    if isinstance(x[i],int) or isinstance(x[i],float):\n",
    "        y.append(x[i])\n",
    "        x.pop(i)\n",
    "        l-=1\n",
    "        i-=1\n",
    "    i=i+1\n",
    "    \n",
    "print(\"\\nAfter Data cleaning,\\nList with numbers: {}\".format(y))\n",
    "print(\"List with strings: {}\".format(x))  "
   ]
  },
  {
   "cell_type": "markdown",
   "metadata": {},
   "source": [
    "### Break and continue statements"
   ]
  },
  {
   "cell_type": "code",
   "execution_count": 57,
   "metadata": {},
   "outputs": [
    {
     "name": "stdout",
     "output_type": "stream",
     "text": [
      "0\n",
      "1\n",
      "2\n",
      "3\n",
      "5\n",
      "6\n",
      "7\n"
     ]
    }
   ],
   "source": [
    "for i in range(10):\n",
    "    if (i==4): \n",
    "        continue # element 4 is skipped\n",
    "    if(i==8):\n",
    "        break # loop stops as it reaches 8\n",
    "    print(i)"
   ]
  },
  {
   "cell_type": "markdown",
   "metadata": {},
   "source": [
    "### User_Defined Functions"
   ]
  },
  {
   "cell_type": "code",
   "execution_count": 58,
   "metadata": {},
   "outputs": [
    {
     "name": "stdout",
     "output_type": "stream",
     "text": [
      "Original list: ['String', 84.1, 'text', 45.32, 23, 'Number', 24, 36.4, 'Some text', 31] \n",
      "\n",
      "Help on function data_clean in module __main__:\n",
      "\n",
      "data_clean(x)\n",
      "    List containing numbers and string are filtered\n",
      "\n",
      "Returning function data_clean: [84.1, 45.32, 23, 24, 36.4, 31] ['String', 'text', 'Number', 'Some text'] \n",
      "\n",
      "Help on function sum_list in module __main__:\n",
      "\n",
      "sum_list(x)\n",
      "    Sum of list elements\n",
      "\n",
      "Returning function sum_list: 243.82 \n",
      "\n"
     ]
    }
   ],
   "source": [
    "# Functions are defined for code-reusability\n",
    "# Compiling the above code in function\n",
    "\n",
    "a=[\"String\",84.1, \"text\", 45.32,23,\"Number\",24,36.4,\"Some text\", 31] # Global variable\n",
    "print(\"Original list: {}\".format(a),\"\\n\")\n",
    "\n",
    "def data_clean(x): # function declaration\n",
    "    '''    \n",
    "    List containing numbers and string are filtered \n",
    "    ''' # Documentation of function is enclosed in paragraph\n",
    "    i=0 \n",
    "    y=[] # Local variable \n",
    "    l=len(x)\n",
    "    while i < l:\n",
    "        if isinstance(x[i],int) or isinstance(x[i],float):\n",
    "            y.append(x[i])\n",
    "            x.pop(i)\n",
    "            l-=1\n",
    "            i-=1\n",
    "        i=i+1\n",
    "    return y,x # return statement returns the value \n",
    "\n",
    "def sum_list(x):\n",
    "    '''\n",
    "    Sum of list elements \n",
    "    '''\n",
    "    sum=0\n",
    "    for i in x:\n",
    "        if isinstance(i,int) or isinstance(i, float):\n",
    "            sum=sum+i\n",
    "        else: pass # pass statement means do nothing\n",
    "    return sum\n",
    "\n",
    "# function calling\n",
    "d=sum_list(a)   \n",
    "b,c=data_clean(a)\n",
    "\n",
    "# On calling the help(), we can see the documentation of the function.\n",
    "help(data_clean)   \n",
    "print(\"Returning function data_clean:\",b,c,\"\\n\")\n",
    "\n",
    "help(sum_list)\n",
    "print(\"Returning function sum_list:\",d,\"\\n\")"
   ]
  },
  {
   "cell_type": "code",
   "execution_count": 59,
   "metadata": {},
   "outputs": [
    {
     "name": "stdout",
     "output_type": "stream",
     "text": [
      "Calling function when only one parameter is defined:  8\n",
      "Calling function when both parameters are defined:  12\n"
     ]
    }
   ],
   "source": [
    "def add(a,b=5):\n",
    "    sum=a+b\n",
    "    return sum\n",
    "\n",
    "print(\"Calling function when only one parameter is defined: \",add(3)) # default value for b is taken\n",
    "print(\"Calling function when both parameters are defined: \",add(4,8)) # default value is replaced "
   ]
  },
  {
   "cell_type": "markdown",
   "metadata": {},
   "source": [
    "### Objects and Classes"
   ]
  },
  {
   "cell_type": "code",
   "execution_count": 60,
   "metadata": {},
   "outputs": [
    {
     "data": {
      "text/plain": [
       "['__add__',\n",
       " '__class__',\n",
       " '__contains__',\n",
       " '__delattr__',\n",
       " '__delitem__',\n",
       " '__dir__',\n",
       " '__doc__',\n",
       " '__eq__',\n",
       " '__format__',\n",
       " '__ge__',\n",
       " '__getattribute__',\n",
       " '__getitem__',\n",
       " '__gt__',\n",
       " '__hash__',\n",
       " '__iadd__',\n",
       " '__imul__',\n",
       " '__init__',\n",
       " '__init_subclass__',\n",
       " '__iter__',\n",
       " '__le__',\n",
       " '__len__',\n",
       " '__lt__',\n",
       " '__mul__',\n",
       " '__ne__',\n",
       " '__new__',\n",
       " '__reduce__',\n",
       " '__reduce_ex__',\n",
       " '__repr__',\n",
       " '__reversed__',\n",
       " '__rmul__',\n",
       " '__setattr__',\n",
       " '__setitem__',\n",
       " '__sizeof__',\n",
       " '__str__',\n",
       " '__subclasshook__',\n",
       " 'append',\n",
       " 'clear',\n",
       " 'copy',\n",
       " 'count',\n",
       " 'extend',\n",
       " 'index',\n",
       " 'insert',\n",
       " 'pop',\n",
       " 'remove',\n",
       " 'reverse',\n",
       " 'sort']"
      ]
     },
     "execution_count": 60,
     "metadata": {},
     "output_type": "execute_result"
    }
   ],
   "source": [
    "a=[1,2,3,4,5] \n",
    "dir(a) # returns the list of all Python's objects classes"
   ]
  },
  {
   "cell_type": "markdown",
   "metadata": {},
   "source": [
    "<div class=\"alert alert-info\"><li><b>Inheritance</b></div>"
   ]
  },
  {
   "cell_type": "code",
   "execution_count": 61,
   "metadata": {},
   "outputs": [
    {
     "name": "stdout",
     "output_type": "stream",
     "text": [
      "Jon.gender: male\n",
      "Jon.eyes: 2\n",
      "Jon.nose: 1\n",
      "Jon.get_legs(): 2\n",
      "Jon.get_legs: <bound method Human.get_legs of <__main__.man object at 0x00000241302056A0>>\n",
      "Jon.get_ears: 2\n",
      "\n",
      "Jeny.gender: female\n",
      "Jeny.hands: 2\n"
     ]
    }
   ],
   "source": [
    "class Human(): # defining class Human\n",
    "    # attributes\n",
    "    legs=2\n",
    "    ears=2\n",
    "    hands=2\n",
    "    eyes=2\n",
    "    \n",
    "    # function (callable)\n",
    "    def get_legs(self): # self method is used to refer to the parameters of the instance of a class\n",
    "        return self.legs\n",
    "    @property\n",
    "    def get_ears(self): # property (not a function, hence not callable)\n",
    "        return self.ears\n",
    "    \n",
    "class man(Human): # defining class man, Human is inherited by defining inside parenthesis\n",
    "    gender='male'\n",
    "    \n",
    "class woman(Human): # defining class woman, Human is the parent class\n",
    "    gender='female'\n",
    "    \n",
    "Jon=man() # object created\n",
    "print(\"Jon.gender:\",Jon.gender)\n",
    "print(\"Jon.eyes:\",Jon.eyes)\n",
    "Jon.nose=1\n",
    "print(\"Jon.nose:\",Jon.nose)\n",
    "print(\"Jon.get_legs():\",Jon.get_legs()) # parenthesis is required when we are calling the function\n",
    "print(\"Jon.get_legs:\",Jon.get_legs) # parenthesis is omitted, bound method message appears depicting the function  \n",
    "print(\"Jon.get_ears:\",Jon.get_ears) # although parenthesis is omitted, bound method message would not appear as '@property' is defined above the method which makes it a property\n",
    "\n",
    "Jeny=woman()\n",
    "print(\"\\nJeny.gender:\",Jeny.gender)\n",
    "print(\"Jeny.hands:\",Jeny.hands)"
   ]
  },
  {
   "cell_type": "markdown",
   "metadata": {},
   "source": [
    "Example for Python in-built Decorator @property:\n",
    "https://www.journaldev.com/14893/python-property-decorator"
   ]
  },
  {
   "cell_type": "markdown",
   "metadata": {},
   "source": [
    "<div class=\"alert alert-info\">Special methods: <li><b>__init__</b><li><b>__str__</b><li><b>__name__</b></div>\n",
    "\n",
    "> Before executing code in a module (file), Python will define a few special variables\n",
    ">* If the Python interpreter is running the file as the main program, it sets the special __name__ variable to have a value \"__main__”\n",
    ">* If the file is being imported from another module, __name__ will be set to that module’s (file’s) name\n",
    "\n",
    "> To direct the Python interpreter when it first reads a file, add the following conditional (to the bottom) of our script:\n",
    ">\n",
    ">`if __name__ == \"__main__ ”:\n",
    ">      main()`\n",
    "> * This will run the main function, if the file is loaded as the main program"
   ]
  },
  {
   "cell_type": "code",
   "execution_count": 62,
   "metadata": {},
   "outputs": [
    {
     "name": "stdout",
     "output_type": "stream",
     "text": [
      "Name is:  James\n",
      "Age is:  24\n",
      "City is:  Dubai\n",
      "\n",
      "b.name: Jack\n",
      "c.city: Delhi\n",
      "d: | Jim | 21 | California |\n",
      "\n",
      "__main__\n"
     ]
    }
   ],
   "source": [
    "class Student():\n",
    "    def __init__(self,name, age, city): # __init__ is a special method used to create an instance\n",
    "        # Data Attributes for initializing objects\n",
    "        self.name=name;\n",
    "        self.age=age;\n",
    "        self.city=city;\n",
    "    def details(self):\n",
    "        print(\"Name is: \", self.name)\n",
    "        print(\"Age is: \",  self.age)\n",
    "        print(\"City is: \",self.city)\n",
    "    def __str__(self): # __str__ is a special method used to return a string representation of an object\n",
    "        return \"| %s | %s | %s |\" %(self.name,self.age,self.city)\n",
    "        \n",
    "a=Student(\"James\",24,\"Dubai\")\n",
    "b=Student(\"Jack\",23,\"New York\")\n",
    "c=Student(\"Julia\",24,\"Delhi\")\n",
    "d=Student(\"Jim\",21,\"California\")\n",
    "\n",
    "a.details()\n",
    "print(\"\\nb.name:\",b.name)\n",
    "print(\"c.city:\",c.city)\n",
    "print(\"d:\",d)\n",
    "\n",
    "# Special method __name__\n",
    "print()\n",
    "print(__name__) # Evaluates to '__main__' or the actual module name, depending on how the enclosing module is being used"
   ]
  },
  {
   "cell_type": "markdown",
   "metadata": {},
   "source": [
    "* More OOPS Examples: https://github.com/udacity/DSND_Term2/tree/master/lessons/ObjectOrientedProgramming/JupyterNotebooks\n",
    "\n",
    "#### Note: \n",
    "For public vs private methods, use an underscore _ before the method name to keep it non-public. For example:"
   ]
  },
  {
   "cell_type": "code",
   "execution_count": 63,
   "metadata": {},
   "outputs": [
    {
     "name": "stdout",
     "output_type": "stream",
     "text": [
      "Use Tab button to see public method!\n",
      "Private method is not visible while using the Tab button!\n",
      "\n",
      "Use Tab button to see public method!\n",
      "Use Tab button to see public method!\n",
      "Private method is not visible while using the Tab button!\n"
     ]
    }
   ],
   "source": [
    "class M(object):\n",
    "    \n",
    "    def abc(self): # abc is a public function\n",
    "        print('Use Tab button to see public method!')\n",
    "        \n",
    "    def _xyz(self): # xyz is a private function\n",
    "        print(\"Private method is not visible while using the Tab button!\")\n",
    "        \n",
    "m = M()\n",
    "m.abc()\n",
    "m._xyz()\n",
    "\n",
    "print()\n",
    "\n",
    "class N(M):\n",
    "    \n",
    "    def pqr(self): # pqr is a public function\n",
    "        print('Use Tab button to see public method!')\n",
    "\n",
    "n=N()\n",
    "n.abc()\n",
    "n.pqr()\n",
    "n._xyz()"
   ]
  },
  {
   "cell_type": "code",
   "execution_count": 64,
   "metadata": {},
   "outputs": [
    {
     "data": {
      "text/plain": [
       "['__class__',\n",
       " '__delattr__',\n",
       " '__dict__',\n",
       " '__dir__',\n",
       " '__doc__',\n",
       " '__eq__',\n",
       " '__format__',\n",
       " '__ge__',\n",
       " '__getattribute__',\n",
       " '__gt__',\n",
       " '__hash__',\n",
       " '__init__',\n",
       " '__init_subclass__',\n",
       " '__le__',\n",
       " '__lt__',\n",
       " '__module__',\n",
       " '__ne__',\n",
       " '__new__',\n",
       " '__reduce__',\n",
       " '__reduce_ex__',\n",
       " '__repr__',\n",
       " '__setattr__',\n",
       " '__sizeof__',\n",
       " '__str__',\n",
       " '__subclasshook__',\n",
       " '__weakref__',\n",
       " '_xyz',\n",
       " 'abc']"
      ]
     },
     "execution_count": 64,
     "metadata": {},
     "output_type": "execute_result"
    }
   ],
   "source": [
    "dir(M)"
   ]
  },
  {
   "cell_type": "markdown",
   "metadata": {},
   "source": [
    "<div class=\"alert alert-info\"><li>Defining <b>Histogram</b> using dictionary</div>"
   ]
  },
  {
   "cell_type": "code",
   "execution_count": 65,
   "metadata": {},
   "outputs": [
    {
     "name": "stdout",
     "output_type": "stream",
     "text": [
      "String: This is a sample text string\n",
      "\n",
      "Histogram h1: {'T': 1, 'h': 1, 'i': 3, 's': 4, ' ': 5, 'a': 2, 'm': 1, 'p': 1, 'l': 1, 'e': 2, 't': 3, 'x': 1, 'r': 1, 'n': 1, 'g': 1}\n",
      "No. of times 'i' present in h1: 3\n",
      "No. of times 's' present in h1: 4\n",
      "\n",
      "List: [0, 3, 4, 2, 7, 5, 8, 1, 2, 4, 2, 1, 4, 0, 9, 4, 6, 6, 1, 4, 4, 7, 6, 4, 1, 9, 8, 0, 5, 8, 1, 5, 5, 3, 9, 8, 2, 6, 9, 3, 1, 3, 3, 4, 9, 2, 1, 1, 1, 5, 1, 3, 8, 1, 6, 3, 9, 3, 4, 4, 3, 7, 7, 3, 7, 4, 1, 5, 8, 7, 3, 1, 1, 7, 1, 4, 0, 3, 9, 1, 3, 4, 0, 5, 6, 2, 3, 8, 6, 5, 7, 9, 3, 5, 6, 7, 0, 0, 3, 7]\n",
      "\n",
      "Histogram h2: {0: 7, 3: 16, 4: 13, 2: 6, 7: 10, 5: 9, 8: 7, 1: 16, 9: 8, 6: 8}\n",
      "No. of times '3' present in h2: 16\n",
      "No. of times '7' present in h2: 10\n"
     ]
    }
   ],
   "source": [
    "def histogram(x):\n",
    "    a=dict()\n",
    "    for i in x:\n",
    "        if i not in a:\n",
    "            a[i]=1\n",
    "        else:\n",
    "            a[i]+=1\n",
    "    return a\n",
    "\n",
    "# Example_1\n",
    "s='This is a sample text string'\n",
    "print(\"String:\",s)\n",
    "\n",
    "h1=histogram(s)\n",
    "print(\"\\nHistogram h1:\",h1)\n",
    "print(\"No. of times 'i' present in h1: %d\" %(h1.get('i'))) # fetching a particular frequency of an individual element using get()\n",
    "print(\"No. of times 's' present in h1: %d\" %(h1.get('s')))\n",
    "\n",
    "# Example_2\n",
    "import random as rd\n",
    "l=[]\n",
    "for i in range(100):\n",
    "    k=rd.randint(0,9)\n",
    "    l.append(k)\n",
    "print(\"\\nList:\",l)\n",
    "    \n",
    "h2=histogram(l)\n",
    "print(\"\\nHistogram h2:\",h2)\n",
    "print(\"No. of times '3' present in h2: %d\" %(h2.get(3)))\n",
    "print(\"No. of times '7' present in h2: %d\" %(h2.get(7)))"
   ]
  },
  {
   "cell_type": "markdown",
   "metadata": {},
   "source": [
    "### Lambda Statement"
   ]
  },
  {
   "cell_type": "code",
   "execution_count": 29,
   "metadata": {},
   "outputs": [
    {
     "name": "stdout",
     "output_type": "stream",
     "text": [
      "a:  [1, 2, 3, 4, 5]\n",
      "Result using function: 61.0\n",
      "Result using lambda expression: 61.0\n",
      "\n",
      "String: This is a sample text\n",
      "After split(): ['This', 'is', 'a', 'sample', 'text']\n",
      "Joining list by ' ' using join(): This is a sample text\n",
      "Joining list by ' | ' using join(): This | is | a | sample | text\n",
      "Joining list by ' ' using lambda expression: This is a sample text\n",
      "\n",
      "Calculating Sum using lambda function: 7\n"
     ]
    }
   ],
   "source": [
    "# Lambda functions are defined when the functions are used very less\n",
    "\n",
    "# Example 1\n",
    "a=[1,2,3,4,5]\n",
    "print(\"a: \",a)\n",
    "def expr(x): # some function for calculation\n",
    "    return ((x**x+x)/x)-x # some expression\n",
    "print(\"Result using function:\",expr(4))\n",
    "\n",
    "# the above function can be illustrated using lambda function\n",
    "a=lambda x:((x**x+x)/x)-x\n",
    "print(\"Result using lambda expression:\",a(4))\n",
    "\n",
    "# Example 2\n",
    "b=\"This is a sample text\"\n",
    "c=b.split()\n",
    "print(\"\\nString:\",b)\n",
    "print(\"After split():\",c)\n",
    "d=' ' # empty string with space\n",
    "print(\"Joining list by '%s' using join():\" %(d),d.join(c)) # join() is used to join a list of strings using the string d in between its elements (works opposite to the split())\n",
    "e=' | '\n",
    "print(\"Joining list by '%s' using join():\" %(e),e.join(c))\n",
    "\n",
    "# using lambda \n",
    "x=lambda a:' '.join(a)\n",
    "print(\"Joining list by ' ' using lambda expression:\",x(c))\n",
    "\n",
    "# Example 3\n",
    "s=lambda x,y:x+y\n",
    "print('\\nCalculating Sum using lambda function:',s(3,4))"
   ]
  },
  {
   "cell_type": "markdown",
   "metadata": {},
   "source": [
    "### pow()\n",
    "The function pow() takes two arguments, equivalent to x^y. With three arguments it is equivalent to (x^y)%z, but may be more efficient for long integers."
   ]
  },
  {
   "cell_type": "code",
   "execution_count": 43,
   "metadata": {},
   "outputs": [
    {
     "name": "stdout",
     "output_type": "stream",
     "text": [
      "2 ^ 5:  32\n",
      "2 ^ 5:  32\n",
      "(2 ^ 5) % 3:  2\n"
     ]
    }
   ],
   "source": [
    "print(\"2 ^ 5: \",2**5)\n",
    "print(\"2 ^ 5: \",pow(2,5))\n",
    "print(\"(2 ^ 5) % 3: \",pow(2,5,3))"
   ]
  },
  {
   "cell_type": "markdown",
   "metadata": {},
   "source": [
    "### abs()\n",
    "The function abs() returns the absolute value of a number. The argument may be an integer or a floating point number. If the argument is a complex number, its magnitude is returned."
   ]
  },
  {
   "cell_type": "code",
   "execution_count": 44,
   "metadata": {},
   "outputs": [
    {
     "name": "stdout",
     "output_type": "stream",
     "text": [
      "abs(2.39):  2.39\n",
      "abs(12+2j):  12.165525060596439\n"
     ]
    }
   ],
   "source": [
    "print(\"abs(2.39): \",abs(2.39))\n",
    "print(\"abs(12+2j): \",abs(12+2j))"
   ]
  },
  {
   "cell_type": "markdown",
   "metadata": {},
   "source": [
    "### round()\n",
    "The function round() will round a number to a given precision in decimal digits (default 0 digits). It does not convert integers to floats."
   ]
  },
  {
   "cell_type": "code",
   "execution_count": 55,
   "metadata": {},
   "outputs": [
    {
     "name": "stdout",
     "output_type": "stream",
     "text": [
      "round(3.14):  3\n",
      "round(3.14,1):  3.1\n",
      "round(314,-2):  300\n",
      "round(2379,-2):  2400\n"
     ]
    }
   ],
   "source": [
    "print(\"round(3.14): \",round(3.14))\n",
    "print(\"round(3.14,1): \",round(3.14,1))\n",
    "print(\"round(314,-2): \",round(314,-2))\n",
    "print(\"round(2379,-2): \",round(2379,-2))"
   ]
  },
  {
   "cell_type": "markdown",
   "metadata": {},
   "source": [
    "### divmod()\n",
    "divmod() takes two arguments and returns a tuple of two values, quotient and remainder  "
   ]
  },
  {
   "cell_type": "code",
   "execution_count": 108,
   "metadata": {},
   "outputs": [
    {
     "name": "stdout",
     "output_type": "stream",
     "text": [
      "a: 5\n",
      "b: 2\n",
      "a//b: 2\n",
      "a%b: 1\n",
      "\n",
      "Quotient using divmod(): 2\n",
      "Remainder using divmod(): 1\n"
     ]
    }
   ],
   "source": [
    "a=5\n",
    "b=2\n",
    "print(\"a:\",a)\n",
    "print(\"b:\",b)\n",
    "print(\"a//b:\",a//b) # Quotient\n",
    "print(\"a%b:\",a%b) # Remainder\n",
    "\n",
    "quot, rem= divmod(a,b)\n",
    "print(\"\\nQuotient using divmod():\",quot)\n",
    "print(\"Remainder using divmod():\",rem)"
   ]
  },
  {
   "cell_type": "markdown",
   "metadata": {},
   "source": [
    "### zip()"
   ]
  },
  {
   "cell_type": "code",
   "execution_count": 112,
   "metadata": {},
   "outputs": [
    {
     "name": "stdout",
     "output_type": "stream",
     "text": [
      "x:  [('H', '1'), ('e', '2'), ('l', '3'), ('l', '4'), ('o', '5')]\n",
      "Type:  <class 'zip'>\n",
      "\n",
      "y:  [(1, 'abc'), (2, 'pqr'), (3, 'xyz')]\n",
      "\n",
      "After unzip, \n",
      "a: (1, 2, 3) \n",
      "b: ('abc', 'pqr', 'xyz')\n",
      "\n",
      "Using zip() on dictionaries:\n",
      "d1: {'a': 1, 'b': 2}\n",
      "d2: {'c': 4, 'd': 5}\n",
      "list(zip(d1,d2)): [('a', 'c'), ('b', 'd')]\n",
      "list(zip(d2,d1.values())): [('c', 1), ('d', 2)]\n",
      "\n",
      "Concatenating strings with connector using zip(): ['A-a', 'B-b']\n"
     ]
    }
   ],
   "source": [
    "# zip() contains one element from each sequence\n",
    "x=zip(\"Hello\", \"12345\")\n",
    "print(\"x: \",list(x)) # result is changed into list\n",
    "print(\"Type: \",type(x)) # zip is a class\n",
    "\n",
    "y=list(zip([1,2,3,4],('abc','pqr','xyz')))\n",
    "print(\"\\ny: \",y) # contains three elements (shorter length is considered)\n",
    "\n",
    "# in order to get back the lists, we can unzip the list of tuples using the asterisk\n",
    "a,b=zip(*y)\n",
    "print(\"\\nAfter unzip, \\na: {} \\nb: {}\" .format(a,b))\n",
    "\n",
    "# zip() in dictionaries\n",
    "print(f\"\\nUsing zip() on dictionaries:\")\n",
    "\n",
    "d1 = {'a':1,'b':2}\n",
    "print(f\"d1: {d1}\")\n",
    "d2 = {'c':4,'d':5}\n",
    "print(f\"d2: {d2}\")\n",
    "\n",
    "print(f\"list(zip(d1,d2)): {list(zip(d1,d2))}\")\n",
    "print(f\"list(zip(d2,d1.values())): {list(zip(d2,d1.values()))}\")\n",
    "\n",
    "# Example: two strings from L1 and L2 concatenated together with a connector between them\n",
    "def concatenate(L1, L2, connector):\n",
    "    return [word1+connector+word2 for (word1,word2) in zip(L1,L2)]\n",
    "print(\"\\nConcatenating strings with connector using zip():\",concatenate(['A','B'],['a','b'],'-'))\n"
   ]
  },
  {
   "cell_type": "code",
   "execution_count": 5,
   "metadata": {},
   "outputs": [
    {
     "data": {
      "text/plain": [
       "[[1, 4, 7], [2, 5, 8], [3, 6, 9]]"
      ]
     },
     "execution_count": 5,
     "metadata": {},
     "output_type": "execute_result"
    }
   ],
   "source": [
    "# Transpose of a matrix\n",
    "\n",
    "a=[[1,2,3],\n",
    "   [4,5,6],\n",
    "   [7,8,9]] \n",
    "transpose = [list(i) for i in zip(*a)] \n",
    "transpose"
   ]
  },
  {
   "cell_type": "markdown",
   "metadata": {},
   "source": [
    "### map()\n",
    "map() is used to apply the function on the specified sequence"
   ]
  },
  {
   "cell_type": "code",
   "execution_count": 96,
   "metadata": {},
   "outputs": [
    {
     "name": "stdout",
     "output_type": "stream",
     "text": [
      "List: [1, 2, 3, 4, 5, 6, 7, 8, 9]\n",
      "\n",
      "Function is applied to all the elements of list using map(): [3, 4, 5, 6, 7, 8, 9, 10, 11]\n",
      "Lambda expression is applied to all the elements of list using map(): [3, 4, 5, 6, 7, 8, 9, 10, 11]\n",
      "\n",
      "Map() with multiple iterables: [15, 18, 21, 24]\n",
      "\n",
      "Phrase:  This is a testing phrase\n",
      "Words Length:  [4, 2, 1, 7, 6]\n"
     ]
    }
   ],
   "source": [
    "a=[1,2,3,4,5,6,7,8,9]\n",
    "print(\"List:\",a)\n",
    "\n",
    "def add_two(x): # function that adds 2 to each element \n",
    "    x=x+2\n",
    "    return x\n",
    "print(\"\\nFunction is applied to all the elements of list using map():\",list(map(add_two,a))) \n",
    "\n",
    "# lambda function is mostly integrated in these cases in order to reduce the complexity of the program \n",
    "c=list(map(lambda x:x+2, a))\n",
    "print(\"Lambda expression is applied to all the elements of list using map():\",c)\n",
    "\n",
    "a = [1,2,3,4]\n",
    "b = [5,6,7,8]\n",
    "c = [9,10,11,12]\n",
    "print(f\"\\nMap() with multiple iterables: {list(map(lambda x,y,z:x+y+z,a,b,c))}\")\n",
    "\n",
    "# map() for finding the length of each word in the phrase (broken by spaces) and return the values in a list\n",
    "def word_lengths(phrase):\n",
    "    return list(map(len, phrase.split()))\n",
    "phrase=\"This is a testing phrase\"\n",
    "print(\"\\nPhrase: \",phrase)\n",
    "print(\"Words Length: \",word_lengths(phrase))"
   ]
  },
  {
   "cell_type": "markdown",
   "metadata": {},
   "source": [
    "### filter()\n",
    "filter() is used to filter the elements by applying the function on the particular sequence\n"
   ]
  },
  {
   "cell_type": "code",
   "execution_count": 107,
   "metadata": {},
   "outputs": [
    {
     "name": "stdout",
     "output_type": "stream",
     "text": [
      "a: [1, 2, 3, 4, 5, 6, 7, 8, 9]\n",
      "Filter elements in list using filter(): [3, 6, 9]\n",
      "\n",
      "Words: ['hello', 'are', 'cat', 'dog', 'ham', 'hi', 'go', 'to', 'heart']\n",
      "Filtering Words starting with 'h' from the list: ['hello', 'ham', 'hi', 'heart']\n"
     ]
    }
   ],
   "source": [
    "a=[1,2,3,4,5,6,7,8,9]\n",
    "print(\"a:\",a)\n",
    "\n",
    "def div_3(x):\n",
    "    if(x%3==0):\n",
    "        return x\n",
    "print(\"Filter elements in list using filter():\",list(filter(div_3,a))) \n",
    "\n",
    "def filter_words(word_list, letter):\n",
    "    return list(filter(lambda word:word[0]==letter,word_list))\n",
    "\n",
    "words = ['hello','are','cat','dog','ham','hi','go','to','heart']\n",
    "print(\"\\nWords:\",words)\n",
    "print(\"Filtering Words starting with 'h' from the list:\",filter_words(words,'h'))\n"
   ]
  },
  {
   "cell_type": "markdown",
   "metadata": {},
   "source": [
    "### reduce()\n",
    "\n",
    "The function reduce(function, sequence) continually applies the function to the sequence. It then returns a single value. If seq = [ s1, s2, s3, ... , sn ], calling reduce(function, sequence) works like this:\n",
    "\n",
    "* At first the first two elements of seq will be applied to function, i.e. func(s1,s2). The list on which reduce() works looks now like this: [ function(s1, s2), s3, ... , sn ]\n",
    "* In the next step the function will be applied on the previous result and the third element of the list, i.e. function(function(s1, s2),s3). The list looks like this now: [ function(function(s1, s2),s3), ... , sn ]\n",
    "* It continues like this until just one element is left and return this element as the result of reduce()"
   ]
  },
  {
   "cell_type": "code",
   "execution_count": 93,
   "metadata": {},
   "outputs": [
    {
     "name": "stdout",
     "output_type": "stream",
     "text": [
      "Sum of all elements using reduce():  173\n",
      "\n",
      "myfunc() result using reduce():  65\n",
      "\n",
      "digits_to_num() result: 34321\n"
     ]
    }
   ],
   "source": [
    "from functools import reduce\n",
    "\n",
    "arr = [77,41,42,13]\n",
    "print(\"Sum of all elements using reduce(): \",reduce(lambda x,y: x+y,arr)) # similar to sum()\n",
    "\n",
    "# Example: Get Difference of two elements if the first element is bigger, else add two elements\n",
    "def myfunc(a,b):\n",
    "    return a-b if (a > b) else a+b\n",
    "print(\"\\nmyfunc() result using reduce(): \",reduce(myfunc, arr))\n",
    "\n",
    "# Example: Converting a list of digits into number\n",
    "def digits_to_num(digits):\n",
    "    return reduce(lambda x,y:x*10 + y,digits)\n",
    "print(\"\\ndigits_to_num() result:\",digits_to_num([3,4,3,2,1]))"
   ]
  },
  {
   "cell_type": "markdown",
   "metadata": {},
   "source": [
    "### Reading and Writing files "
   ]
  },
  {
   "cell_type": "markdown",
   "metadata": {},
   "source": [
    "<div class=\"alert alert-info\"><li>write() method is used to write<li>read() method reads from the current position until the end of the file<li>readLines() method is for reading all text on file and return a list of lines<li>readline() method reads a single line from the current position</div>"
   ]
  },
  {
   "cell_type": "code",
   "execution_count": 68,
   "metadata": {},
   "outputs": [
    {
     "name": "stdout",
     "output_type": "stream",
     "text": [
      "Writing and Reading text files using write() and read():\n",
      " This is a sample test line\n",
      "This is a next line. Continuing last line. \n",
      "\n",
      "Appending text in an existing file using readlines():\n",
      " ['This is a sample test line\\n', 'This is a next line. Continuing last line. This is the appended text.'] \n",
      "\n",
      "Copying from one file into another file:\n",
      " This is a sample test line\n",
      "\n",
      "Reading partial characters: This is a next line. Co\n",
      "Moving pointer in the file: 75\n",
      "Reading Line:  is the appended text.\n",
      "\n",
      "Name of the file: Test2.txt\n",
      "Mode of the file: r\n"
     ]
    }
   ],
   "source": [
    "# Creating file Test1.txt\n",
    "with open('Test1.txt','w') as wf: # w represents writing mode, wf is the alias name \n",
    "    wf.write(\"This is a sample test line\") # write() is used to write text on file\n",
    "    wf.write(\"\\nThis is a next line. \")\n",
    "    wf.write(\"Continuing last line.\")\n",
    "    \n",
    "with open('Test1.txt','r') as twf: # r represents reading mode\n",
    "    print('Writing and Reading text files using write() and read():\\n',twf.read(),'\\n') # read() is used to read text on file\n",
    "\n",
    "with open('Test1.txt','a') as twf: # a represents appending in the existing file\n",
    "    twf.write(\" This is the appended text.\")\n",
    "    \n",
    "with open('Test1.txt','r') as twf: \n",
    "    print(\"Appending text in an existing file using readlines():\\n\",twf.readlines(),'\\n') # readlines() is used to read text on file and returns a list of lines\n",
    "    \n",
    "# copying from one file into another    \n",
    "with open('Test1.txt','r') as rf:\n",
    "    with open('Test2.txt','w') as wf:\n",
    "          for line in rf:\n",
    "                wf.write(line)\n",
    "                \n",
    "with open('Test2.txt','r') as twf: \n",
    "    print(\"Copying from one file into another file:\\n\",twf.readline()) #  readline() is used to read the first line\n",
    "    print(\"Reading partial characters:\",twf.read(23)) # reading next 23 characters from the last reading position\n",
    "    print(\"Moving pointer in the file:\",twf.seek(75))\n",
    "    print(\"Reading Line:\",twf.read())\n",
    "\n",
    "print(\"\\nName of the file:\",twf.name) # fetching the name of file\n",
    "print(\"Mode of the file:\",twf.mode) # fetching the mode of file\n",
    "twf.close() # closing file"
   ]
  },
  {
   "cell_type": "markdown",
   "metadata": {},
   "source": [
    "### Error handling"
   ]
  },
  {
   "cell_type": "markdown",
   "metadata": {},
   "source": [
    "<div class=\"alert alert-info\"><li>Raise an exception to interrupt program flow<li>Handle an exception to resume control<li>Unhandled exceptions will terminate the program<li>Exception objects contain information about the exceptional event<li>Illustration of <i>try</i> and <i>except</i> blocks<li><i>Finally</i> block always executes in the end</div>"
   ]
  },
  {
   "cell_type": "code",
   "execution_count": 69,
   "metadata": {},
   "outputs": [
    {
     "name": "stdout",
     "output_type": "stream",
     "text": [
      "Error! Division by Zero is not possible\n",
      "Error! Text cannot be converted into Float datatype\n",
      "Error! String and Integer cannot be added\n"
     ]
    }
   ],
   "source": [
    "# Errors are catched using try & except blocks\n",
    "\n",
    "# Scenario 1:\n",
    "try:\n",
    "    b=34/0\n",
    "except:\n",
    "    print('Error! Division by Zero is not possible')\n",
    "    \n",
    "# Scenario 2:\n",
    "try:\n",
    "    float(\"Text\")\n",
    "except:\n",
    "    print('Error! Text cannot be converted into Float datatype')\n",
    "\n",
    "# Scenario 3:\n",
    "try:\n",
    "    'Text'+32\n",
    "except:\n",
    "    print('Error! String and Integer cannot be added')"
   ]
  },
  {
   "cell_type": "markdown",
   "metadata": {},
   "source": [
    "### Built-in Exceptions\n",
    "\n",
    "\n",
    "<table>\n",
    "    <tr>\n",
    "        <th>Exception</th>\n",
    "        <th>Explanation</th>\n",
    "    </tr>\n",
    "    <tr>\n",
    "        <td>KeyboardInterrupt</td>\n",
    "        <td>Raised when user hits Ctrl-C, the interrupt key</td>\n",
    "    </tr>\n",
    "    <tr>\n",
    "        <td>OverflowError</td>\n",
    "        <td>Raised when a floating-point expression evaluates to a value that is too large</td>\n",
    "    </tr>\n",
    "    <tr>\n",
    "        <td>ZeroDivisionError</td>\n",
    "        <td>Raised when attempting to divide by 0</td>\n",
    "    </tr>\n",
    "    <tr>\n",
    "        <td>IOError</td>\n",
    "        <td>Raised when an I/O operation fails for an I/O-related reason</td>\n",
    "    </tr>\n",
    "    <tr>\n",
    "        <td>IndexError</td>\n",
    "        <td>Raised when a sequence index is outside the range of valid indexes</td>\n",
    "    </tr>\n",
    "    <tr>\n",
    "        <td>NameError</td>\n",
    "        <td>Raised when attempting to evaluate an unassigned identifier (name)</td>\n",
    "    </tr>\n",
    "    <tr>\n",
    "        <td>TypeError</td>\n",
    "        <td>Raised when an operation of function is applied to an object of the wrong type</td>\n",
    "    </tr>\n",
    "    <tr>\n",
    "        <td>ValueError</td>\n",
    "        <td>Raised when operation or function has an argument of the right type but incorrect value</td>\n",
    "    </tr>\n",
    "    <tr>\n",
    "        <td>KeyError</td>\n",
    "        <td>Raised when lookup in a mapping fails</td>\n",
    "    </tr>\n",
    "</table>"
   ]
  },
  {
   "cell_type": "code",
   "execution_count": 70,
   "metadata": {},
   "outputs": [
    {
     "name": "stdout",
     "output_type": "stream",
     "text": [
      "Successful !!\n"
     ]
    },
    {
     "data": {
      "text/plain": [
       "34"
      ]
     },
     "execution_count": 70,
     "metadata": {},
     "output_type": "execute_result"
    }
   ],
   "source": [
    "def convert(s):\n",
    "    '''Convert to an integer'''\n",
    "    error=0\n",
    "    try:\n",
    "        return int(s)\n",
    "        print(\"Conversion Succeeded, x={}\".format(x))\n",
    "    except (ValueError, TypeError) as e:\n",
    "        print('Conversion Failed: {}'.format(str(e)))\n",
    "        error=1\n",
    "        raise # Exceptional conditions can be signaled using raise, without an argument it re-raises the current exception\n",
    "    finally:\n",
    "        if error==0:\n",
    "            print('Successful !!')\n",
    "        elif error==1:\n",
    "            print('Error is due to the wrong input: {}'.format(s))\n",
    "convert(34)"
   ]
  },
  {
   "cell_type": "code",
   "execution_count": 71,
   "metadata": {},
   "outputs": [
    {
     "name": "stdout",
     "output_type": "stream",
     "text": [
      "Conversion Failed: invalid literal for int() with base 10: 'Thirty'\n",
      "Error is due to the wrong input: Thirty\n"
     ]
    },
    {
     "ename": "ValueError",
     "evalue": "invalid literal for int() with base 10: 'Thirty'",
     "output_type": "error",
     "traceback": [
      "\u001b[1;31m---------------------------------------------------------------------------\u001b[0m",
      "\u001b[1;31mValueError\u001b[0m                                Traceback (most recent call last)",
      "\u001b[1;32m<ipython-input-71-34d732abac05>\u001b[0m in \u001b[0;36m<module>\u001b[1;34m\u001b[0m\n\u001b[1;32m----> 1\u001b[1;33m \u001b[0mconvert\u001b[0m\u001b[1;33m(\u001b[0m\u001b[1;34m\"Thirty\"\u001b[0m\u001b[1;33m)\u001b[0m \u001b[1;31m# Throws ValueError\u001b[0m\u001b[1;33m\u001b[0m\u001b[1;33m\u001b[0m\u001b[0m\n\u001b[0m",
      "\u001b[1;32m<ipython-input-70-0a346d8502c3>\u001b[0m in \u001b[0;36mconvert\u001b[1;34m(s)\u001b[0m\n\u001b[0;32m      3\u001b[0m     \u001b[0merror\u001b[0m\u001b[1;33m=\u001b[0m\u001b[1;36m0\u001b[0m\u001b[1;33m\u001b[0m\u001b[1;33m\u001b[0m\u001b[0m\n\u001b[0;32m      4\u001b[0m     \u001b[1;32mtry\u001b[0m\u001b[1;33m:\u001b[0m\u001b[1;33m\u001b[0m\u001b[1;33m\u001b[0m\u001b[0m\n\u001b[1;32m----> 5\u001b[1;33m         \u001b[1;32mreturn\u001b[0m \u001b[0mint\u001b[0m\u001b[1;33m(\u001b[0m\u001b[0ms\u001b[0m\u001b[1;33m)\u001b[0m\u001b[1;33m\u001b[0m\u001b[1;33m\u001b[0m\u001b[0m\n\u001b[0m\u001b[0;32m      6\u001b[0m         \u001b[0mprint\u001b[0m\u001b[1;33m(\u001b[0m\u001b[1;34m\"Conversion Succeeded, x={}\"\u001b[0m\u001b[1;33m.\u001b[0m\u001b[0mformat\u001b[0m\u001b[1;33m(\u001b[0m\u001b[0mx\u001b[0m\u001b[1;33m)\u001b[0m\u001b[1;33m)\u001b[0m\u001b[1;33m\u001b[0m\u001b[1;33m\u001b[0m\u001b[0m\n\u001b[0;32m      7\u001b[0m     \u001b[1;32mexcept\u001b[0m \u001b[1;33m(\u001b[0m\u001b[0mValueError\u001b[0m\u001b[1;33m,\u001b[0m \u001b[0mTypeError\u001b[0m\u001b[1;33m)\u001b[0m \u001b[1;32mas\u001b[0m \u001b[0me\u001b[0m\u001b[1;33m:\u001b[0m\u001b[1;33m\u001b[0m\u001b[1;33m\u001b[0m\u001b[0m\n",
      "\u001b[1;31mValueError\u001b[0m: invalid literal for int() with base 10: 'Thirty'"
     ]
    }
   ],
   "source": [
    "convert(\"Thirty\") # Throws ValueError"
   ]
  },
  {
   "cell_type": "code",
   "execution_count": 72,
   "metadata": {},
   "outputs": [
    {
     "name": "stdout",
     "output_type": "stream",
     "text": [
      "Conversion Failed: int() argument must be a string, a bytes-like object or a number, not 'list'\n",
      "Error is due to the wrong input: [34, 45]\n"
     ]
    },
    {
     "ename": "TypeError",
     "evalue": "int() argument must be a string, a bytes-like object or a number, not 'list'",
     "output_type": "error",
     "traceback": [
      "\u001b[1;31m---------------------------------------------------------------------------\u001b[0m",
      "\u001b[1;31mTypeError\u001b[0m                                 Traceback (most recent call last)",
      "\u001b[1;32m<ipython-input-72-0fad04c88bd1>\u001b[0m in \u001b[0;36m<module>\u001b[1;34m\u001b[0m\n\u001b[1;32m----> 1\u001b[1;33m \u001b[0mconvert\u001b[0m\u001b[1;33m(\u001b[0m\u001b[1;33m[\u001b[0m\u001b[1;36m34\u001b[0m\u001b[1;33m,\u001b[0m\u001b[1;36m45\u001b[0m\u001b[1;33m]\u001b[0m\u001b[1;33m)\u001b[0m \u001b[1;31m# Throws TypeError\u001b[0m\u001b[1;33m\u001b[0m\u001b[1;33m\u001b[0m\u001b[0m\n\u001b[0m",
      "\u001b[1;32m<ipython-input-70-0a346d8502c3>\u001b[0m in \u001b[0;36mconvert\u001b[1;34m(s)\u001b[0m\n\u001b[0;32m      3\u001b[0m     \u001b[0merror\u001b[0m\u001b[1;33m=\u001b[0m\u001b[1;36m0\u001b[0m\u001b[1;33m\u001b[0m\u001b[1;33m\u001b[0m\u001b[0m\n\u001b[0;32m      4\u001b[0m     \u001b[1;32mtry\u001b[0m\u001b[1;33m:\u001b[0m\u001b[1;33m\u001b[0m\u001b[1;33m\u001b[0m\u001b[0m\n\u001b[1;32m----> 5\u001b[1;33m         \u001b[1;32mreturn\u001b[0m \u001b[0mint\u001b[0m\u001b[1;33m(\u001b[0m\u001b[0ms\u001b[0m\u001b[1;33m)\u001b[0m\u001b[1;33m\u001b[0m\u001b[1;33m\u001b[0m\u001b[0m\n\u001b[0m\u001b[0;32m      6\u001b[0m         \u001b[0mprint\u001b[0m\u001b[1;33m(\u001b[0m\u001b[1;34m\"Conversion Succeeded, x={}\"\u001b[0m\u001b[1;33m.\u001b[0m\u001b[0mformat\u001b[0m\u001b[1;33m(\u001b[0m\u001b[0mx\u001b[0m\u001b[1;33m)\u001b[0m\u001b[1;33m)\u001b[0m\u001b[1;33m\u001b[0m\u001b[1;33m\u001b[0m\u001b[0m\n\u001b[0;32m      7\u001b[0m     \u001b[1;32mexcept\u001b[0m \u001b[1;33m(\u001b[0m\u001b[0mValueError\u001b[0m\u001b[1;33m,\u001b[0m \u001b[0mTypeError\u001b[0m\u001b[1;33m)\u001b[0m \u001b[1;32mas\u001b[0m \u001b[0me\u001b[0m\u001b[1;33m:\u001b[0m\u001b[1;33m\u001b[0m\u001b[1;33m\u001b[0m\u001b[0m\n",
      "\u001b[1;31mTypeError\u001b[0m: int() argument must be a string, a bytes-like object or a number, not 'list'"
     ]
    }
   ],
   "source": [
    "convert([34,45]) # Throws TypeError"
   ]
  },
  {
   "cell_type": "markdown",
   "metadata": {},
   "source": [
    "### Iterator\n",
    "* Iterable objects can be passed to the built-in iter() to get an iterator.\n",
    "* Iterator objects can be passed to the built-in next() to fetch the next item."
   ]
  },
  {
   "cell_type": "code",
   "execution_count": null,
   "metadata": {},
   "outputs": [],
   "source": [
    "iterable=['Cow','Hen','Dog','Cat']\n",
    "iterator=iter(iterable)\n",
    "print('Iterable List: ',iterable)\n",
    "print('Iterator:',iterator) # object\n",
    "print()\n",
    "while 1:\n",
    "    try:\n",
    "        print(next(iterator))\n",
    "    except StopIteration as e:\n",
    "        break"
   ]
  },
  {
   "cell_type": "markdown",
   "metadata": {},
   "source": [
    "### Generators\n",
    "* **specify iterable sequences:** all generators are iterators\n",
    "* **are lazily evaluated:** the next value in the sequence is computed on demand\n",
    "* **can model infinite sequences:** such as data streams with no definite end\n",
    "* **are composable into pipelines:** for natural stream processing\n",
    "* Generators adapt the Just in Time Computations.\n",
    "* Generator functions contains atleast one use of the **yield** keyword.\n",
    "* Each call to a generator function creates a new generator object.\n",
    "* These are generally used for infinite (or large) sequences, sensor readings, mathematical series, massive files, etc"
   ]
  },
  {
   "cell_type": "code",
   "execution_count": null,
   "metadata": {},
   "outputs": [],
   "source": [
    "def testgen():\n",
    "    yield 1\n",
    "    yield 2\n",
    "    yield 3\n",
    "    \n",
    "g=testgen()\n",
    "print('Generator:',g) # object\n",
    "print()\n",
    "print(next(g)) # works similar to iterator\n",
    "for each in g: # printing remaining elements\n",
    "    print(each)"
   ]
  },
  {
   "cell_type": "code",
   "execution_count": null,
   "metadata": {},
   "outputs": [],
   "source": [
    "# Generator Execution\n",
    "\n",
    "def take(count,iterable):\n",
    "    ''' Takes item from the front of an iterable\n",
    "    \n",
    "    Args:\n",
    "        count: The maxximum number of items to retrieve\n",
    "        iterable: The source series\n",
    "        \n",
    "    Yields:\n",
    "        At most 'count' items from an 'iterable'\n",
    "    '''\n",
    "    counter=0\n",
    "    for item in iterable:\n",
    "        if counter==count:\n",
    "            return\n",
    "        counter+=1\n",
    "        yield item\n",
    "\n",
    "def distinct(iterable):\n",
    "    ''' Return unique items by eliminating duplicates\n",
    "    \n",
    "    Args:\n",
    "        iterable: The source series\n",
    "    \n",
    "    Yields:\n",
    "        Unique elements in order from 'iterable'\n",
    "    '''\n",
    "    seen=set()\n",
    "    for item in iterable:\n",
    "        if item in seen:\n",
    "            continue\n",
    "        yield item\n",
    "        seen.add(item)\n",
    "    \n",
    "def run_pipeline():\n",
    "    items=[3,1,4,1,1,2,5,1,3,6,1,6,1,7,3,1,3,2,4]\n",
    "    return [item for item in take(5,distinct(items))]\n",
    "\n",
    "run_pipeline()"
   ]
  },
  {
   "cell_type": "code",
   "execution_count": 73,
   "metadata": {},
   "outputs": [
    {
     "name": "stdout",
     "output_type": "stream",
     "text": [
      "Model: <generator object <genexpr> at 0x00000241301692A0>\n",
      "Sum of model: 333332833333500000\n"
     ]
    }
   ],
   "source": [
    "# Defining model specifications\n",
    "\n",
    "squares=(x*x for x in range(1,int(10e5)))\n",
    "print('Model:',squares) # returns generator object, saves memory by just defining and not running it\n",
    "print('Sum of model:',sum(squares))"
   ]
  },
  {
   "cell_type": "code",
   "execution_count": 74,
   "metadata": {},
   "outputs": [
    {
     "name": "stdout",
     "output_type": "stream",
     "text": [
      "Chain Object: <itertools.chain object at 0x0000024130205278>\n"
     ]
    },
    {
     "data": {
      "text/plain": [
       "[1, 2, 3, 4, 5, 6]"
      ]
     },
     "execution_count": 74,
     "metadata": {},
     "output_type": "execute_result"
    }
   ],
   "source": [
    "a=[1,2,3]\n",
    "b=[4,5,6]\n",
    "from itertools import chain\n",
    "c=chain(a,b) # joining two lists\n",
    "print('Chain Object:',c) # object\n",
    "list(c)"
   ]
  },
  {
   "cell_type": "markdown",
   "metadata": {},
   "source": [
    "### All / Any\n",
    "* **all** returns True if all values are True, else returns False\n",
    "* **any** returns True if any value is True, else returns False"
   ]
  },
  {
   "cell_type": "code",
   "execution_count": 75,
   "metadata": {},
   "outputs": [
    {
     "name": "stdout",
     "output_type": "stream",
     "text": [
      "all([True,False,False]): False\n",
      "any([True,False,False]): True\n"
     ]
    }
   ],
   "source": [
    "print('all([True,False,False]):',all([True,False,False]))\n",
    "print('any([True,False,False]):',any([True,False,False]))"
   ]
  },
  {
   "cell_type": "markdown",
   "metadata": {},
   "source": [
    "### Python DeBugger (PDB)\n",
    "PDB is a standard command-line debugger to find errors in our code. It includes features to let us pause our program, look at the values of variables, and watch program execution step-by-step, so we can understand what our program actually does and find bugs in the logic.\n",
    "* PDB's **where** command shows the current call stack\n",
    "* PDB's **next** command lets execution continue to the next line of code\n",
    "* PDB's **continue** command lets program execution continue indefinitely, or until it is stopped with control-c\n",
    "* PDB's **list** command shows the source code at the current location\n",
    "* PDB's **return** command resumes execution until the end of the current execution"
   ]
  },
  {
   "cell_type": "code",
   "execution_count": 82,
   "metadata": {},
   "outputs": [
    {
     "name": "stdout",
     "output_type": "stream",
     "text": [
      "13\n",
      "--Return--\n",
      "> <ipython-input-82-9cfd62d41a4c>(12)<module>()->None\n",
      "-> pdb.set_trace()\n",
      "(Pdb) y\n",
      "6\n",
      "(Pdb) x\n",
      "[3, 1, 2]\n",
      "(Pdb) x[0]+y\n",
      "9\n",
      "(Pdb) q\n"
     ]
    },
    {
     "ename": "BdbQuit",
     "evalue": "",
     "output_type": "error",
     "traceback": [
      "\u001b[1;31m---------------------------------------------------------------------------\u001b[0m",
      "\u001b[1;31mBdbQuit\u001b[0m                                   Traceback (most recent call last)",
      "\u001b[1;32m<ipython-input-82-9cfd62d41a4c>\u001b[0m in \u001b[0;36m<module>\u001b[1;34m\u001b[0m\n\u001b[0;32m     10\u001b[0m \u001b[1;33m\u001b[0m\u001b[0m\n\u001b[0;32m     11\u001b[0m \u001b[1;31m# Set a trace using Python Debugger\u001b[0m\u001b[1;33m\u001b[0m\u001b[1;33m\u001b[0m\u001b[1;33m\u001b[0m\u001b[0m\n\u001b[1;32m---> 12\u001b[1;33m \u001b[0mpdb\u001b[0m\u001b[1;33m.\u001b[0m\u001b[0mset_trace\u001b[0m\u001b[1;33m(\u001b[0m\u001b[1;33m)\u001b[0m\u001b[1;33m\u001b[0m\u001b[1;33m\u001b[0m\u001b[0m\n\u001b[0m\u001b[0;32m     13\u001b[0m \u001b[1;33m\u001b[0m\u001b[0m\n\u001b[0;32m     14\u001b[0m \u001b[0mresult2\u001b[0m \u001b[1;33m=\u001b[0m \u001b[0my\u001b[0m\u001b[1;33m+\u001b[0m\u001b[0mx\u001b[0m \u001b[1;31m# Error Here\u001b[0m\u001b[1;33m\u001b[0m\u001b[1;33m\u001b[0m\u001b[0m\n",
      "\u001b[1;32mc:\\users\\shaur\\appdata\\local\\programs\\python\\python37\\lib\\bdb.py\u001b[0m in \u001b[0;36mtrace_dispatch\u001b[1;34m(self, frame, event, arg)\u001b[0m\n\u001b[0;32m     90\u001b[0m             \u001b[1;32mreturn\u001b[0m \u001b[0mself\u001b[0m\u001b[1;33m.\u001b[0m\u001b[0mdispatch_call\u001b[0m\u001b[1;33m(\u001b[0m\u001b[0mframe\u001b[0m\u001b[1;33m,\u001b[0m \u001b[0marg\u001b[0m\u001b[1;33m)\u001b[0m\u001b[1;33m\u001b[0m\u001b[1;33m\u001b[0m\u001b[0m\n\u001b[0;32m     91\u001b[0m         \u001b[1;32mif\u001b[0m \u001b[0mevent\u001b[0m \u001b[1;33m==\u001b[0m \u001b[1;34m'return'\u001b[0m\u001b[1;33m:\u001b[0m\u001b[1;33m\u001b[0m\u001b[1;33m\u001b[0m\u001b[0m\n\u001b[1;32m---> 92\u001b[1;33m             \u001b[1;32mreturn\u001b[0m \u001b[0mself\u001b[0m\u001b[1;33m.\u001b[0m\u001b[0mdispatch_return\u001b[0m\u001b[1;33m(\u001b[0m\u001b[0mframe\u001b[0m\u001b[1;33m,\u001b[0m \u001b[0marg\u001b[0m\u001b[1;33m)\u001b[0m\u001b[1;33m\u001b[0m\u001b[1;33m\u001b[0m\u001b[0m\n\u001b[0m\u001b[0;32m     93\u001b[0m         \u001b[1;32mif\u001b[0m \u001b[0mevent\u001b[0m \u001b[1;33m==\u001b[0m \u001b[1;34m'exception'\u001b[0m\u001b[1;33m:\u001b[0m\u001b[1;33m\u001b[0m\u001b[1;33m\u001b[0m\u001b[0m\n\u001b[0;32m     94\u001b[0m             \u001b[1;32mreturn\u001b[0m \u001b[0mself\u001b[0m\u001b[1;33m.\u001b[0m\u001b[0mdispatch_exception\u001b[0m\u001b[1;33m(\u001b[0m\u001b[0mframe\u001b[0m\u001b[1;33m,\u001b[0m \u001b[0marg\u001b[0m\u001b[1;33m)\u001b[0m\u001b[1;33m\u001b[0m\u001b[1;33m\u001b[0m\u001b[0m\n",
      "\u001b[1;32mc:\\users\\shaur\\appdata\\local\\programs\\python\\python37\\lib\\bdb.py\u001b[0m in \u001b[0;36mdispatch_return\u001b[1;34m(self, frame, arg)\u001b[0m\n\u001b[0;32m    152\u001b[0m             \u001b[1;32mfinally\u001b[0m\u001b[1;33m:\u001b[0m\u001b[1;33m\u001b[0m\u001b[1;33m\u001b[0m\u001b[0m\n\u001b[0;32m    153\u001b[0m                 \u001b[0mself\u001b[0m\u001b[1;33m.\u001b[0m\u001b[0mframe_returning\u001b[0m \u001b[1;33m=\u001b[0m \u001b[1;32mNone\u001b[0m\u001b[1;33m\u001b[0m\u001b[1;33m\u001b[0m\u001b[0m\n\u001b[1;32m--> 154\u001b[1;33m             \u001b[1;32mif\u001b[0m \u001b[0mself\u001b[0m\u001b[1;33m.\u001b[0m\u001b[0mquitting\u001b[0m\u001b[1;33m:\u001b[0m \u001b[1;32mraise\u001b[0m \u001b[0mBdbQuit\u001b[0m\u001b[1;33m\u001b[0m\u001b[1;33m\u001b[0m\u001b[0m\n\u001b[0m\u001b[0;32m    155\u001b[0m             \u001b[1;31m# The user issued a 'next' or 'until' command.\u001b[0m\u001b[1;33m\u001b[0m\u001b[1;33m\u001b[0m\u001b[1;33m\u001b[0m\u001b[0m\n\u001b[0;32m    156\u001b[0m             \u001b[1;32mif\u001b[0m \u001b[0mself\u001b[0m\u001b[1;33m.\u001b[0m\u001b[0mstopframe\u001b[0m \u001b[1;32mis\u001b[0m \u001b[0mframe\u001b[0m \u001b[1;32mand\u001b[0m \u001b[0mself\u001b[0m\u001b[1;33m.\u001b[0m\u001b[0mstoplineno\u001b[0m \u001b[1;33m!=\u001b[0m \u001b[1;33m-\u001b[0m\u001b[1;36m1\u001b[0m\u001b[1;33m:\u001b[0m\u001b[1;33m\u001b[0m\u001b[1;33m\u001b[0m\u001b[0m\n",
      "\u001b[1;31mBdbQuit\u001b[0m: "
     ]
    }
   ],
   "source": [
    "# Used for detecting error in code (for debugging purposes)\n",
    "import pdb\n",
    "\n",
    "x = [3,1,2]\n",
    "y = 6\n",
    "z = 7\n",
    "\n",
    "result = y + z\n",
    "print(result)\n",
    "\n",
    "# Set a trace using Python Debugger\n",
    "pdb.set_trace()\n",
    "\n",
    "result2 = y+x # Error Here\n",
    "print(result2)"
   ]
  }
 ],
 "metadata": {
  "kernelspec": {
   "display_name": "Python 3",
   "language": "python",
   "name": "python3"
  },
  "language_info": {
   "codemirror_mode": {
    "name": "ipython",
    "version": 3
   },
   "file_extension": ".py",
   "mimetype": "text/x-python",
   "name": "python",
   "nbconvert_exporter": "python",
   "pygments_lexer": "ipython3",
   "version": "3.7.3"
  }
 },
 "nbformat": 4,
 "nbformat_minor": 2
}
